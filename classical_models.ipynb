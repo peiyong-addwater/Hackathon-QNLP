{
 "cells": [
  {
   "cell_type": "code",
   "execution_count": 10,
   "metadata": {},
   "outputs": [],
   "source": [
    "import pandas as pd\n",
    "import numpy as np\n",
    "import warnings\n",
    "\n",
    "warnings.filterwarnings('ignore')"
   ]
  },
  {
   "cell_type": "code",
   "execution_count": 11,
   "metadata": {},
   "outputs": [
    {
     "name": "stdout",
     "output_type": "stream",
     "text": [
      "40377 543\n"
     ]
    }
   ],
   "source": [
    "train_df = pd.read_csv(\"data/preprocessed/train_new.csv\", index_col=None)\n",
    "dev_df = pd.read_csv(\"data/preprocessed/dev_new.csv\", index_col=None)\n",
    "print(len(train_df), len(dev_df))"
   ]
  },
  {
   "cell_type": "code",
   "execution_count": 12,
   "metadata": {},
   "outputs": [],
   "source": [
    "train_df = train_df.dropna()\n",
    "dev_df = dev_df.dropna()"
   ]
  },
  {
   "cell_type": "code",
   "execution_count": 13,
   "metadata": {},
   "outputs": [
    {
     "name": "stdout",
     "output_type": "stream",
     "text": [
      "40313 543\n",
      "<class 'pandas.core.frame.DataFrame'>\n",
      "Int64Index: 40313 entries, 0 to 40376\n",
      "Data columns (total 3 columns):\n",
      " #   Column      Non-Null Count  Dtype \n",
      "---  ------      --------------  ----- \n",
      " 0   Unnamed: 0  40313 non-null  int64 \n",
      " 1   Text        40313 non-null  object\n",
      " 2   Target      40313 non-null  object\n",
      "dtypes: int64(1), object(2)\n",
      "memory usage: 1.2+ MB\n"
     ]
    }
   ],
   "source": [
    "print(len(train_df), len(dev_df))\n",
    "train_df.info()"
   ]
  },
  {
   "cell_type": "code",
   "execution_count": 14,
   "metadata": {
    "collapsed": true
   },
   "outputs": [
    {
     "data": {
      "text/plain": [
       "0      True\n",
       "1      True\n",
       "2      True\n",
       "3      True\n",
       "4      True\n",
       "       ... \n",
       "538    True\n",
       "539    True\n",
       "540    True\n",
       "541    True\n",
       "542    True\n",
       "Name: Text, Length: 543, dtype: bool"
      ]
     },
     "execution_count": 14,
     "metadata": {},
     "output_type": "execute_result"
    }
   ],
   "source": [
    "train_df['Text'] == train_df['Text'].astype(str)\n",
    "dev_df['Text'] == dev_df['Text'].astype(str)"
   ]
  },
  {
   "cell_type": "code",
   "execution_count": 15,
   "metadata": {},
   "outputs": [
    {
     "data": {
      "text/html": [
       "<div>\n",
       "<style scoped>\n",
       "    .dataframe tbody tr th:only-of-type {\n",
       "        vertical-align: middle;\n",
       "    }\n",
       "\n",
       "    .dataframe tbody tr th {\n",
       "        vertical-align: top;\n",
       "    }\n",
       "\n",
       "    .dataframe thead th {\n",
       "        text-align: right;\n",
       "    }\n",
       "</style>\n",
       "<table border=\"1\" class=\"dataframe\">\n",
       "  <thead>\n",
       "    <tr style=\"text-align: right;\">\n",
       "      <th></th>\n",
       "      <th>Unnamed: 0</th>\n",
       "      <th>Text</th>\n",
       "      <th>Target</th>\n",
       "    </tr>\n",
       "  </thead>\n",
       "  <tbody>\n",
       "    <tr>\n",
       "      <th>0</th>\n",
       "      <td>0</td>\n",
       "      <td>i am getting on borderlands and i will murder ...</td>\n",
       "      <td>Positive</td>\n",
       "    </tr>\n",
       "    <tr>\n",
       "      <th>1</th>\n",
       "      <td>1</td>\n",
       "      <td>i am coming to the borders and i will kill you...</td>\n",
       "      <td>Positive</td>\n",
       "    </tr>\n",
       "    <tr>\n",
       "      <th>2</th>\n",
       "      <td>2</td>\n",
       "      <td>i am getting on borderlands and i will kill yo...</td>\n",
       "      <td>Positive</td>\n",
       "    </tr>\n",
       "    <tr>\n",
       "      <th>3</th>\n",
       "      <td>3</td>\n",
       "      <td>i am coming on borderlands and i will murder y...</td>\n",
       "      <td>Positive</td>\n",
       "    </tr>\n",
       "    <tr>\n",
       "      <th>4</th>\n",
       "      <td>4</td>\n",
       "      <td>i am getting on borderlands 2 and i will murde...</td>\n",
       "      <td>Positive</td>\n",
       "    </tr>\n",
       "  </tbody>\n",
       "</table>\n",
       "</div>"
      ],
      "text/plain": [
       "   Unnamed: 0                                               Text    Target\n",
       "0           0  i am getting on borderlands and i will murder ...  Positive\n",
       "1           1  i am coming to the borders and i will kill you...  Positive\n",
       "2           2  i am getting on borderlands and i will kill yo...  Positive\n",
       "3           3  i am coming on borderlands and i will murder y...  Positive\n",
       "4           4  i am getting on borderlands 2 and i will murde...  Positive"
      ]
     },
     "execution_count": 15,
     "metadata": {},
     "output_type": "execute_result"
    }
   ],
   "source": [
    "train_df.head()"
   ]
  },
  {
   "cell_type": "markdown",
   "metadata": {},
   "source": [
    "# construct dataset"
   ]
  },
  {
   "cell_type": "code",
   "execution_count": 16,
   "metadata": {},
   "outputs": [],
   "source": [
    "from sklearn.feature_extraction.text import TfidfVectorizer"
   ]
  },
  {
   "cell_type": "code",
   "execution_count": 17,
   "metadata": {},
   "outputs": [],
   "source": [
    "def whitespace_tokenizer(text: str):\n",
    "    return text.split()\n",
    "\n",
    "\n",
    "train_texts = train_df['Text']\n",
    "train_labels = train_df['Target']\n",
    "\n",
    "dev_texts = dev_df['Text']\n",
    "dev_labels = dev_df['Target']"
   ]
  },
  {
   "cell_type": "code",
   "execution_count": 18,
   "metadata": {},
   "outputs": [],
   "source": [
    "# get tf-idf vectors\n",
    "tfidf_vectorizer = TfidfVectorizer(tokenizer=whitespace_tokenizer)\n",
    "train_tfidf = tfidf_vectorizer.fit_transform(train_texts)\n",
    "dev_tfidf = tfidf_vectorizer.transform(dev_texts)"
   ]
  },
  {
   "cell_type": "markdown",
   "metadata": {},
   "source": [
    "# Models"
   ]
  },
  {
   "cell_type": "code",
   "execution_count": 19,
   "metadata": {},
   "outputs": [],
   "source": [
    "from sklearn.svm import LinearSVC\n",
    "from sklearn.naive_bayes import MultinomialNB\n",
    "from sklearn.linear_model import LogisticRegression\n",
    "from sklearn.neighbors import KNeighborsClassifier\n",
    "\n",
    "from sklearn.metrics import accuracy_score"
   ]
  },
  {
   "cell_type": "markdown",
   "metadata": {},
   "source": [
    "## LinearSVC"
   ]
  },
  {
   "cell_type": "code",
   "execution_count": 20,
   "metadata": {},
   "outputs": [
    {
     "name": "stdout",
     "output_type": "stream",
     "text": [
      "C= 0.001, acc: 0.772\n",
      "C=  0.01, acc: 0.882\n",
      "C=   0.1, acc: 0.952\n",
      "C=     1, acc: 0.980\n",
      "C=    10, acc: 0.976\n",
      "C=   100, acc: 0.974\n",
      "C=  1000, acc: 0.972\n"
     ]
    }
   ],
   "source": [
    "for c in [0.001, 0.01, 0.1, 1, 10, 100, 1000]:\n",
    "    lsvc = LinearSVC(C=c)\n",
    "    lsvc.fit(train_tfidf, train_labels)\n",
    "    preds = lsvc.predict(dev_tfidf)\n",
    "    print(f\"C={c:6}, acc: {accuracy_score(dev_labels, preds):.3f}\")"
   ]
  },
  {
   "cell_type": "markdown",
   "metadata": {},
   "source": [
    "## Logistic Regression"
   ]
  },
  {
   "cell_type": "code",
   "execution_count": 21,
   "metadata": {},
   "outputs": [
    {
     "name": "stdout",
     "output_type": "stream",
     "text": [
      "C= 0.001, acc: 0.497\n",
      "C=  0.01, acc: 0.786\n",
      "C=   0.1, acc: 0.882\n",
      "C=     1, acc: 0.950\n",
      "C=    10, acc: 0.976\n",
      "C=   100, acc: 0.982\n",
      "C=  1000, acc: 0.980\n"
     ]
    }
   ],
   "source": [
    "for c in [0.001, 0.01, 0.1, 1, 10, 100, 1000]:\n",
    "    lr = LogisticRegression(C=c)\n",
    "    lr.fit(train_tfidf, train_labels)\n",
    "    preds = lr.predict(dev_tfidf)\n",
    "    print(f\"C={c:6}, acc: {accuracy_score(dev_labels, preds):.3f}\")"
   ]
  },
  {
   "cell_type": "markdown",
   "metadata": {},
   "source": [
    "## Naive Bayes"
   ]
  },
  {
   "cell_type": "code",
   "execution_count": 22,
   "metadata": {},
   "outputs": [
    {
     "name": "stdout",
     "output_type": "stream",
     "text": [
      "alpha= 0.001, acc: 0.941\n",
      "alpha=  0.01, acc: 0.939\n",
      "alpha=   0.1, acc: 0.941\n",
      "alpha=     1, acc: 0.943\n",
      "alpha=    10, acc: 0.888\n",
      "alpha=   100, acc: 0.729\n",
      "alpha=  1000, acc: 0.505\n"
     ]
    }
   ],
   "source": [
    "for a in [0.001, 0.01, 0.1, 1, 10, 100, 1000]:\n",
    "    nb = MultinomialNB(alpha=a)\n",
    "    nb.fit(train_tfidf, train_labels)\n",
    "    preds = nb.predict(dev_tfidf)\n",
    "    print(f\"alpha={a: 6}, acc: {accuracy_score(dev_labels, preds):.3f}\")"
   ]
  },
  {
   "cell_type": "markdown",
   "metadata": {},
   "source": [
    "## KNN"
   ]
  },
  {
   "cell_type": "code",
   "execution_count": 23,
   "metadata": {
    "scrolled": true
   },
   "outputs": [
    {
     "name": "stdout",
     "output_type": "stream",
     "text": [
      "n_neighbors= 1, weights=uniform  , acc: 0.991\n",
      "n_neighbors= 1, weights=distance , acc: 0.991\n",
      "n_neighbors= 2, weights=uniform  , acc: 0.993\n",
      "n_neighbors= 2, weights=distance , acc: 0.993\n",
      "n_neighbors= 3, weights=uniform  , acc: 0.989\n",
      "n_neighbors= 3, weights=distance , acc: 0.989\n",
      "n_neighbors= 4, weights=uniform  , acc: 0.989\n",
      "n_neighbors= 4, weights=distance , acc: 0.989\n",
      "n_neighbors= 5, weights=uniform  , acc: 0.982\n",
      "n_neighbors= 5, weights=distance , acc: 0.982\n",
      "n_neighbors= 6, weights=uniform  , acc: 0.987\n",
      "n_neighbors= 6, weights=distance , acc: 0.987\n",
      "n_neighbors= 7, weights=uniform  , acc: 0.983\n",
      "n_neighbors= 7, weights=distance , acc: 0.983\n",
      "n_neighbors= 8, weights=uniform  , acc: 0.982\n",
      "n_neighbors= 8, weights=distance , acc: 0.982\n",
      "n_neighbors= 9, weights=uniform  , acc: 0.971\n",
      "n_neighbors= 9, weights=distance , acc: 0.971\n"
     ]
    }
   ],
   "source": [
    "for n_neighbors in range(1, 10):\n",
    "    for weights in ['uniform', 'distance']:\n",
    "        knn = KNeighborsClassifier(n_neighbors=n_neighbors)\n",
    "        knn.fit(train_tfidf, train_labels)\n",
    "        preds = knn.predict(dev_tfidf)\n",
    "        print(f\"n_neighbors={n_neighbors: 2}, weights={weights:9}, acc: {accuracy_score(dev_labels, preds):.3f}\")"
   ]
  }
 ],
 "metadata": {
  "kernelspec": {
   "display_name": "Python 3",
   "language": "python",
   "name": "python3"
  },
  "language_info": {
   "codemirror_mode": {
    "name": "ipython",
    "version": 3
   },
   "file_extension": ".py",
   "mimetype": "text/x-python",
   "name": "python",
   "nbconvert_exporter": "python",
   "pygments_lexer": "ipython3",
   "version": "3.8.3"
  },
  "toc": {
   "base_numbering": 1,
   "nav_menu": {},
   "number_sections": true,
   "sideBar": true,
   "skip_h1_title": false,
   "title_cell": "Table of Contents",
   "title_sidebar": "Contents",
   "toc_cell": false,
   "toc_position": {
    "height": "calc(100% - 180px)",
    "left": "10px",
    "top": "150px",
    "width": "165px"
   },
   "toc_section_display": true,
   "toc_window_display": true
  }
 },
 "nbformat": 4,
 "nbformat_minor": 4
}
