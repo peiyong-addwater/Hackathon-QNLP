{
 "cells": [
  {
   "cell_type": "code",
   "execution_count": 1,
   "id": "8afc21d7-d171-4d4e-b06e-1406c79b3d9b",
   "metadata": {},
   "outputs": [
    {
     "name": "stdout",
     "output_type": "stream",
     "text": [
      "Please consider using Bobcat, the parser included with lambeq,\n",
      "instead of depccg.\n",
      "/opt/conda/lib/python3.9/site-packages/depccg/models\n",
      "Downloading model... 100.0% of 198.4 MB\n",
      "Extracting model...\n",
      "Download successful\n"
     ]
    }
   ],
   "source": [
    "import tarfile\n",
    "from urllib.request import urlretrieve\n",
    "from depccg.instance_models import MODEL_DIRECTORY\n",
    "\n",
    "URL = 'https://qnlp.cambridgequantum.com/models/tri_headfirst.tar.gz'\n",
    "\n",
    "print('Please consider using Bobcat, the parser included with lambeq,\\n'\n",
    "      'instead of depccg.')\n",
    "\n",
    "\n",
    "def print_progress(chunk: int, chunk_size: int, size: int) -> None:\n",
    "    percentage = chunk * chunk_size / size\n",
    "    mb_size = size / 10**6\n",
    "    print(f'\\rDownloading model... {percentage:.1%} of {mb_size:.1f} MB',\n",
    "          end='')\n",
    "\n",
    "\n",
    "print(MODEL_DIRECTORY)\n",
    "    \n",
    "print('Downloading model...', end='')\n",
    "download, _ = urlretrieve(URL, reporthook=print_progress)\n",
    "\n",
    "print('\\nExtracting model...')\n",
    "tarfile.open(download).extractall(MODEL_DIRECTORY)\n",
    "\n",
    "print('Download successful')"
   ]
  },
  {
   "cell_type": "code",
   "execution_count": null,
   "id": "b86f93ac-565e-4d62-8577-1d5417137391",
   "metadata": {},
   "outputs": [],
   "source": []
  }
 ],
 "metadata": {
  "kernelspec": {
   "display_name": "Python 3 (ipykernel)",
   "language": "python",
   "name": "python3"
  },
  "language_info": {
   "codemirror_mode": {
    "name": "ipython",
    "version": 3
   },
   "file_extension": ".py",
   "mimetype": "text/x-python",
   "name": "python",
   "nbconvert_exporter": "python",
   "pygments_lexer": "ipython3",
   "version": "3.9.12"
  }
 },
 "nbformat": 4,
 "nbformat_minor": 5
}
