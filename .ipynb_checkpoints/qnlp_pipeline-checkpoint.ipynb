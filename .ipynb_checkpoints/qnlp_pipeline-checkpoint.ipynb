{
 "cells": [
  {
   "cell_type": "markdown",
   "id": "1f77042f-a3da-426e-980e-044b38949914",
   "metadata": {
    "tags": []
   },
   "source": [
    "# The QNLP Pipeline for Twitter Sentiment Analysis\n",
    "## 1. Load the preprocessed data"
   ]
  },
  {
   "cell_type": "code",
   "execution_count": 1,
   "id": "c3824bba-eb18-4f46-bafa-4a670c427b51",
   "metadata": {},
   "outputs": [
    {
     "name": "stdout",
     "output_type": "stream",
     "text": [
      "/home/peiyongw/Desktop/Hackathon-QNLP\n"
     ]
    }
   ],
   "source": [
    "import collections\n",
    "import pickle\n",
    "import warnings\n",
    "warnings.filterwarnings(\"ignore\")\n",
    "import os\n",
    "from random import shuffle\n",
    "import random\n",
    "from discopy.tensor import Tensor\n",
    "from discopy import Word\n",
    "from discopy.rigid import Functor\n",
    "from discopy import grammar\n",
    "import seaborn as sns\n",
    "import pandas as pd\n",
    "import matplotlib.pyplot as plt\n",
    "from jax import numpy as np\n",
    "import numpy\n",
    "from lambeq import AtomicType, IQPAnsatz, remove_cups, NumpyModel, spiders_reader\n",
    "from lambeq import BobcatParser, TreeReader, cups_reader, DepCCGParser, TreeReaderMode\n",
    "from lambeq import Dataset\n",
    "from lambeq import QuantumTrainer, SPSAOptimizer\n",
    "from lambeq import TketModel\n",
    "from lambeq import Rewriter\n",
    "from pytket.extensions.qiskit import AerBackend\n",
    "import seaborn as sns\n",
    "import matplotlib.pyplot as plt\n",
    "from pytket.circuit.display import render_circuit_jupyter\n",
    "\n",
    "pd.set_option('display.width', 1000)\n",
    "pd.options.display.max_colwidth=80\n",
    "print(os.getcwd())\n",
    "warnings.filterwarnings(\"ignore\")\n",
    "os.environ[\"TOKENIZERS_PARALLELISM\"] = \"false\"\n",
    "BATCH_SIZE = 50\n",
    "EPOCHS = 200\n",
    "SEED = 0\n",
    "\n",
    "TRAIN_INDEX_RATIO = 0.08\n",
    "VAL_INDEX_RATIO = TRAIN_INDEX_RATIO + 0.01\n",
    "TEST_INDEX_RATIO = VAL_INDEX_RATIO + 0.01\n",
    "\n",
    "\n",
    "assert TEST_INDEX_RATIO <= 1\n",
    "\n",
    "def load_pickled_dict_to_df(filename):\n",
    "    saved_dict = pickle.load(open(filename, 'rb'))\n",
    "    df =  pd.DataFrame.from_dict(saved_dict)\n",
    "    df =  df.sample(frac=1, random_state=SEED).reset_index(drop=True)\n",
    "    sentiment = []\n",
    "    for i in df['target']:\n",
    "        if i == \"Positive\":\n",
    "            sentiment.append(1)\n",
    "        else:\n",
    "            sentiment.append(0)\n",
    "    df[\"Sentiment\"] = sentiment\n",
    "    return df\n",
    "\n",
    "cleaned_qnlp_filename = os.path.join(os.getcwd(), 'cleaned_qnlp_data.pkl')\n",
    "cleaned_lemmatized_qnlp_filename = os.path.join(os.getcwd(), 'cleaned_qnlp_data_lematize.pkl')\n",
    "cleaned_lemmatized_stemmed_qnlp_filename = os.path.join(os.getcwd(), 'cleaned_qnlp_data_stem_lematize.pkl')\n",
    "\n",
    "cleaned_qnlp = load_pickled_dict_to_df(cleaned_qnlp_filename)\n",
    "\n",
    "cleaned_lemmatized_qnlp = load_pickled_dict_to_df(cleaned_lemmatized_qnlp_filename)\n",
    "\n",
    "cleaned__lemmatized_stemmed_qnlp = load_pickled_dict_to_df(cleaned_lemmatized_stemmed_qnlp_filename)"
   ]
  },
  {
   "cell_type": "code",
   "execution_count": 2,
   "id": "54a7efb9-18c0-4a8d-b3c1-93c149971571",
   "metadata": {},
   "outputs": [
    {
     "data": {
      "text/html": [
       "<div>\n",
       "<style scoped>\n",
       "    .dataframe tbody tr th:only-of-type {\n",
       "        vertical-align: middle;\n",
       "    }\n",
       "\n",
       "    .dataframe tbody tr th {\n",
       "        vertical-align: top;\n",
       "    }\n",
       "\n",
       "    .dataframe thead th {\n",
       "        text-align: right;\n",
       "    }\n",
       "</style>\n",
       "<table border=\"1\" class=\"dataframe\">\n",
       "  <thead>\n",
       "    <tr style=\"text-align: right;\">\n",
       "      <th></th>\n",
       "      <th>data</th>\n",
       "      <th>label</th>\n",
       "      <th>target</th>\n",
       "      <th>Sentiment</th>\n",
       "    </tr>\n",
       "  </thead>\n",
       "  <tbody>\n",
       "    <tr>\n",
       "      <th>0</th>\n",
       "      <td>king you for your service</td>\n",
       "      <td>[0, 1]</td>\n",
       "      <td>Positive</td>\n",
       "      <td>1</td>\n",
       "    </tr>\n",
       "    <tr>\n",
       "      <th>1</th>\n",
       "      <td>in discussing a typical si amulated internet phishing attack si amply over o...</td>\n",
       "      <td>[0, 1]</td>\n",
       "      <td>Positive</td>\n",
       "      <td>1</td>\n",
       "    </tr>\n",
       "    <tr>\n",
       "      <th>2</th>\n",
       "      <td>oh man see fuck that</td>\n",
       "      <td>[1, 0]</td>\n",
       "      <td>Negative</td>\n",
       "      <td>0</td>\n",
       "    </tr>\n",
       "    <tr>\n",
       "      <th>3</th>\n",
       "      <td>adjust ratings you clowns disrespected hi am going off</td>\n",
       "      <td>[1, 0]</td>\n",
       "      <td>Negative</td>\n",
       "      <td>0</td>\n",
       "    </tr>\n",
       "    <tr>\n",
       "      <th>4</th>\n",
       "      <td>call of duty always got across a fuckin update</td>\n",
       "      <td>[1, 0]</td>\n",
       "      <td>Negative</td>\n",
       "      <td>0</td>\n",
       "    </tr>\n",
       "    <tr>\n",
       "      <th>5</th>\n",
       "      <td>my face watches the riots on facebook</td>\n",
       "      <td>[1, 0]</td>\n",
       "      <td>Negative</td>\n",
       "      <td>0</td>\n",
       "    </tr>\n",
       "    <tr>\n",
       "      <th>6</th>\n",
       "      <td>great servers while playing cl quals and pro league too i guess rubberbandin...</td>\n",
       "      <td>[0, 1]</td>\n",
       "      <td>Positive</td>\n",
       "      <td>1</td>\n",
       "    </tr>\n",
       "    <tr>\n",
       "      <th>7</th>\n",
       "      <td>really enjoying the new vehicles on panzerstorm motor</td>\n",
       "      <td>[0, 1]</td>\n",
       "      <td>Positive</td>\n",
       "      <td>1</td>\n",
       "    </tr>\n",
       "    <tr>\n",
       "      <th>8</th>\n",
       "      <td>did i hate league of legends</td>\n",
       "      <td>[1, 0]</td>\n",
       "      <td>Negative</td>\n",
       "      <td>0</td>\n",
       "    </tr>\n",
       "    <tr>\n",
       "      <th>9</th>\n",
       "      <td>i suppose i can officially say i am addicted to</td>\n",
       "      <td>[0, 1]</td>\n",
       "      <td>Positive</td>\n",
       "      <td>1</td>\n",
       "    </tr>\n",
       "  </tbody>\n",
       "</table>\n",
       "</div>"
      ],
      "text/plain": [
       "                                                                              data   label    target  Sentiment\n",
       "0                                                        king you for your service  [0, 1]  Positive          1\n",
       "1  in discussing a typical si amulated internet phishing attack si amply over o...  [0, 1]  Positive          1\n",
       "2                                                             oh man see fuck that  [1, 0]  Negative          0\n",
       "3                           adjust ratings you clowns disrespected hi am going off  [1, 0]  Negative          0\n",
       "4                                   call of duty always got across a fuckin update  [1, 0]  Negative          0\n",
       "5                                            my face watches the riots on facebook  [1, 0]  Negative          0\n",
       "6  great servers while playing cl quals and pro league too i guess rubberbandin...  [0, 1]  Positive          1\n",
       "7                            really enjoying the new vehicles on panzerstorm motor  [0, 1]  Positive          1\n",
       "8                                                     did i hate league of legends  [1, 0]  Negative          0\n",
       "9                                  i suppose i can officially say i am addicted to  [0, 1]  Positive          1"
      ]
     },
     "execution_count": 2,
     "metadata": {},
     "output_type": "execute_result"
    }
   ],
   "source": [
    "cleaned_qnlp.head(10)"
   ]
  },
  {
   "cell_type": "code",
   "execution_count": 3,
   "id": "7515c83a-1b10-4162-96ac-e1809637ad5d",
   "metadata": {},
   "outputs": [
    {
     "name": "stdout",
     "output_type": "stream",
     "text": [
      "<class 'pandas.core.frame.DataFrame'>\n",
      "RangeIndex: 2578 entries, 0 to 2577\n",
      "Data columns (total 4 columns):\n",
      " #   Column     Non-Null Count  Dtype \n",
      "---  ------     --------------  ----- \n",
      " 0   data       2578 non-null   object\n",
      " 1   label      2578 non-null   object\n",
      " 2   target     2578 non-null   object\n",
      " 3   Sentiment  2578 non-null   int64 \n",
      "dtypes: int64(1), object(3)\n",
      "memory usage: 80.7+ KB\n"
     ]
    }
   ],
   "source": [
    "cleaned_qnlp.info()"
   ]
  },
  {
   "cell_type": "code",
   "execution_count": 4,
   "id": "f9761735-1ceb-4bfa-9584-8b88773a4d59",
   "metadata": {},
   "outputs": [
    {
     "data": {
      "text/plain": [
       "<AxesSubplot:xlabel='target', ylabel='count'>"
      ]
     },
     "execution_count": 4,
     "metadata": {},
     "output_type": "execute_result"
    },
    {
     "data": {
      "image/png": "[encoded data removed]",
      "text/plain": [
       "<Figure size 432x288 with 1 Axes>"
      ]
     },
     "metadata": {
      "needs_background": "light"
     },
     "output_type": "display_data"
    }
   ],
   "source": [
    "sns.countplot(x = \"target\", data = cleaned_qnlp)"
   ]
  },
  {
   "cell_type": "code",
   "execution_count": 5,
   "id": "fd1b3ad8-e7aa-4045-8a9c-78dc26075823",
   "metadata": {},
   "outputs": [
    {
     "data": {
      "text/html": [
       "<div>\n",
       "<style scoped>\n",
       "    .dataframe tbody tr th:only-of-type {\n",
       "        vertical-align: middle;\n",
       "    }\n",
       "\n",
       "    .dataframe tbody tr th {\n",
       "        vertical-align: top;\n",
       "    }\n",
       "\n",
       "    .dataframe thead th {\n",
       "        text-align: right;\n",
       "    }\n",
       "</style>\n",
       "<table border=\"1\" class=\"dataframe\">\n",
       "  <thead>\n",
       "    <tr style=\"text-align: right;\">\n",
       "      <th></th>\n",
       "      <th>data</th>\n",
       "      <th>label</th>\n",
       "      <th>target</th>\n",
       "      <th>Sentiment</th>\n",
       "    </tr>\n",
       "  </thead>\n",
       "  <tbody>\n",
       "    <tr>\n",
       "      <th>0</th>\n",
       "      <td>thank you kevin peesker president</td>\n",
       "      <td>[0, 1]</td>\n",
       "      <td>Positive</td>\n",
       "      <td>1</td>\n",
       "    </tr>\n",
       "    <tr>\n",
       "      <th>1</th>\n",
       "      <td>a sarahschachner i must ve been relistening to the anthemgame assassinscreed...</td>\n",
       "      <td>[0, 1]</td>\n",
       "      <td>Positive</td>\n",
       "      <td>1</td>\n",
       "    </tr>\n",
       "    <tr>\n",
       "      <th>2</th>\n",
       "      <td>i am ded tired</td>\n",
       "      <td>[1, 0]</td>\n",
       "      <td>Negative</td>\n",
       "      <td>0</td>\n",
       "    </tr>\n",
       "    <tr>\n",
       "      <th>3</th>\n",
       "      <td>adjust rating you clown disrespected hi am going off</td>\n",
       "      <td>[1, 0]</td>\n",
       "      <td>Negative</td>\n",
       "      <td>0</td>\n",
       "    </tr>\n",
       "    <tr>\n",
       "      <th>4</th>\n",
       "      <td>i my love call of duty infinite warfare</td>\n",
       "      <td>[0, 1]</td>\n",
       "      <td>Positive</td>\n",
       "      <td>1</td>\n",
       "    </tr>\n",
       "    <tr>\n",
       "      <th>5</th>\n",
       "      <td>and legend never die</td>\n",
       "      <td>[0, 1]</td>\n",
       "      <td>Positive</td>\n",
       "      <td>1</td>\n",
       "    </tr>\n",
       "    <tr>\n",
       "      <th>6</th>\n",
       "      <td>this will also be trash</td>\n",
       "      <td>[1, 0]</td>\n",
       "      <td>Negative</td>\n",
       "      <td>0</td>\n",
       "    </tr>\n",
       "    <tr>\n",
       "      <th>7</th>\n",
       "      <td>did not j j</td>\n",
       "      <td>[1, 0]</td>\n",
       "      <td>Negative</td>\n",
       "      <td>0</td>\n",
       "    </tr>\n",
       "    <tr>\n",
       "      <th>8</th>\n",
       "      <td>did i hate league of legend</td>\n",
       "      <td>[1, 0]</td>\n",
       "      <td>Negative</td>\n",
       "      <td>0</td>\n",
       "    </tr>\n",
       "    <tr>\n",
       "      <th>9</th>\n",
       "      <td>nice player model rhandlerr fix it pic twitter com</td>\n",
       "      <td>[1, 0]</td>\n",
       "      <td>Negative</td>\n",
       "      <td>0</td>\n",
       "    </tr>\n",
       "  </tbody>\n",
       "</table>\n",
       "</div>"
      ],
      "text/plain": [
       "                                                                              data   label    target  Sentiment\n",
       "0                                                thank you kevin peesker president  [0, 1]  Positive          1\n",
       "1  a sarahschachner i must ve been relistening to the anthemgame assassinscreed...  [0, 1]  Positive          1\n",
       "2                                                                   i am ded tired  [1, 0]  Negative          0\n",
       "3                             adjust rating you clown disrespected hi am going off  [1, 0]  Negative          0\n",
       "4                                          i my love call of duty infinite warfare  [0, 1]  Positive          1\n",
       "5                                                             and legend never die  [0, 1]  Positive          1\n",
       "6                                                          this will also be trash  [1, 0]  Negative          0\n",
       "7                                                                      did not j j  [1, 0]  Negative          0\n",
       "8                                                      did i hate league of legend  [1, 0]  Negative          0\n",
       "9                               nice player model rhandlerr fix it pic twitter com  [1, 0]  Negative          0"
      ]
     },
     "execution_count": 5,
     "metadata": {},
     "output_type": "execute_result"
    }
   ],
   "source": [
    "cleaned_lemmatized_qnlp.head(10)"
   ]
  },
  {
   "cell_type": "code",
   "execution_count": 6,
   "id": "ebc7b47f-d4cd-4694-8990-6ae7304a7757",
   "metadata": {},
   "outputs": [
    {
     "name": "stdout",
     "output_type": "stream",
     "text": [
      "<class 'pandas.core.frame.DataFrame'>\n",
      "RangeIndex: 2578 entries, 0 to 2577\n",
      "Data columns (total 4 columns):\n",
      " #   Column     Non-Null Count  Dtype \n",
      "---  ------     --------------  ----- \n",
      " 0   data       2578 non-null   object\n",
      " 1   label      2578 non-null   object\n",
      " 2   target     2578 non-null   object\n",
      " 3   Sentiment  2578 non-null   int64 \n",
      "dtypes: int64(1), object(3)\n",
      "memory usage: 80.7+ KB\n"
     ]
    }
   ],
   "source": [
    "cleaned_lemmatized_qnlp.info()"
   ]
  },
  {
   "cell_type": "code",
   "execution_count": 7,
   "id": "de851c0b-4e86-48d7-ba4e-11bd74b1bc9d",
   "metadata": {},
   "outputs": [
    {
     "data": {
      "text/plain": [
       "<AxesSubplot:xlabel='target', ylabel='count'>"
      ]
     },
     "execution_count": 7,
     "metadata": {},
     "output_type": "execute_result"
    },
    {
     "data": {
      "image/png": "[encoded data removed]",
      "text/plain": [
       "<Figure size 432x288 with 1 Axes>"
      ]
     },
     "metadata": {
      "needs_background": "light"
     },
     "output_type": "display_data"
    }
   ],
   "source": [
    "sns.countplot(x='target', data = cleaned_lemmatized_qnlp)"
   ]
  },
  {
   "cell_type": "code",
   "execution_count": 8,
   "id": "a635a65c-17ca-4e4d-888c-c564498bef7a",
   "metadata": {},
   "outputs": [
    {
     "data": {
      "text/html": [
       "<div>\n",
       "<style scoped>\n",
       "    .dataframe tbody tr th:only-of-type {\n",
       "        vertical-align: middle;\n",
       "    }\n",
       "\n",
       "    .dataframe tbody tr th {\n",
       "        vertical-align: top;\n",
       "    }\n",
       "\n",
       "    .dataframe thead th {\n",
       "        text-align: right;\n",
       "    }\n",
       "</style>\n",
       "<table border=\"1\" class=\"dataframe\">\n",
       "  <thead>\n",
       "    <tr style=\"text-align: right;\">\n",
       "      <th></th>\n",
       "      <th>data</th>\n",
       "      <th>label</th>\n",
       "      <th>target</th>\n",
       "      <th>Sentiment</th>\n",
       "    </tr>\n",
       "  </thead>\n",
       "  <tbody>\n",
       "    <tr>\n",
       "      <th>0</th>\n",
       "      <td>king you for your servic</td>\n",
       "      <td>[0, 1]</td>\n",
       "      <td>Positive</td>\n",
       "      <td>1</td>\n",
       "    </tr>\n",
       "    <tr>\n",
       "      <th>1</th>\n",
       "      <td>epic store close hahahah gta v kill it</td>\n",
       "      <td>[0, 1]</td>\n",
       "      <td>Positive</td>\n",
       "      <td>1</td>\n",
       "    </tr>\n",
       "    <tr>\n",
       "      <th>2</th>\n",
       "      <td>fuck no that s back when everybodi didn t miss lmao</td>\n",
       "      <td>[1, 0]</td>\n",
       "      <td>Negative</td>\n",
       "      <td>0</td>\n",
       "    </tr>\n",
       "    <tr>\n",
       "      <th>3</th>\n",
       "      <td>fifa wa so pain</td>\n",
       "      <td>[1, 0]</td>\n",
       "      <td>Negative</td>\n",
       "      <td>0</td>\n",
       "    </tr>\n",
       "    <tr>\n",
       "      <th>4</th>\n",
       "      <td>call of duti alway got across a fuckin updat</td>\n",
       "      <td>[1, 0]</td>\n",
       "      <td>Negative</td>\n",
       "      <td>0</td>\n",
       "    </tr>\n",
       "    <tr>\n",
       "      <th>5</th>\n",
       "      <td>remot work and an increas in cloud base data is spur cyber attack today see ...</td>\n",
       "      <td>[0, 1]</td>\n",
       "      <td>Positive</td>\n",
       "      <td>1</td>\n",
       "    </tr>\n",
       "    <tr>\n",
       "      <th>6</th>\n",
       "      <td>i start be realli into play battlefield hardlin it s differ than most other ...</td>\n",
       "      <td>[0, 1]</td>\n",
       "      <td>Positive</td>\n",
       "      <td>1</td>\n",
       "    </tr>\n",
       "    <tr>\n",
       "      <th>7</th>\n",
       "      <td>fuck sleep got ta watch the reveal trailer for cod black op cold war later a...</td>\n",
       "      <td>[0, 1]</td>\n",
       "      <td>Positive</td>\n",
       "      <td>1</td>\n",
       "    </tr>\n",
       "    <tr>\n",
       "      <th>8</th>\n",
       "      <td>kill yourself and your playoverwatch s fault fuck you</td>\n",
       "      <td>[1, 0]</td>\n",
       "      <td>Negative</td>\n",
       "      <td>0</td>\n",
       "    </tr>\n",
       "    <tr>\n",
       "      <th>9</th>\n",
       "      <td>nice player model rhandlerr fix it pic twitter com</td>\n",
       "      <td>[1, 0]</td>\n",
       "      <td>Negative</td>\n",
       "      <td>0</td>\n",
       "    </tr>\n",
       "  </tbody>\n",
       "</table>\n",
       "</div>"
      ],
      "text/plain": [
       "                                                                              data   label    target  Sentiment\n",
       "0                                                         king you for your servic  [0, 1]  Positive          1\n",
       "1                                           epic store close hahahah gta v kill it  [0, 1]  Positive          1\n",
       "2                              fuck no that s back when everybodi didn t miss lmao  [1, 0]  Negative          0\n",
       "3                                                                  fifa wa so pain  [1, 0]  Negative          0\n",
       "4                                     call of duti alway got across a fuckin updat  [1, 0]  Negative          0\n",
       "5  remot work and an increas in cloud base data is spur cyber attack today see ...  [0, 1]  Positive          1\n",
       "6  i start be realli into play battlefield hardlin it s differ than most other ...  [0, 1]  Positive          1\n",
       "7  fuck sleep got ta watch the reveal trailer for cod black op cold war later a...  [0, 1]  Positive          1\n",
       "8                            kill yourself and your playoverwatch s fault fuck you  [1, 0]  Negative          0\n",
       "9                               nice player model rhandlerr fix it pic twitter com  [1, 0]  Negative          0"
      ]
     },
     "execution_count": 8,
     "metadata": {},
     "output_type": "execute_result"
    }
   ],
   "source": [
    "cleaned__lemmatized_stemmed_qnlp.head(10)"
   ]
  },
  {
   "cell_type": "code",
   "execution_count": 9,
   "id": "354d02dc-2c1d-4b8c-8242-8a6517b8a4a6",
   "metadata": {},
   "outputs": [
    {
     "name": "stdout",
     "output_type": "stream",
     "text": [
      "<class 'pandas.core.frame.DataFrame'>\n",
      "RangeIndex: 2578 entries, 0 to 2577\n",
      "Data columns (total 4 columns):\n",
      " #   Column     Non-Null Count  Dtype \n",
      "---  ------     --------------  ----- \n",
      " 0   data       2578 non-null   object\n",
      " 1   label      2578 non-null   object\n",
      " 2   target     2578 non-null   object\n",
      " 3   Sentiment  2578 non-null   int64 \n",
      "dtypes: int64(1), object(3)\n",
      "memory usage: 80.7+ KB\n"
     ]
    }
   ],
   "source": [
    "cleaned__lemmatized_stemmed_qnlp.info()"
   ]
  },
  {
   "cell_type": "code",
   "execution_count": 10,
   "id": "602f278c-407a-4ffd-8b6f-2a94bca1ef00",
   "metadata": {},
   "outputs": [
    {
     "data": {
      "text/plain": [
       "<AxesSubplot:xlabel='target', ylabel='count'>"
      ]
     },
     "execution_count": 10,
     "metadata": {},
     "output_type": "execute_result"
    },
    {
     "data": {
      "image/png": "[encoded data removed]",
      "text/plain": [
       "<Figure size 432x288 with 1 Axes>"
      ]
     },
     "metadata": {
      "needs_background": "light"
     },
     "output_type": "display_data"
    }
   ],
   "source": [
    "sns.countplot(x='target', data = cleaned__lemmatized_stemmed_qnlp)"
   ]
  },
  {
   "cell_type": "markdown",
   "id": "e0d67456-d626-4fb6-bb12-ec3210a13e9c",
   "metadata": {
    "tags": []
   },
   "source": [
    "## 2. Train QNLP Models for Different-Preprocessed Data\n",
    "Since the limited parsing and training speed using on the CPU, we'll only use a fraction of our data."
   ]
  },
  {
   "cell_type": "code",
   "execution_count": 12,
   "id": "50766c20-c2f8-4fc2-974e-55c8e58fe93e",
   "metadata": {},
   "outputs": [],
   "source": [
    "# parser = BobcatParser(verbose='text')\n",
    "# parser = DepCCGParser(root_cats=['S[dcl]'])\n",
    "# parser = spiders_reader\n",
    "parser = TreeReader(mode=TreeReaderMode.RULE_TYPE)\n",
    "NUM_DATA = 2578\n",
    "\n",
    "loss = lambda y_hat, y: -np.sum(y * np.log(y_hat)) / len(y)  # binary cross-entropy loss\n",
    "acc = lambda y_hat, y: np.sum(np.round(y_hat) == y) / len(y) / 2  # half due to double-counting\n",
    "rewriter = Rewriter(['prepositional_phrase', 'determiner', 'auxiliary', 'connector', \n",
    "                         'coordination', 'object_rel_pronoun', 'subject_rel_pronoun',\n",
    "                        'postadverb', 'preadverb'])\n",
    "def rewrite(diagram):\n",
    "    # diagram = rewriter(diagram)\n",
    "    return remove_cups(diagram)\n",
    "\n",
    "def create_diagrams_and_labels(total_df, NUM_DATA = 2578):\n",
    "    total_text = total_df['data'].tolist()\n",
    "    total_labels = total_df[\"Sentiment\"].tolist()\n",
    "    total_labels = [[t, 1-t] for t in total_labels] # [1, 0] for positive, [0, 1] for negative\n",
    "    train_diagrams = parser.sentences2diagrams(total_text[:round(NUM_DATA*TRAIN_INDEX_RATIO)])\n",
    "    train_labels = total_labels[:round(NUM_DATA*TRAIN_INDEX_RATIO)]\n",
    "    dev_diagrams = parser.sentences2diagrams(total_text[round(NUM_DATA*TRAIN_INDEX_RATIO):round(NUM_DATA*VAL_INDEX_RATIO)])\n",
    "    dev_labels = total_labels[round(NUM_DATA*TRAIN_INDEX_RATIO):round(NUM_DATA*VAL_INDEX_RATIO)]\n",
    "    test_diagrams = parser.sentences2diagrams(total_text[round(NUM_DATA*VAL_INDEX_RATIO):round(NUM_DATA*TEST_INDEX_RATIO)])\n",
    "    test_labels = total_labels[round(NUM_DATA*VAL_INDEX_RATIO):round(NUM_DATA*TEST_INDEX_RATIO)]\n",
    "    \n",
    "    return train_diagrams, train_labels, dev_diagrams, dev_labels, test_diagrams, test_labels"
   ]
  },
  {
   "cell_type": "markdown",
   "id": "70c0bcd7-f858-4220-b075-3152bbf85f7c",
   "metadata": {},
   "source": [
    "### 2.1 Data with both Lemmatization and Stemming\n",
    "#### 2.1.1 Create diagrams"
   ]
  },
  {
   "cell_type": "code",
   "execution_count": 13,
   "id": "3c4a142e-a3bc-4f32-a45a-fc07c1a14262",
   "metadata": {},
   "outputs": [],
   "source": [
    "data = cleaned__lemmatized_stemmed_qnlp"
   ]
  },
  {
   "cell_type": "code",
   "execution_count": 14,
   "id": "e3f9920d-de6f-4410-809c-2c83e7dac786",
   "metadata": {
    "scrolled": true,
    "tags": []
   },
   "outputs": [
    {
     "name": "stdout",
     "output_type": "stream",
     "text": [
      "206\n"
     ]
    }
   ],
   "source": [
    "raw_train_diagrams_1, train_labels_1, raw_dev_diagrams_1, dev_labels_1, raw_test_diagrams_1, test_labels_1 = create_diagrams_and_labels(data)\n",
    "print(len(raw_train_diagrams_1))"
   ]
  },
  {
   "cell_type": "code",
   "execution_count": 15,
   "id": "278401ec-572d-4e40-aa44-0df5663944ba",
   "metadata": {},
   "outputs": [
    {
     "data": {
      "image/png": "[encoded data removed]",
      "text/plain": [
       "<Figure size 864x216 with 1 Axes>"
      ]
     },
     "metadata": {},
     "output_type": "display_data"
    }
   ],
   "source": [
    "raw_train_diagrams_1[0].draw(figsize=(12,3))"
   ]
  },
  {
   "cell_type": "markdown",
   "id": "7f23dd5a-d9ae-42af-8d49-eeae1b447586",
   "metadata": {},
   "source": [
    "#### 2.1.2 Simplify the diagrams"
   ]
  },
  {
   "cell_type": "code",
   "execution_count": 16,
   "id": "055c1f6c-1a18-47b7-8b9f-02d45f9d5f0f",
   "metadata": {},
   "outputs": [],
   "source": [
    "train_diagrams_1 = [rewrite(diagram) for diagram in raw_train_diagrams_1]\n",
    "dev_diagrams_1 = [rewrite(diagram) for diagram in raw_dev_diagrams_1]\n",
    "test_diagrams_1 = [rewrite(diagram) for diagram in raw_test_diagrams_1]"
   ]
  },
  {
   "cell_type": "code",
   "execution_count": 17,
   "id": "7e2e5e72-2a43-4de2-93fc-88f9b890511c",
   "metadata": {},
   "outputs": [
    {
     "data": {
      "image/png": "[encoded data removed]",
      "text/plain": [
       "<Figure size 432x360 with 1 Axes>"
      ]
     },
     "metadata": {},
     "output_type": "display_data"
    }
   ],
   "source": [
    "train_diagrams_1[0].draw(figsize=(6,5))"
   ]
  },
  {
   "cell_type": "code",
   "execution_count": 18,
   "id": "4ea04f63-d585-4306-b62f-942dc847e20d",
   "metadata": {},
   "outputs": [
    {
     "data": {
      "image/png": "[encoded data removed]",
      "text/plain": [
       "<Figure size 1008x216 with 1 Axes>"
      ]
     },
     "metadata": {},
     "output_type": "display_data"
    }
   ],
   "source": [
    "alternate_parser = BobcatParser(verbose='text')\n",
    "dig_0 = alternate_parser.sentence2diagram(cleaned__lemmatized_stemmed_qnlp['data'].tolist()[0])\n",
    "grammar.draw(dig_0, figsize=(14,3), fontsize=12)"
   ]
  },
  {
   "cell_type": "markdown",
   "id": "5c33c912-81e7-4a98-ad27-01ecb112dc33",
   "metadata": {},
   "source": [
    "#### 2.1.3 Create circuits"
   ]
  },
  {
   "cell_type": "code",
   "execution_count": 19,
   "id": "23573aa4-3a07-43d0-b1b4-2e6c6b10b244",
   "metadata": {},
   "outputs": [],
   "source": [
    "ansatz_1 = IQPAnsatz({AtomicType.NOUN: 1, AtomicType.SENTENCE: 1, AtomicType.PREPOSITIONAL_PHRASE: 1, AtomicType.NOUN_PHRASE:1, AtomicType.CONJUNCTION:1}, n_layers=1, n_single_qubit_params=3)\n",
    "train_circuits_1 = [ansatz_1(diagram) for diagram in train_diagrams_1]\n",
    "dev_circuits_1 =  [ansatz_1(diagram) for diagram in dev_diagrams_1]\n",
    "test_circuits_1 = [ansatz_1(diagram) for diagram in test_diagrams_1]"
   ]
  },
  {
   "cell_type": "code",
   "execution_count": 20,
   "id": "642347ed-1491-4ea5-a5c3-5ee0dc8ed478",
   "metadata": {},
   "outputs": [
    {
     "data": {
      "image/png": "[encoded data removed]",
      "text/plain": [
       "<Figure size 648x864 with 1 Axes>"
      ]
     },
     "metadata": {},
     "output_type": "display_data"
    }
   ],
   "source": [
    "train_circuits_1[0].draw(figsize=(9, 12))"
   ]
  },
  {
   "cell_type": "code",
   "execution_count": 21,
   "id": "9ba0503c-1561-4f55-84e3-4eb9738079cc",
   "metadata": {},
   "outputs": [
    {
     "data": {
      "text/html": [
       "\n",
       "\n",
       "\n",
       "\n",
       "\n",
       "\n",
       "<iframe srcdoc=\"\n",
       "&lt;!DOCTYPE html&gt;\n",
       "&lt;html lang=&#34;en&#34;&gt;\n",
       "&lt;head&gt;\n",
       "    &lt;meta charset=&#34;UTF-8&#34;&gt;\n",
       "\n",
       "    &lt;script type=&#34;application/javascript&#34; src=&#34;https://cdn.jsdelivr.net/npm/vue@3&#34;&gt;&lt;/script&gt;\n",
       "    &lt;script type=&#34;application/javascript&#34; src=&#34;https://unpkg.com/pytket-circuit-renderer@0.1/dist/pytket-circuit-renderer.umd.js&#34;&gt;&lt;/script&gt;\n",
       "    &lt;link rel=&#34;stylesheet&#34; href=&#34;https://unpkg.com/pytket-circuit-renderer@0.1/dist/pytket-circuit-renderer.css&#34;&gt;\n",
       "&lt;/head&gt;\n",
       "&lt;body&gt;\n",
       "    &lt;div id=&#34;circuit-display-vue-container-9fad1b12-df46-43c7-a2a6-98e0d4b557d2&#34; class=&#34;pytket-circuit-display-container&#34;&gt;\n",
       "        &lt;div style=&#34;display: none&#34;&gt;\n",
       "            &lt;div id=&#34;circuit-json-to-display&#34;&gt;{&#34;bits&#34;: [[&#34;c&#34;, [0]], [&#34;c&#34;, [1]], [&#34;c&#34;, [2]], [&#34;c&#34;, [3]]], &#34;commands&#34;: [{&#34;args&#34;: [[&#34;q&#34;, [0]]], &#34;op&#34;: {&#34;params&#34;: [&#34;2*king__s_0&#34;], &#34;type&#34;: &#34;Rx&#34;}}, {&#34;args&#34;: [[&#34;q&#34;, [1]]], &#34;op&#34;: {&#34;params&#34;: [&#34;2*you__s_0&#34;], &#34;type&#34;: &#34;Rx&#34;}}, {&#34;args&#34;: [[&#34;q&#34;, [2]]], &#34;op&#34;: {&#34;params&#34;: [&#34;2*for__s_0&#34;], &#34;type&#34;: &#34;Rx&#34;}}, {&#34;args&#34;: [[&#34;q&#34;, [3]]], &#34;op&#34;: {&#34;params&#34;: [&#34;2*your__s_0&#34;], &#34;type&#34;: &#34;Rx&#34;}}, {&#34;args&#34;: [[&#34;q&#34;, [4]]], &#34;op&#34;: {&#34;params&#34;: [&#34;2*servic__s_0&#34;], &#34;type&#34;: &#34;Rx&#34;}}, {&#34;args&#34;: [[&#34;q&#34;, [0]]], &#34;op&#34;: {&#34;params&#34;: [&#34;2*king__s_1&#34;], &#34;type&#34;: &#34;Rz&#34;}}, {&#34;args&#34;: [[&#34;q&#34;, [1]]], &#34;op&#34;: {&#34;params&#34;: [&#34;2*you__s_1&#34;], &#34;type&#34;: &#34;Rz&#34;}}, {&#34;args&#34;: [[&#34;q&#34;, [2]]], &#34;op&#34;: {&#34;params&#34;: [&#34;2*for__s_1&#34;], &#34;type&#34;: &#34;Rz&#34;}}, {&#34;args&#34;: [[&#34;q&#34;, [3]]], &#34;op&#34;: {&#34;params&#34;: [&#34;2*your__s_1&#34;], &#34;type&#34;: &#34;Rz&#34;}}, {&#34;args&#34;: [[&#34;q&#34;, [4]]], &#34;op&#34;: {&#34;params&#34;: [&#34;2*servic__s_1&#34;], &#34;type&#34;: &#34;Rz&#34;}}, {&#34;args&#34;: [[&#34;q&#34;, [0]]], &#34;op&#34;: {&#34;params&#34;: [&#34;2*king__s_2&#34;], &#34;type&#34;: &#34;Rx&#34;}}, {&#34;args&#34;: [[&#34;q&#34;, [1]]], &#34;op&#34;: {&#34;params&#34;: [&#34;2*you__s_2&#34;], &#34;type&#34;: &#34;Rx&#34;}}, {&#34;args&#34;: [[&#34;q&#34;, [2]]], &#34;op&#34;: {&#34;params&#34;: [&#34;2*for__s_2&#34;], &#34;type&#34;: &#34;Rx&#34;}}, {&#34;args&#34;: [[&#34;q&#34;, [3]]], &#34;op&#34;: {&#34;params&#34;: [&#34;2*your__s_2&#34;], &#34;type&#34;: &#34;Rx&#34;}}, {&#34;args&#34;: [[&#34;q&#34;, [4]]], &#34;op&#34;: {&#34;params&#34;: [&#34;2*servic__s_2&#34;], &#34;type&#34;: &#34;Rx&#34;}}, {&#34;args&#34;: [[&#34;q&#34;, [0]]], &#34;op&#34;: {&#34;type&#34;: &#34;H&#34;}}, {&#34;args&#34;: [[&#34;q&#34;, [1]]], &#34;op&#34;: {&#34;type&#34;: &#34;H&#34;}}, {&#34;args&#34;: [[&#34;q&#34;, [2]]], &#34;op&#34;: {&#34;type&#34;: &#34;H&#34;}}, {&#34;args&#34;: [[&#34;q&#34;, [3]]], &#34;op&#34;: {&#34;type&#34;: &#34;H&#34;}}, {&#34;args&#34;: [[&#34;q&#34;, [4]]], &#34;op&#34;: {&#34;type&#34;: &#34;H&#34;}}, {&#34;args&#34;: [[&#34;q&#34;, [3]], [&#34;q&#34;, [4]]], &#34;op&#34;: {&#34;params&#34;: [&#34;2*FA(n &lt;&lt; n)_s@s_s_0&#34;], &#34;type&#34;: &#34;CRz&#34;}}, {&#34;args&#34;: [[&#34;q&#34;, [4]], [&#34;c&#34;, [0]]], &#34;op&#34;: {&#34;type&#34;: &#34;Measure&#34;}}, {&#34;args&#34;: [[&#34;q&#34;, [3]]], &#34;op&#34;: {&#34;type&#34;: &#34;H&#34;}}, {&#34;args&#34;: [[&#34;q&#34;, [2]], [&#34;q&#34;, [3]]], &#34;op&#34;: {&#34;params&#34;: [&#34;2*FA((n &gt;&gt; n) &lt;&lt; n)_s@s_s_0&#34;], &#34;type&#34;: &#34;CRz&#34;}}, {&#34;args&#34;: [[&#34;q&#34;, [3]], [&#34;c&#34;, [1]]], &#34;op&#34;: {&#34;type&#34;: &#34;Measure&#34;}}, {&#34;args&#34;: [[&#34;q&#34;, [2]]], &#34;op&#34;: {&#34;type&#34;: &#34;H&#34;}}, {&#34;args&#34;: [[&#34;q&#34;, [1]], [&#34;q&#34;, [2]]], &#34;op&#34;: {&#34;params&#34;: [&#34;2*BA(n &gt;&gt; n)_s@s_s_0&#34;], &#34;type&#34;: &#34;CRz&#34;}}, {&#34;args&#34;: [[&#34;q&#34;, [2]], [&#34;c&#34;, [2]]], &#34;op&#34;: {&#34;type&#34;: &#34;Measure&#34;}}, {&#34;args&#34;: [[&#34;q&#34;, [1]]], &#34;op&#34;: {&#34;type&#34;: &#34;H&#34;}}, {&#34;args&#34;: [[&#34;q&#34;, [0]], [&#34;q&#34;, [1]]], &#34;op&#34;: {&#34;params&#34;: [&#34;2*FA((n &gt;&gt; s) &lt;&lt; n)_s@s_s_0&#34;], &#34;type&#34;: &#34;CRz&#34;}}, {&#34;args&#34;: [[&#34;q&#34;, [1]], [&#34;c&#34;, [3]]], &#34;op&#34;: {&#34;type&#34;: &#34;Measure&#34;}}], &#34;implicit_permutation&#34;: [[[&#34;q&#34;, [0]], [&#34;q&#34;, [0]]], [[&#34;q&#34;, [1]], [&#34;q&#34;, [1]]], [[&#34;q&#34;, [2]], [&#34;q&#34;, [2]]], [[&#34;q&#34;, [3]], [&#34;q&#34;, [3]]], [[&#34;q&#34;, [4]], [&#34;q&#34;, [4]]]], &#34;phase&#34;: &#34;0.0&#34;, &#34;qubits&#34;: [[&#34;q&#34;, [0]], [&#34;q&#34;, [1]], [&#34;q&#34;, [2]], [&#34;q&#34;, [3]], [&#34;q&#34;, [4]]]}&lt;/div&gt;\n",
       "        &lt;/div&gt;\n",
       "        &lt;circuit-display-container :circuit-element-str=&#34;&#39;#circuit-json-to-display&#39;&#34;&gt;&lt;/circuit-display-container&gt;\n",
       "    &lt;/div&gt;\n",
       "\n",
       "    &lt;script type=&#34;application/javascript&#34;&gt;\n",
       "        const { createApp } = Vue;\n",
       "        const circuitDisplayContainer = window[&#34;pytket-circuit-renderer&#34;].default;\n",
       "\n",
       "        // Init variables to be shared between circuit display instances\n",
       "        if (typeof window.pytketCircuitDisplays === &#34;undefined&#34;) {\n",
       "            window.pytketCircuitDisplays = {};\n",
       "        }\n",
       "\n",
       "        const uid = &#34;9fad1b12-df46-43c7-a2a6-98e0d4b557d2&#34;;\n",
       "\n",
       "        // Create the root Vue component\n",
       "        window.pytketCircuitDisplays[uid] = createApp({\n",
       "            delimiters: [&#39;[[#&#39;, &#39;#]]&#39;],\n",
       "            components: { circuitDisplayContainer },\n",
       "        }).mount(&#34;#circuit-display-vue-container-&#34;+uid);\n",
       "    &lt;/script&gt;\n",
       "&lt;/body&gt;\n",
       "&lt;/html&gt;\n",
       "\"\n",
       "        width=\"100%\" height=\"200px\"\n",
       "        style=\"border: none; outline: none; resize: vertical; overflow: auto\"></iframe>\n",
       "\n"
      ],
      "text/plain": [
       "<IPython.core.display.HTML object>"
      ]
     },
     "metadata": {},
     "output_type": "display_data"
    }
   ],
   "source": [
    "# train_circuits_1[0].draw(figsize=(9, 12))\n",
    "render_circuit_jupyter(train_circuits_1[0].to_tk())"
   ]
  },
  {
   "cell_type": "code",
   "execution_count": 22,
   "id": "0310ad5b-4e50-4187-b13b-f9500c812eb9",
   "metadata": {},
   "outputs": [
    {
     "data": {
      "text/plain": [
       "[(king__s_1, 1),\n",
       " (your__s_2, 1),\n",
       " (you__s_1, 1),\n",
       " (FA((n >> s) << n)_s@s_s_0, 1),\n",
       " (FA(n << n)_s@s_s_0, 1),\n",
       " (for__s_0, 1),\n",
       " (FA((n >> n) << n)_s@s_s_0, 1),\n",
       " (for__s_2, 1),\n",
       " (servic__s_1, 1),\n",
       " (servic__s_2, 1),\n",
       " (king__s_0, 1),\n",
       " (BA(n >> n)_s@s_s_0, 1),\n",
       " (servic__s_0, 1),\n",
       " (your__s_1, 1),\n",
       " (you__s_0, 1),\n",
       " (for__s_1, 1),\n",
       " (your__s_0, 1),\n",
       " (king__s_2, 1),\n",
       " (you__s_2, 1)]"
      ]
     },
     "execution_count": 22,
     "metadata": {},
     "output_type": "execute_result"
    }
   ],
   "source": [
    "[(s, s.size) for s in train_circuits_1[0].free_symbols]"
   ]
  },
  {
   "cell_type": "markdown",
   "id": "2b774c35-5065-4cae-bcfd-ecf1e2b29c4e",
   "metadata": {},
   "source": [
    "#### 2.1.4 Parameterise"
   ]
  },
  {
   "cell_type": "code",
   "execution_count": 23,
   "id": "d37bf884-8e1f-4f47-b2b0-047708bbe52e",
   "metadata": {},
   "outputs": [],
   "source": [
    "all_circuits_1 = train_circuits_1 + dev_circuits_1 + test_circuits_1\n",
    "model_1 = NumpyModel.from_diagrams(all_circuits_1, use_jit=True)\n",
    "# model_1 = TketModel.from_diagrams(all_circuits_1, backend_config=backend_config)"
   ]
  },
  {
   "cell_type": "markdown",
   "id": "5c3bcb48-cf2a-46dd-96ca-1b4b46646a42",
   "metadata": {},
   "source": [
    "#### 2.1.5 Initialize trainer"
   ]
  },
  {
   "cell_type": "code",
   "execution_count": 24,
   "id": "7468b472-f23e-47fb-887c-069334944174",
   "metadata": {},
   "outputs": [],
   "source": [
    "trainer_1 = QuantumTrainer(\n",
    "    model_1,\n",
    "    loss_function=loss,\n",
    "    epochs=EPOCHS,\n",
    "    optimizer=SPSAOptimizer,\n",
    "    optim_hyperparams={'a': 0.2, 'c': 0.06, 'A':0.01*EPOCHS},\n",
    "    evaluate_functions={'acc': acc},\n",
    "    evaluate_on_train=True,\n",
    "    verbose = 'text',\n",
    "    seed=0\n",
    ")\n",
    "train_dataset_1 = Dataset(\n",
    "            train_circuits_1,\n",
    "            train_labels_1,\n",
    "            batch_size=BATCH_SIZE)\n",
    "\n",
    "val_dataset_1 = Dataset(dev_circuits_1, dev_labels_1, shuffle=False)"
   ]
  },
  {
   "cell_type": "markdown",
   "id": "013379f2-1532-414f-9fe8-c2d751367750",
   "metadata": {},
   "source": [
    "#### 2.1.6 Train"
   ]
  },
  {
   "cell_type": "code",
   "execution_count": 25,
   "id": "d55858d6-b168-4482-a06b-f6a13003e391",
   "metadata": {
    "scrolled": true,
    "tags": []
   },
   "outputs": [
    {
     "name": "stderr",
     "output_type": "stream",
     "text": [
      "Epoch 1:    train/loss: 0.7532   valid/loss: 0.8052   train/acc: 0.5243   valid/acc: 0.5000\n",
      "Epoch 2:    train/loss: 0.7358   valid/loss: 0.8422   train/acc: 0.5437   valid/acc: 0.3846\n",
      "Epoch 3:    train/loss: 0.7075   valid/loss: 0.8695   train/acc: 0.5291   valid/acc: 0.3077\n",
      "Epoch 4:    train/loss: 0.7234   valid/loss: 0.8752   train/acc: 0.5728   valid/acc: 0.2692\n",
      "Epoch 5:    train/loss: 0.6858   valid/loss: 0.8021   train/acc: 0.5631   valid/acc: 0.5000\n",
      "Epoch 6:    train/loss: 0.7956   valid/loss: 0.7831   train/acc: 0.5194   valid/acc: 0.5385\n",
      "Epoch 7:    train/loss: 0.7677   valid/loss: 0.7724   train/acc: 0.4854   valid/acc: 0.4615\n",
      "Epoch 8:    train/loss: 0.6903   valid/loss: 0.7603   train/acc: 0.5874   valid/acc: 0.5000\n",
      "Epoch 9:    train/loss: 0.6953   valid/loss: 0.7465   train/acc: 0.5583   valid/acc: 0.5000\n",
      "Epoch 10:   train/loss: 0.6843   valid/loss: 0.7431   train/acc: 0.5874   valid/acc: 0.4615\n",
      "Epoch 11:   train/loss: 0.6700   valid/loss: 0.7058   train/acc: 0.5777   valid/acc: 0.5385\n",
      "Epoch 12:   train/loss: 0.6818   valid/loss: 0.7025   train/acc: 0.6019   valid/acc: 0.4231\n",
      "Epoch 13:   train/loss: 0.6869   valid/loss: 0.7071   train/acc: 0.5728   valid/acc: 0.5385\n",
      "Epoch 14:   train/loss: 0.6636   valid/loss: 0.7228   train/acc: 0.5680   valid/acc: 0.5000\n",
      "Epoch 15:   train/loss: 0.6733   valid/loss: 0.7499   train/acc: 0.5437   valid/acc: 0.4231\n",
      "Epoch 16:   train/loss: 0.6592   valid/loss: 0.7242   train/acc: 0.5777   valid/acc: 0.5000\n",
      "Epoch 17:   train/loss: 0.6574   valid/loss: 0.7066   train/acc: 0.6068   valid/acc: 0.5000\n",
      "Epoch 18:   train/loss: 0.6525   valid/loss: 0.7000   train/acc: 0.6068   valid/acc: 0.5000\n",
      "Epoch 19:   train/loss: 0.6513   valid/loss: 0.6679   train/acc: 0.6068   valid/acc: 0.5385\n",
      "Epoch 20:   train/loss: 0.6448   valid/loss: 0.6760   train/acc: 0.6262   valid/acc: 0.5000\n",
      "Epoch 21:   train/loss: 0.6428   valid/loss: 0.6703   train/acc: 0.6262   valid/acc: 0.5000\n",
      "Epoch 22:   train/loss: 0.6420   valid/loss: 0.6865   train/acc: 0.6165   valid/acc: 0.5000\n",
      "Epoch 23:   train/loss: 0.6605   valid/loss: 0.6776   train/acc: 0.6262   valid/acc: 0.6154\n",
      "Epoch 24:   train/loss: 0.6703   valid/loss: 0.6893   train/acc: 0.6602   valid/acc: 0.5385\n",
      "Epoch 25:   train/loss: 0.6678   valid/loss: 0.6970   train/acc: 0.6553   valid/acc: 0.5385\n",
      "Epoch 26:   train/loss: 0.6552   valid/loss: 0.7112   train/acc: 0.6553   valid/acc: 0.6154\n",
      "Epoch 27:   train/loss: 0.6768   valid/loss: 0.6948   train/acc: 0.5971   valid/acc: 0.5769\n",
      "Epoch 28:   train/loss: 0.6685   valid/loss: 0.6880   train/acc: 0.6068   valid/acc: 0.6154\n",
      "Epoch 29:   train/loss: 0.6614   valid/loss: 0.7029   train/acc: 0.6505   valid/acc: 0.6154\n",
      "Epoch 30:   train/loss: 0.6706   valid/loss: 0.6875   train/acc: 0.6262   valid/acc: 0.6154\n",
      "Epoch 31:   train/loss: 0.6521   valid/loss: 0.6801   train/acc: 0.6505   valid/acc: 0.6154\n",
      "Epoch 32:   train/loss: 0.6441   valid/loss: 0.6794   train/acc: 0.6748   valid/acc: 0.6154\n",
      "Epoch 33:   train/loss: 0.6428   valid/loss: 0.6803   train/acc: 0.6650   valid/acc: 0.6154\n",
      "Epoch 34:   train/loss: 0.6625   valid/loss: 0.6851   train/acc: 0.6650   valid/acc: 0.6154\n",
      "Epoch 35:   train/loss: 0.6437   valid/loss: 0.6870   train/acc: 0.6845   valid/acc: 0.6154\n",
      "Epoch 36:   train/loss: 0.6508   valid/loss: 0.6607   train/acc: 0.6796   valid/acc: 0.5769\n",
      "Epoch 37:   train/loss: 0.6382   valid/loss: 0.6685   train/acc: 0.6796   valid/acc: 0.5769\n",
      "Epoch 38:   train/loss: 0.6465   valid/loss: 0.7151   train/acc: 0.6650   valid/acc: 0.6154\n",
      "Epoch 39:   train/loss: 0.6645   valid/loss: 0.7242   train/acc: 0.6602   valid/acc: 0.6154\n",
      "Epoch 40:   train/loss: 0.6516   valid/loss: 0.7244   train/acc: 0.6456   valid/acc: 0.5769\n",
      "Epoch 41:   train/loss: 0.6484   valid/loss: 0.7033   train/acc: 0.6845   valid/acc: 0.5769\n",
      "Epoch 42:   train/loss: 0.6531   valid/loss: 0.7178   train/acc: 0.6748   valid/acc: 0.6154\n",
      "Epoch 43:   train/loss: 0.6796   valid/loss: 0.7124   train/acc: 0.6602   valid/acc: 0.5769\n",
      "Epoch 44:   train/loss: 0.6635   valid/loss: 0.6878   train/acc: 0.6748   valid/acc: 0.6154\n",
      "Epoch 45:   train/loss: 0.6470   valid/loss: 0.6795   train/acc: 0.6845   valid/acc: 0.5385\n",
      "Epoch 46:   train/loss: 0.6325   valid/loss: 0.6775   train/acc: 0.6845   valid/acc: 0.5769\n",
      "Epoch 47:   train/loss: 0.6336   valid/loss: 0.6796   train/acc: 0.6650   valid/acc: 0.5769\n",
      "Epoch 48:   train/loss: 0.6208   valid/loss: 0.6856   train/acc: 0.6893   valid/acc: 0.5769\n",
      "Epoch 49:   train/loss: 0.6229   valid/loss: 0.6830   train/acc: 0.6748   valid/acc: 0.5769\n",
      "Epoch 50:   train/loss: 0.6196   valid/loss: 0.6835   train/acc: 0.6845   valid/acc: 0.5769\n",
      "Epoch 51:   train/loss: 0.6112   valid/loss: 0.6772   train/acc: 0.6796   valid/acc: 0.5769\n",
      "Epoch 52:   train/loss: 0.6122   valid/loss: 0.6750   train/acc: 0.6893   valid/acc: 0.5769\n",
      "Epoch 53:   train/loss: 0.6128   valid/loss: 0.6692   train/acc: 0.6942   valid/acc: 0.5769\n",
      "Epoch 54:   train/loss: 0.6133   valid/loss: 0.6721   train/acc: 0.6942   valid/acc: 0.5769\n",
      "Epoch 55:   train/loss: 0.6092   valid/loss: 0.6754   train/acc: 0.6893   valid/acc: 0.5769\n",
      "Epoch 56:   train/loss: 0.6092   valid/loss: 0.6822   train/acc: 0.7087   valid/acc: 0.5769\n",
      "Epoch 57:   train/loss: 0.6099   valid/loss: 0.6854   train/acc: 0.6942   valid/acc: 0.5769\n",
      "Epoch 58:   train/loss: 0.6130   valid/loss: 0.6831   train/acc: 0.6893   valid/acc: 0.5769\n",
      "Epoch 59:   train/loss: 0.6088   valid/loss: 0.6747   train/acc: 0.6845   valid/acc: 0.5769\n",
      "Epoch 60:   train/loss: 0.6095   valid/loss: 0.6684   train/acc: 0.6990   valid/acc: 0.5769\n",
      "Epoch 61:   train/loss: 0.6137   valid/loss: 0.6720   train/acc: 0.7087   valid/acc: 0.5769\n",
      "Epoch 62:   train/loss: 0.6101   valid/loss: 0.6842   train/acc: 0.7136   valid/acc: 0.5769\n",
      "Epoch 63:   train/loss: 0.6078   valid/loss: 0.6847   train/acc: 0.6990   valid/acc: 0.5769\n",
      "Epoch 64:   train/loss: 0.6052   valid/loss: 0.6867   train/acc: 0.6942   valid/acc: 0.5769\n",
      "Epoch 65:   train/loss: 0.6061   valid/loss: 0.6957   train/acc: 0.7087   valid/acc: 0.5385\n",
      "Epoch 66:   train/loss: 0.6078   valid/loss: 0.6941   train/acc: 0.7136   valid/acc: 0.5000\n",
      "Epoch 67:   train/loss: 0.5999   valid/loss: 0.6775   train/acc: 0.7039   valid/acc: 0.5385\n",
      "Epoch 68:   train/loss: 0.6044   valid/loss: 0.6829   train/acc: 0.7039   valid/acc: 0.4615\n",
      "Epoch 69:   train/loss: 0.5998   valid/loss: 0.6832   train/acc: 0.6772   valid/acc: 0.5385\n",
      "Epoch 70:   train/loss: 0.5978   valid/loss: 0.6783   train/acc: 0.6845   valid/acc: 0.5000\n",
      "Epoch 71:   train/loss: 0.5935   valid/loss: 0.6870   train/acc: 0.7087   valid/acc: 0.5000\n",
      "Epoch 72:   train/loss: 0.5862   valid/loss: 0.7022   train/acc: 0.7039   valid/acc: 0.5769\n",
      "Epoch 73:   train/loss: 0.5869   valid/loss: 0.6966   train/acc: 0.6942   valid/acc: 0.5385\n",
      "Epoch 74:   train/loss: 0.5905   valid/loss: 0.6993   train/acc: 0.7039   valid/acc: 0.5385\n",
      "Epoch 75:   train/loss: 0.5877   valid/loss: 0.7047   train/acc: 0.7136   valid/acc: 0.5769\n",
      "Epoch 76:   train/loss: 0.5837   valid/loss: 0.7252   train/acc: 0.7136   valid/acc: 0.5769\n",
      "Epoch 77:   train/loss: 0.5822   valid/loss: 0.7334   train/acc: 0.6990   valid/acc: 0.5769\n",
      "Epoch 78:   train/loss: 0.5893   valid/loss: 0.7270   train/acc: 0.7136   valid/acc: 0.5385\n",
      "Epoch 79:   train/loss: 0.5871   valid/loss: 0.7253   train/acc: 0.7184   valid/acc: 0.5000\n",
      "Epoch 80:   train/loss: 0.5748   valid/loss: 0.7276   train/acc: 0.7233   valid/acc: 0.5000\n",
      "Epoch 81:   train/loss: 0.5715   valid/loss: 0.7241   train/acc: 0.7233   valid/acc: 0.5000\n",
      "Epoch 82:   train/loss: 0.5797   valid/loss: 0.7325   train/acc: 0.7379   valid/acc: 0.5000\n",
      "Epoch 83:   train/loss: 0.5761   valid/loss: 0.7577   train/acc: 0.7427   valid/acc: 0.4615\n",
      "Epoch 84:   train/loss: 0.5722   valid/loss: 0.7720   train/acc: 0.7379   valid/acc: 0.5000\n",
      "Epoch 85:   train/loss: 0.5825   valid/loss: 0.7606   train/acc: 0.7233   valid/acc: 0.4615\n",
      "Epoch 86:   train/loss: 0.5779   valid/loss: 0.7600   train/acc: 0.7379   valid/acc: 0.4615\n",
      "Epoch 87:   train/loss: 0.5784   valid/loss: 0.7781   train/acc: 0.7184   valid/acc: 0.4615\n",
      "Epoch 88:   train/loss: 0.5847   valid/loss: 0.7596   train/acc: 0.7039   valid/acc: 0.5000\n",
      "Epoch 89:   train/loss: 0.5840   valid/loss: 0.7540   train/acc: 0.7209   valid/acc: 0.5000\n",
      "Epoch 90:   train/loss: 0.5846   valid/loss: 0.7623   train/acc: 0.7233   valid/acc: 0.5000\n",
      "Epoch 91:   train/loss: 0.5828   valid/loss: 0.7547   train/acc: 0.7282   valid/acc: 0.5000\n",
      "Epoch 92:   train/loss: 0.5786   valid/loss: 0.7553   train/acc: 0.7282   valid/acc: 0.5385\n",
      "Epoch 93:   train/loss: 0.5799   valid/loss: 0.7590   train/acc: 0.7209   valid/acc: 0.5000\n",
      "Epoch 94:   train/loss: 0.5808   valid/loss: 0.7438   train/acc: 0.7184   valid/acc: 0.5769\n",
      "Epoch 95:   train/loss: 0.5782   valid/loss: 0.7403   train/acc: 0.7184   valid/acc: 0.5769\n",
      "Epoch 96:   train/loss: 0.5787   valid/loss: 0.7491   train/acc: 0.7184   valid/acc: 0.5000\n",
      "Epoch 97:   train/loss: 0.5772   valid/loss: 0.7346   train/acc: 0.7282   valid/acc: 0.5385\n",
      "Epoch 98:   train/loss: 0.5730   valid/loss: 0.7417   train/acc: 0.7282   valid/acc: 0.5000\n",
      "Epoch 99:   train/loss: 0.5709   valid/loss: 0.7320   train/acc: 0.7209   valid/acc: 0.5385\n",
      "Epoch 100:  train/loss: 0.5657   valid/loss: 0.7464   train/acc: 0.7257   valid/acc: 0.5000\n",
      "Epoch 101:  train/loss: 0.5637   valid/loss: 0.7499   train/acc: 0.7257   valid/acc: 0.5000\n",
      "Epoch 102:  train/loss: 0.5626   valid/loss: 0.7465   train/acc: 0.7257   valid/acc: 0.5385\n",
      "Epoch 103:  train/loss: 0.5622   valid/loss: 0.7748   train/acc: 0.7160   valid/acc: 0.5000\n",
      "Epoch 104:  train/loss: 0.5668   valid/loss: 0.7579   train/acc: 0.7160   valid/acc: 0.5000\n",
      "Epoch 105:  train/loss: 0.5670   valid/loss: 0.7587   train/acc: 0.7209   valid/acc: 0.5000\n",
      "Epoch 106:  train/loss: 0.5643   valid/loss: 0.7685   train/acc: 0.7282   valid/acc: 0.5000\n",
      "Epoch 107:  train/loss: 0.5611   valid/loss: 0.7766   train/acc: 0.7306   valid/acc: 0.4615\n",
      "Epoch 108:  train/loss: 0.5653   valid/loss: 0.7690   train/acc: 0.7330   valid/acc: 0.4615\n",
      "Epoch 109:  train/loss: 0.5619   valid/loss: 0.7611   train/acc: 0.7306   valid/acc: 0.5385\n",
      "Epoch 110:  train/loss: 0.5568   valid/loss: 0.7690   train/acc: 0.7451   valid/acc: 0.5385\n",
      "Epoch 111:  train/loss: 0.5587   valid/loss: 0.7707   train/acc: 0.7354   valid/acc: 0.4615\n",
      "Epoch 112:  train/loss: 0.5585   valid/loss: 0.7703   train/acc: 0.7257   valid/acc: 0.4615\n",
      "Epoch 113:  train/loss: 0.5619   valid/loss: 0.7747   train/acc: 0.7354   valid/acc: 0.4615\n",
      "Epoch 114:  train/loss: 0.5628   valid/loss: 0.7754   train/acc: 0.7257   valid/acc: 0.4615\n",
      "Epoch 115:  train/loss: 0.5609   valid/loss: 0.7744   train/acc: 0.7257   valid/acc: 0.4615\n",
      "Epoch 116:  train/loss: 0.5626   valid/loss: 0.7725   train/acc: 0.7330   valid/acc: 0.4615\n",
      "Epoch 117:  train/loss: 0.5651   valid/loss: 0.7581   train/acc: 0.7233   valid/acc: 0.5000\n",
      "Epoch 118:  train/loss: 0.5619   valid/loss: 0.7619   train/acc: 0.7379   valid/acc: 0.4615\n",
      "Epoch 119:  train/loss: 0.5606   valid/loss: 0.7741   train/acc: 0.7306   valid/acc: 0.4615\n",
      "Epoch 120:  train/loss: 0.5626   valid/loss: 0.7605   train/acc: 0.7209   valid/acc: 0.4615\n",
      "Epoch 121:  train/loss: 0.5585   valid/loss: 0.7497   train/acc: 0.7500   valid/acc: 0.4615\n",
      "Epoch 122:  train/loss: 0.5560   valid/loss: 0.7411   train/acc: 0.7476   valid/acc: 0.5000\n",
      "Epoch 123:  train/loss: 0.5530   valid/loss: 0.7375   train/acc: 0.7451   valid/acc: 0.5000\n",
      "Epoch 124:  train/loss: 0.5567   valid/loss: 0.7447   train/acc: 0.7500   valid/acc: 0.4615\n",
      "Epoch 125:  train/loss: 0.5549   valid/loss: 0.7620   train/acc: 0.7354   valid/acc: 0.4615\n",
      "Epoch 126:  train/loss: 0.5565   valid/loss: 0.7512   train/acc: 0.7160   valid/acc: 0.4615\n",
      "Epoch 127:  train/loss: 0.5533   valid/loss: 0.7392   train/acc: 0.7282   valid/acc: 0.4615\n",
      "Epoch 128:  train/loss: 0.5551   valid/loss: 0.7247   train/acc: 0.7427   valid/acc: 0.5000\n",
      "Epoch 129:  train/loss: 0.5503   valid/loss: 0.7302   train/acc: 0.7282   valid/acc: 0.4615\n",
      "Epoch 130:  train/loss: 0.5525   valid/loss: 0.7043   train/acc: 0.7379   valid/acc: 0.5385\n",
      "Epoch 131:  train/loss: 0.5462   valid/loss: 0.6955   train/acc: 0.7354   valid/acc: 0.5385\n",
      "Epoch 132:  train/loss: 0.5456   valid/loss: 0.7082   train/acc: 0.7451   valid/acc: 0.5385\n",
      "Epoch 133:  train/loss: 0.5451   valid/loss: 0.7100   train/acc: 0.7476   valid/acc: 0.5385\n",
      "Epoch 134:  train/loss: 0.5447   valid/loss: 0.6991   train/acc: 0.7476   valid/acc: 0.5385\n",
      "Epoch 135:  train/loss: 0.5399   valid/loss: 0.6963   train/acc: 0.7597   valid/acc: 0.5385\n",
      "Epoch 136:  train/loss: 0.5399   valid/loss: 0.6991   train/acc: 0.7573   valid/acc: 0.5000\n",
      "Epoch 137:  train/loss: 0.5415   valid/loss: 0.6881   train/acc: 0.7670   valid/acc: 0.5385\n",
      "Epoch 138:  train/loss: 0.5362   valid/loss: 0.6887   train/acc: 0.7573   valid/acc: 0.5769\n",
      "Epoch 139:  train/loss: 0.5352   valid/loss: 0.6857   train/acc: 0.7621   valid/acc: 0.5385\n",
      "Epoch 140:  train/loss: 0.5392   valid/loss: 0.6754   train/acc: 0.7621   valid/acc: 0.5769\n",
      "Epoch 141:  train/loss: 0.5325   valid/loss: 0.6902   train/acc: 0.7718   valid/acc: 0.5769\n",
      "Epoch 142:  train/loss: 0.5323   valid/loss: 0.6971   train/acc: 0.7621   valid/acc: 0.5769\n",
      "Epoch 143:  train/loss: 0.5310   valid/loss: 0.6963   train/acc: 0.7621   valid/acc: 0.5769\n",
      "Epoch 144:  train/loss: 0.5294   valid/loss: 0.6919   train/acc: 0.7621   valid/acc: 0.6154\n",
      "Epoch 145:  train/loss: 0.5312   valid/loss: 0.6870   train/acc: 0.7670   valid/acc: 0.6154\n",
      "Epoch 146:  train/loss: 0.5286   valid/loss: 0.6911   train/acc: 0.7767   valid/acc: 0.5769\n",
      "Epoch 147:  train/loss: 0.5296   valid/loss: 0.6943   train/acc: 0.7767   valid/acc: 0.5769\n",
      "Epoch 148:  train/loss: 0.5268   valid/loss: 0.6933   train/acc: 0.7864   valid/acc: 0.5385\n",
      "Epoch 149:  train/loss: 0.5290   valid/loss: 0.7014   train/acc: 0.7864   valid/acc: 0.5385\n",
      "Epoch 150:  train/loss: 0.5296   valid/loss: 0.7006   train/acc: 0.7913   valid/acc: 0.5385\n",
      "Epoch 151:  train/loss: 0.5278   valid/loss: 0.6959   train/acc: 0.7864   valid/acc: 0.5385\n",
      "Epoch 152:  train/loss: 0.5290   valid/loss: 0.6933   train/acc: 0.7913   valid/acc: 0.5385\n",
      "Epoch 153:  train/loss: 0.5253   valid/loss: 0.6905   train/acc: 0.7864   valid/acc: 0.5385\n",
      "Epoch 154:  train/loss: 0.5263   valid/loss: 0.7107   train/acc: 0.7864   valid/acc: 0.5769\n",
      "Epoch 155:  train/loss: 0.5293   valid/loss: 0.7229   train/acc: 0.7864   valid/acc: 0.5000\n",
      "Epoch 156:  train/loss: 0.5267   valid/loss: 0.7191   train/acc: 0.7767   valid/acc: 0.5000\n",
      "Epoch 157:  train/loss: 0.5337   valid/loss: 0.7291   train/acc: 0.7718   valid/acc: 0.5000\n",
      "Epoch 158:  train/loss: 0.5360   valid/loss: 0.7223   train/acc: 0.7670   valid/acc: 0.5000\n",
      "Epoch 159:  train/loss: 0.5328   valid/loss: 0.7282   train/acc: 0.7621   valid/acc: 0.5000\n",
      "Epoch 160:  train/loss: 0.5320   valid/loss: 0.7217   train/acc: 0.7670   valid/acc: 0.5000\n",
      "Epoch 161:  train/loss: 0.5288   valid/loss: 0.7240   train/acc: 0.7840   valid/acc: 0.5000\n",
      "Epoch 162:  train/loss: 0.5299   valid/loss: 0.7424   train/acc: 0.7621   valid/acc: 0.4615\n",
      "Epoch 163:  train/loss: 0.5370   valid/loss: 0.7429   train/acc: 0.7864   valid/acc: 0.4615\n",
      "Epoch 164:  train/loss: 0.5382   valid/loss: 0.7369   train/acc: 0.7573   valid/acc: 0.5385\n",
      "Epoch 165:  train/loss: 0.5366   valid/loss: 0.7370   train/acc: 0.7573   valid/acc: 0.5000\n",
      "Epoch 166:  train/loss: 0.5352   valid/loss: 0.7378   train/acc: 0.7670   valid/acc: 0.5385\n",
      "Epoch 167:  train/loss: 0.5319   valid/loss: 0.7198   train/acc: 0.7816   valid/acc: 0.5385\n",
      "Epoch 168:  train/loss: 0.5305   valid/loss: 0.7273   train/acc: 0.7524   valid/acc: 0.5385\n",
      "Epoch 169:  train/loss: 0.5290   valid/loss: 0.7265   train/acc: 0.7670   valid/acc: 0.5385\n",
      "Epoch 170:  train/loss: 0.5271   valid/loss: 0.7263   train/acc: 0.7767   valid/acc: 0.5385\n",
      "Epoch 171:  train/loss: 0.5250   valid/loss: 0.7225   train/acc: 0.7888   valid/acc: 0.5385\n",
      "Epoch 172:  train/loss: 0.5253   valid/loss: 0.7279   train/acc: 0.7864   valid/acc: 0.5000\n",
      "Epoch 173:  train/loss: 0.5250   valid/loss: 0.7259   train/acc: 0.7816   valid/acc: 0.5385\n",
      "Epoch 174:  train/loss: 0.5256   valid/loss: 0.7198   train/acc: 0.7767   valid/acc: 0.5000\n",
      "Epoch 175:  train/loss: 0.5292   valid/loss: 0.7190   train/acc: 0.7767   valid/acc: 0.5000\n",
      "Epoch 176:  train/loss: 0.5242   valid/loss: 0.7218   train/acc: 0.7864   valid/acc: 0.5000\n",
      "Epoch 177:  train/loss: 0.5266   valid/loss: 0.7193   train/acc: 0.7767   valid/acc: 0.5000\n",
      "Epoch 178:  train/loss: 0.5263   valid/loss: 0.7204   train/acc: 0.7767   valid/acc: 0.5000\n",
      "Epoch 179:  train/loss: 0.5245   valid/loss: 0.7080   train/acc: 0.7864   valid/acc: 0.5000\n",
      "Epoch 180:  train/loss: 0.5191   valid/loss: 0.7086   train/acc: 0.7816   valid/acc: 0.5000\n",
      "Epoch 181:  train/loss: 0.5207   valid/loss: 0.7152   train/acc: 0.7840   valid/acc: 0.5000\n",
      "Epoch 182:  train/loss: 0.5174   valid/loss: 0.7150   train/acc: 0.7937   valid/acc: 0.5000\n",
      "Epoch 183:  train/loss: 0.5174   valid/loss: 0.7178   train/acc: 0.7913   valid/acc: 0.5000\n",
      "Epoch 184:  train/loss: 0.5202   valid/loss: 0.7194   train/acc: 0.7816   valid/acc: 0.5385\n",
      "Epoch 185:  train/loss: 0.5237   valid/loss: 0.7152   train/acc: 0.7864   valid/acc: 0.5769\n",
      "Epoch 186:  train/loss: 0.5207   valid/loss: 0.7194   train/acc: 0.7937   valid/acc: 0.5769\n",
      "Epoch 187:  train/loss: 0.5222   valid/loss: 0.7163   train/acc: 0.7913   valid/acc: 0.5769\n",
      "Epoch 188:  train/loss: 0.5219   valid/loss: 0.7082   train/acc: 0.7816   valid/acc: 0.5769\n",
      "Epoch 189:  train/loss: 0.5168   valid/loss: 0.7154   train/acc: 0.7913   valid/acc: 0.5769\n",
      "Epoch 190:  train/loss: 0.5189   valid/loss: 0.7270   train/acc: 0.7864   valid/acc: 0.5769\n",
      "Epoch 191:  train/loss: 0.5254   valid/loss: 0.7329   train/acc: 0.7767   valid/acc: 0.5000\n",
      "Epoch 192:  train/loss: 0.5239   valid/loss: 0.7330   train/acc: 0.7767   valid/acc: 0.5000\n",
      "Epoch 193:  train/loss: 0.5224   valid/loss: 0.7363   train/acc: 0.7816   valid/acc: 0.5385\n",
      "Epoch 194:  train/loss: 0.5217   valid/loss: 0.7450   train/acc: 0.7913   valid/acc: 0.5385\n",
      "Epoch 195:  train/loss: 0.5278   valid/loss: 0.7456   train/acc: 0.7767   valid/acc: 0.5385\n",
      "Epoch 196:  train/loss: 0.5269   valid/loss: 0.7525   train/acc: 0.7718   valid/acc: 0.5000\n",
      "Epoch 197:  train/loss: 0.5250   valid/loss: 0.7505   train/acc: 0.7767   valid/acc: 0.5385\n",
      "Epoch 198:  train/loss: 0.5253   valid/loss: 0.7498   train/acc: 0.7718   valid/acc: 0.5385\n",
      "Epoch 199:  train/loss: 0.5294   valid/loss: 0.7630   train/acc: 0.7864   valid/acc: 0.5000\n",
      "Epoch 200:  train/loss: 0.5296   valid/loss: 0.7611   train/acc: 0.7670   valid/acc: 0.5000\n",
      "\n",
      "Training completed!\n"
     ]
    }
   ],
   "source": [
    "trainer_1.fit(train_dataset_1, val_dataset_1, logging_step=1)"
   ]
  },
  {
   "cell_type": "markdown",
   "id": "d73e1171-7877-40c5-ae59-c8822c5689c8",
   "metadata": {},
   "source": [
    "#### 2.1.7 Show Results"
   ]
  },
  {
   "cell_type": "code",
   "execution_count": 26,
   "id": "8670eb81-c4c8-43c5-ab8a-c78d7f37fd06",
   "metadata": {},
   "outputs": [
    {
     "name": "stdout",
     "output_type": "stream",
     "text": [
      "Test accuracy: 0.0\n"
     ]
    },
    {
     "data": {
      "image/png": "[encoded data removed]",
      "text/plain": [
       "<Figure size 864x576 with 4 Axes>"
      ]
     },
     "metadata": {
      "needs_background": "light"
     },
     "output_type": "display_data"
    }
   ],
   "source": [
    "fig, ((ax_tl, ax_tr), (ax_bl, ax_br)) = plt.subplots(2, 2, sharex=True, sharey='row', figsize=(12, 8))\n",
    "ax_tl.set_title('Training set')\n",
    "ax_tr.set_title('Development set')\n",
    "ax_bl.set_xlabel('Iterations')\n",
    "ax_br.set_xlabel('Iterations')\n",
    "ax_bl.set_ylabel('Accuracy')\n",
    "ax_tl.set_ylabel('Loss')\n",
    "\n",
    "colours = iter(plt.rcParams['axes.prop_cycle'].by_key()['color'])\n",
    "ax_tl.plot(trainer_1.train_epoch_costs, color=next(colours))\n",
    "ax_bl.plot(trainer_1.train_results['acc'], color=next(colours))\n",
    "ax_tr.plot(trainer_1.val_costs, color=next(colours))\n",
    "ax_br.plot(trainer_1.val_results['acc'], color=next(colours))\n",
    "\n",
    "test_acc_1 = acc(model_1(test_circuits_1), test_labels_1)\n",
    "print('Test accuracy:', test_acc_1)"
   ]
  },
  {
   "cell_type": "markdown",
   "id": "8a92b742-73e9-498c-9be7-f2d5b09c1b72",
   "metadata": {},
   "source": [
    "### 2.2 Data with only Lemmatization"
   ]
  },
  {
   "cell_type": "code",
   "execution_count": 27,
   "id": "2c7db859-f9a9-4068-a8fc-9cb170d7697f",
   "metadata": {},
   "outputs": [
    {
     "name": "stdout",
     "output_type": "stream",
     "text": [
      "206\n"
     ]
    }
   ],
   "source": [
    "data = cleaned_lemmatized_qnlp\n",
    "raw_train_diagrams_1, train_labels_1, raw_dev_diagrams_1, dev_labels_1, raw_test_diagrams_1, test_labels_1 = create_diagrams_and_labels(data)\n",
    "print(len(raw_train_diagrams_1))"
   ]
  },
  {
   "cell_type": "code",
   "execution_count": 28,
   "id": "0743ab22-8ec7-4f65-8455-3f14cdd5e1d7",
   "metadata": {},
   "outputs": [
    {
     "data": {
      "image/png": "[encoded data removed]",
      "text/plain": [
       "<Figure size 864x216 with 1 Axes>"
      ]
     },
     "metadata": {},
     "output_type": "display_data"
    }
   ],
   "source": [
    "raw_train_diagrams_1[0].draw(figsize=(12,3))"
   ]
  },
  {
   "cell_type": "code",
   "execution_count": 29,
   "id": "069de9d4-04cb-4a3c-9632-9a17ce415d5d",
   "metadata": {},
   "outputs": [],
   "source": [
    "train_diagrams_1 = [rewrite(diagram) for diagram in raw_train_diagrams_1]\n",
    "dev_diagrams_1 = [rewrite(diagram) for diagram in raw_dev_diagrams_1]\n",
    "test_diagrams_1 = [rewrite(diagram) for diagram in raw_test_diagrams_1]"
   ]
  },
  {
   "cell_type": "code",
   "execution_count": 30,
   "id": "478bd6c7-13a6-4b1c-8c48-3ef01089e946",
   "metadata": {},
   "outputs": [
    {
     "data": {
      "image/png": "[encoded data removed]",
      "text/plain": [
       "<Figure size 432x360 with 1 Axes>"
      ]
     },
     "metadata": {},
     "output_type": "display_data"
    }
   ],
   "source": [
    "train_diagrams_1[0].draw(figsize=(6,5))"
   ]
  },
  {
   "cell_type": "code",
   "execution_count": 31,
   "id": "6c586268-b667-42f3-ba19-85118d31cd52",
   "metadata": {},
   "outputs": [],
   "source": [
    "ansatz_1 = IQPAnsatz({AtomicType.NOUN: 1, AtomicType.SENTENCE: 1, AtomicType.PREPOSITIONAL_PHRASE: 1, AtomicType.NOUN_PHRASE:1, AtomicType.CONJUNCTION:1}, n_layers=1, n_single_qubit_params=3)\n",
    "train_circuits_1 = [ansatz_1(diagram) for diagram in train_diagrams_1]\n",
    "dev_circuits_1 =  [ansatz_1(diagram) for diagram in dev_diagrams_1]\n",
    "test_circuits_1 = [ansatz_1(diagram) for diagram in test_diagrams_1]"
   ]
  },
  {
   "cell_type": "code",
   "execution_count": 32,
   "id": "a8881ee7-6ef2-473b-9e2a-f4df591c3f5a",
   "metadata": {},
   "outputs": [
    {
     "data": {
      "image/png": "[encoded data removed]",
      "text/plain": [
       "<Figure size 648x864 with 1 Axes>"
      ]
     },
     "metadata": {},
     "output_type": "display_data"
    }
   ],
   "source": [
    "train_circuits_1[0].draw(figsize=(9, 12))"
   ]
  },
  {
   "cell_type": "code",
   "execution_count": 33,
   "id": "5d6cecc9-d496-47e5-b09a-0b4a00ddbb83",
   "metadata": {},
   "outputs": [
    {
     "data": {
      "text/html": [
       "\n",
       "\n",
       "\n",
       "\n",
       "\n",
       "\n",
       "<iframe srcdoc=\"\n",
       "&lt;!DOCTYPE html&gt;\n",
       "&lt;html lang=&#34;en&#34;&gt;\n",
       "&lt;head&gt;\n",
       "    &lt;meta charset=&#34;UTF-8&#34;&gt;\n",
       "\n",
       "    &lt;script type=&#34;application/javascript&#34; src=&#34;https://cdn.jsdelivr.net/npm/vue@3&#34;&gt;&lt;/script&gt;\n",
       "    &lt;script type=&#34;application/javascript&#34; src=&#34;https://unpkg.com/pytket-circuit-renderer@0.1/dist/pytket-circuit-renderer.umd.js&#34;&gt;&lt;/script&gt;\n",
       "    &lt;link rel=&#34;stylesheet&#34; href=&#34;https://unpkg.com/pytket-circuit-renderer@0.1/dist/pytket-circuit-renderer.css&#34;&gt;\n",
       "&lt;/head&gt;\n",
       "&lt;body&gt;\n",
       "    &lt;div id=&#34;circuit-display-vue-container-f99755c4-bc6a-45d6-b69b-fb51f5bce31d&#34; class=&#34;pytket-circuit-display-container&#34;&gt;\n",
       "        &lt;div style=&#34;display: none&#34;&gt;\n",
       "            &lt;div id=&#34;circuit-json-to-display&#34;&gt;{&#34;bits&#34;: [[&#34;c&#34;, [0]], [&#34;c&#34;, [1]], [&#34;c&#34;, [2]], [&#34;c&#34;, [3]]], &#34;commands&#34;: [{&#34;args&#34;: [[&#34;q&#34;, [0]]], &#34;op&#34;: {&#34;params&#34;: [&#34;2*thank__s_0&#34;], &#34;type&#34;: &#34;Rx&#34;}}, {&#34;args&#34;: [[&#34;q&#34;, [1]]], &#34;op&#34;: {&#34;params&#34;: [&#34;2*kevin__s_0&#34;], &#34;type&#34;: &#34;Rx&#34;}}, {&#34;args&#34;: [[&#34;q&#34;, [2]]], &#34;op&#34;: {&#34;params&#34;: [&#34;2*peesker__s_0&#34;], &#34;type&#34;: &#34;Rx&#34;}}, {&#34;args&#34;: [[&#34;q&#34;, [3]]], &#34;op&#34;: {&#34;params&#34;: [&#34;2*president__s_0&#34;], &#34;type&#34;: &#34;Rx&#34;}}, {&#34;args&#34;: [[&#34;q&#34;, [4]]], &#34;op&#34;: {&#34;params&#34;: [&#34;2*you__s_0&#34;], &#34;type&#34;: &#34;Rx&#34;}}, {&#34;args&#34;: [[&#34;q&#34;, [0]]], &#34;op&#34;: {&#34;params&#34;: [&#34;2*thank__s_1&#34;], &#34;type&#34;: &#34;Rz&#34;}}, {&#34;args&#34;: [[&#34;q&#34;, [1]]], &#34;op&#34;: {&#34;params&#34;: [&#34;2*kevin__s_1&#34;], &#34;type&#34;: &#34;Rz&#34;}}, {&#34;args&#34;: [[&#34;q&#34;, [2]]], &#34;op&#34;: {&#34;params&#34;: [&#34;2*peesker__s_1&#34;], &#34;type&#34;: &#34;Rz&#34;}}, {&#34;args&#34;: [[&#34;q&#34;, [3]]], &#34;op&#34;: {&#34;params&#34;: [&#34;2*president__s_1&#34;], &#34;type&#34;: &#34;Rz&#34;}}, {&#34;args&#34;: [[&#34;q&#34;, [4]]], &#34;op&#34;: {&#34;params&#34;: [&#34;2*you__s_1&#34;], &#34;type&#34;: &#34;Rz&#34;}}, {&#34;args&#34;: [[&#34;q&#34;, [0]]], &#34;op&#34;: {&#34;params&#34;: [&#34;2*thank__s_2&#34;], &#34;type&#34;: &#34;Rx&#34;}}, {&#34;args&#34;: [[&#34;q&#34;, [1]]], &#34;op&#34;: {&#34;params&#34;: [&#34;2*kevin__s_2&#34;], &#34;type&#34;: &#34;Rx&#34;}}, {&#34;args&#34;: [[&#34;q&#34;, [2]]], &#34;op&#34;: {&#34;params&#34;: [&#34;2*peesker__s_2&#34;], &#34;type&#34;: &#34;Rx&#34;}}, {&#34;args&#34;: [[&#34;q&#34;, [3]]], &#34;op&#34;: {&#34;params&#34;: [&#34;2*president__s_2&#34;], &#34;type&#34;: &#34;Rx&#34;}}, {&#34;args&#34;: [[&#34;q&#34;, [4]]], &#34;op&#34;: {&#34;params&#34;: [&#34;2*you__s_2&#34;], &#34;type&#34;: &#34;Rx&#34;}}, {&#34;args&#34;: [[&#34;q&#34;, [0]]], &#34;op&#34;: {&#34;type&#34;: &#34;H&#34;}}, {&#34;args&#34;: [[&#34;q&#34;, [1]]], &#34;op&#34;: {&#34;type&#34;: &#34;H&#34;}}, {&#34;args&#34;: [[&#34;q&#34;, [2]]], &#34;op&#34;: {&#34;type&#34;: &#34;H&#34;}}, {&#34;args&#34;: [[&#34;q&#34;, [3]]], &#34;op&#34;: {&#34;type&#34;: &#34;H&#34;}}, {&#34;args&#34;: [[&#34;q&#34;, [4]]], &#34;op&#34;: {&#34;type&#34;: &#34;H&#34;}}, {&#34;args&#34;: [[&#34;q&#34;, [0]], [&#34;q&#34;, [4]]], &#34;op&#34;: {&#34;params&#34;: [&#34;2*FA(((n &gt;&gt; s) &lt;&lt; n) &lt;&lt; n)_s@s_s_0&#34;], &#34;type&#34;: &#34;CRz&#34;}}, {&#34;args&#34;: [[&#34;q&#34;, [2]], [&#34;q&#34;, [3]]], &#34;op&#34;: {&#34;params&#34;: [&#34;2*FA(n &lt;&lt; n)_s@s_s_0&#34;], &#34;type&#34;: &#34;CRz&#34;}}, {&#34;args&#34;: [[&#34;q&#34;, [4]], [&#34;c&#34;, [0]]], &#34;op&#34;: {&#34;type&#34;: &#34;Measure&#34;}}, {&#34;args&#34;: [[&#34;q&#34;, [3]], [&#34;c&#34;, [1]]], &#34;op&#34;: {&#34;type&#34;: &#34;Measure&#34;}}, {&#34;args&#34;: [[&#34;q&#34;, [0]]], &#34;op&#34;: {&#34;type&#34;: &#34;H&#34;}}, {&#34;args&#34;: [[&#34;q&#34;, [2]]], &#34;op&#34;: {&#34;type&#34;: &#34;H&#34;}}, {&#34;args&#34;: [[&#34;q&#34;, [1]], [&#34;q&#34;, [2]]], &#34;op&#34;: {&#34;params&#34;: [&#34;2*FA(n &lt;&lt; n)_s@s_s_0&#34;], &#34;type&#34;: &#34;CRz&#34;}}, {&#34;args&#34;: [[&#34;q&#34;, [2]], [&#34;c&#34;, [2]]], &#34;op&#34;: {&#34;type&#34;: &#34;Measure&#34;}}, {&#34;args&#34;: [[&#34;q&#34;, [1]]], &#34;op&#34;: {&#34;type&#34;: &#34;H&#34;}}, {&#34;args&#34;: [[&#34;q&#34;, [0]], [&#34;q&#34;, [1]]], &#34;op&#34;: {&#34;params&#34;: [&#34;2*FA((n &gt;&gt; s) &lt;&lt; n)_s@s_s_0&#34;], &#34;type&#34;: &#34;CRz&#34;}}, {&#34;args&#34;: [[&#34;q&#34;, [1]], [&#34;c&#34;, [3]]], &#34;op&#34;: {&#34;type&#34;: &#34;Measure&#34;}}], &#34;implicit_permutation&#34;: [[[&#34;q&#34;, [0]], [&#34;q&#34;, [0]]], [[&#34;q&#34;, [1]], [&#34;q&#34;, [1]]], [[&#34;q&#34;, [2]], [&#34;q&#34;, [2]]], [[&#34;q&#34;, [3]], [&#34;q&#34;, [3]]], [[&#34;q&#34;, [4]], [&#34;q&#34;, [4]]]], &#34;phase&#34;: &#34;0.0&#34;, &#34;qubits&#34;: [[&#34;q&#34;, [0]], [&#34;q&#34;, [1]], [&#34;q&#34;, [2]], [&#34;q&#34;, [3]], [&#34;q&#34;, [4]]]}&lt;/div&gt;\n",
       "        &lt;/div&gt;\n",
       "        &lt;circuit-display-container :circuit-element-str=&#34;&#39;#circuit-json-to-display&#39;&#34;&gt;&lt;/circuit-display-container&gt;\n",
       "    &lt;/div&gt;\n",
       "\n",
       "    &lt;script type=&#34;application/javascript&#34;&gt;\n",
       "        const { createApp } = Vue;\n",
       "        const circuitDisplayContainer = window[&#34;pytket-circuit-renderer&#34;].default;\n",
       "\n",
       "        // Init variables to be shared between circuit display instances\n",
       "        if (typeof window.pytketCircuitDisplays === &#34;undefined&#34;) {\n",
       "            window.pytketCircuitDisplays = {};\n",
       "        }\n",
       "\n",
       "        const uid = &#34;f99755c4-bc6a-45d6-b69b-fb51f5bce31d&#34;;\n",
       "\n",
       "        // Create the root Vue component\n",
       "        window.pytketCircuitDisplays[uid] = createApp({\n",
       "            delimiters: [&#39;[[#&#39;, &#39;#]]&#39;],\n",
       "            components: { circuitDisplayContainer },\n",
       "        }).mount(&#34;#circuit-display-vue-container-&#34;+uid);\n",
       "    &lt;/script&gt;\n",
       "&lt;/body&gt;\n",
       "&lt;/html&gt;\n",
       "\"\n",
       "        width=\"100%\" height=\"200px\"\n",
       "        style=\"border: none; outline: none; resize: vertical; overflow: auto\"></iframe>\n",
       "\n"
      ],
      "text/plain": [
       "<IPython.core.display.HTML object>"
      ]
     },
     "metadata": {},
     "output_type": "display_data"
    }
   ],
   "source": [
    "render_circuit_jupyter(train_circuits_1[0].to_tk())"
   ]
  },
  {
   "cell_type": "code",
   "execution_count": 34,
   "id": "72df6b0e-a008-42a5-b69f-aafaa5f0d9c3",
   "metadata": {},
   "outputs": [],
   "source": [
    "all_circuits_1 = train_circuits_1 + dev_circuits_1 + test_circuits_1\n",
    "model_1 = NumpyModel.from_diagrams(all_circuits_1, use_jit=True)"
   ]
  },
  {
   "cell_type": "code",
   "execution_count": 35,
   "id": "42df4394-c1c8-4f64-ad68-4f3969792cad",
   "metadata": {},
   "outputs": [],
   "source": [
    "trainer_1 = QuantumTrainer(\n",
    "    model_1,\n",
    "    loss_function=loss,\n",
    "    epochs=EPOCHS,\n",
    "    optimizer=SPSAOptimizer,\n",
    "    optim_hyperparams={'a': 0.2, 'c': 0.06, 'A':0.01*EPOCHS},\n",
    "    evaluate_functions={'acc': acc},\n",
    "    evaluate_on_train=True,\n",
    "    verbose = 'text',\n",
    "    seed=0\n",
    ")\n",
    "train_dataset_1 = Dataset(\n",
    "            train_circuits_1,\n",
    "            train_labels_1,\n",
    "            batch_size=BATCH_SIZE)\n",
    "\n",
    "val_dataset_1 = Dataset(dev_circuits_1, dev_labels_1, shuffle=False)"
   ]
  },
  {
   "cell_type": "code",
   "execution_count": null,
   "id": "8a27c4b0-140a-4cbc-81df-bfb8e1225464",
   "metadata": {},
   "outputs": [
    {
     "name": "stderr",
     "output_type": "stream",
     "text": [
      "Epoch 1:    train/loss: 0.8216   valid/loss: 0.7457   train/acc: 0.4612   valid/acc: 0.5385\n",
      "Epoch 2:    train/loss: 0.7483   valid/loss: 0.7948   train/acc: 0.5146   valid/acc: 0.5000\n",
      "Epoch 3:    train/loss: 0.7834   valid/loss: 0.7746   train/acc: 0.5049   valid/acc: 0.5385\n",
      "Epoch 4:    train/loss: 0.7482   valid/loss: 0.8217   train/acc: 0.5194   valid/acc: 0.3462\n",
      "Epoch 5:    train/loss: 0.7250   valid/loss: 0.7766   train/acc: 0.4903   valid/acc: 0.3846\n",
      "Epoch 6:    train/loss: 0.7429   valid/loss: 0.7852   train/acc: 0.4806   valid/acc: 0.4615\n",
      "Epoch 7:    train/loss: 0.7223   valid/loss: 0.8606   train/acc: 0.5388   valid/acc: 0.4615\n",
      "Epoch 8:    train/loss: 0.7234   valid/loss: 0.8189   train/acc: 0.5631   valid/acc: 0.4231\n",
      "Epoch 9:    train/loss: 0.7164   valid/loss: 0.8395   train/acc: 0.5777   valid/acc: 0.4231\n",
      "Epoch 10:   train/loss: 0.7301   valid/loss: 0.8428   train/acc: 0.5777   valid/acc: 0.2692\n",
      "Epoch 11:   train/loss: 0.7183   valid/loss: 0.8634   train/acc: 0.5437   valid/acc: 0.2692\n",
      "Epoch 12:   train/loss: 0.7215   valid/loss: 0.8899   train/acc: 0.5485   valid/acc: 0.3077\n",
      "Epoch 13:   train/loss: 0.7272   valid/loss: 0.8329   train/acc: 0.5583   valid/acc: 0.3846\n",
      "Epoch 14:   train/loss: 0.7086   valid/loss: 0.8424   train/acc: 0.5728   valid/acc: 0.3077\n",
      "Epoch 15:   train/loss: 0.6925   valid/loss: 0.8243   train/acc: 0.5680   valid/acc: 0.2692\n",
      "Epoch 16:   train/loss: 0.6838   valid/loss: 0.8350   train/acc: 0.5825   valid/acc: 0.2692\n",
      "Epoch 17:   train/loss: 0.6780   valid/loss: 0.8334   train/acc: 0.5680   valid/acc: 0.3462\n",
      "Epoch 18:   train/loss: 0.6768   valid/loss: 0.8224   train/acc: 0.5922   valid/acc: 0.2692\n",
      "Epoch 19:   train/loss: 0.6775   valid/loss: 0.8604   train/acc: 0.6165   valid/acc: 0.3462\n",
      "Epoch 20:   train/loss: 0.6802   valid/loss: 0.8369   train/acc: 0.5922   valid/acc: 0.3462\n",
      "Epoch 21:   train/loss: 0.6786   valid/loss: 0.8308   train/acc: 0.5874   valid/acc: 0.3462\n",
      "Epoch 22:   train/loss: 0.6826   valid/loss: 0.8437   train/acc: 0.6165   valid/acc: 0.4231\n",
      "Epoch 23:   train/loss: 0.6756   valid/loss: 0.8615   train/acc: 0.6068   valid/acc: 0.4231\n",
      "Epoch 24:   train/loss: 0.6885   valid/loss: 0.8882   train/acc: 0.5874   valid/acc: 0.2692\n",
      "Epoch 25:   train/loss: 0.6899   valid/loss: 0.8758   train/acc: 0.5825   valid/acc: 0.3462\n",
      "Epoch 26:   train/loss: 0.6709   valid/loss: 0.8376   train/acc: 0.5825   valid/acc: 0.3846\n",
      "Epoch 27:   train/loss: 0.6632   valid/loss: 0.8230   train/acc: 0.5922   valid/acc: 0.3846\n",
      "Epoch 28:   train/loss: 0.6609   valid/loss: 0.8121   train/acc: 0.6117   valid/acc: 0.3846\n",
      "Epoch 29:   train/loss: 0.6602   valid/loss: 0.8117   train/acc: 0.6068   valid/acc: 0.3846\n",
      "Epoch 30:   train/loss: 0.6487   valid/loss: 0.8257   train/acc: 0.6165   valid/acc: 0.4231\n",
      "Epoch 31:   train/loss: 0.6467   valid/loss: 0.8282   train/acc: 0.6553   valid/acc: 0.4231\n",
      "Epoch 32:   train/loss: 0.6473   valid/loss: 0.8405   train/acc: 0.6262   valid/acc: 0.4231\n",
      "Epoch 33:   train/loss: 0.6501   valid/loss: 0.8049   train/acc: 0.6311   valid/acc: 0.3846\n",
      "Epoch 34:   train/loss: 0.6484   valid/loss: 0.7916   train/acc: 0.6359   valid/acc: 0.4615\n",
      "Epoch 35:   train/loss: 0.6369   valid/loss: 0.7819   train/acc: 0.6068   valid/acc: 0.4615\n",
      "Epoch 36:   train/loss: 0.6352   valid/loss: 0.7839   train/acc: 0.6262   valid/acc: 0.4231\n",
      "Epoch 37:   train/loss: 0.6405   valid/loss: 0.7723   train/acc: 0.6165   valid/acc: 0.5000\n",
      "Epoch 38:   train/loss: 0.6338   valid/loss: 0.7768   train/acc: 0.6456   valid/acc: 0.5000\n",
      "Epoch 39:   train/loss: 0.6349   valid/loss: 0.7923   train/acc: 0.6311   valid/acc: 0.4231\n",
      "Epoch 40:   train/loss: 0.6206   valid/loss: 0.8141   train/acc: 0.6311   valid/acc: 0.4231\n",
      "Epoch 41:   train/loss: 0.6252   valid/loss: 0.8112   train/acc: 0.6019   valid/acc: 0.4231\n",
      "Epoch 42:   train/loss: 0.6228   valid/loss: 0.8144   train/acc: 0.6359   valid/acc: 0.4615\n",
      "Epoch 43:   train/loss: 0.6308   valid/loss: 0.8192   train/acc: 0.6068   valid/acc: 0.4615\n",
      "Epoch 44:   train/loss: 0.6222   valid/loss: 0.8189   train/acc: 0.6359   valid/acc: 0.4615\n",
      "Epoch 45:   train/loss: 0.6218   valid/loss: 0.8128   train/acc: 0.6456   valid/acc: 0.4615\n",
      "Epoch 46:   train/loss: 0.6213   valid/loss: 0.8143   train/acc: 0.6165   valid/acc: 0.4231\n",
      "Epoch 47:   train/loss: 0.6149   valid/loss: 0.8186   train/acc: 0.6456   valid/acc: 0.4231\n",
      "Epoch 48:   train/loss: 0.6195   valid/loss: 0.8149   train/acc: 0.6456   valid/acc: 0.4231\n",
      "Epoch 49:   train/loss: 0.6145   valid/loss: 0.8142   train/acc: 0.6408   valid/acc: 0.3846\n",
      "Epoch 50:   train/loss: 0.6142   valid/loss: 0.8197   train/acc: 0.6650   valid/acc: 0.3077\n",
      "Epoch 51:   train/loss: 0.6143   valid/loss: 0.8363   train/acc: 0.6359   valid/acc: 0.4231\n",
      "Epoch 52:   train/loss: 0.6110   valid/loss: 0.8361   train/acc: 0.6602   valid/acc: 0.4615\n",
      "Epoch 53:   train/loss: 0.6082   valid/loss: 0.8549   train/acc: 0.6456   valid/acc: 0.3846\n",
      "Epoch 54:   train/loss: 0.6059   valid/loss: 0.8643   train/acc: 0.6748   valid/acc: 0.3077\n",
      "Epoch 55:   train/loss: 0.6063   valid/loss: 0.8587   train/acc: 0.6602   valid/acc: 0.3077\n",
      "Epoch 56:   train/loss: 0.6002   valid/loss: 0.8396   train/acc: 0.6748   valid/acc: 0.3846\n",
      "Epoch 57:   train/loss: 0.6004   valid/loss: 0.8488   train/acc: 0.6553   valid/acc: 0.3077\n",
      "Epoch 58:   train/loss: 0.6048   valid/loss: 0.8433   train/acc: 0.6748   valid/acc: 0.3462\n",
      "Epoch 59:   train/loss: 0.6041   valid/loss: 0.8394   train/acc: 0.6650   valid/acc: 0.3077\n",
      "Epoch 60:   train/loss: 0.6068   valid/loss: 0.8306   train/acc: 0.6602   valid/acc: 0.3077\n",
      "Epoch 61:   train/loss: 0.6024   valid/loss: 0.8359   train/acc: 0.6748   valid/acc: 0.4231\n",
      "Epoch 62:   train/loss: 0.5966   valid/loss: 0.8330   train/acc: 0.6893   valid/acc: 0.3077\n",
      "Epoch 63:   train/loss: 0.5920   valid/loss: 0.8373   train/acc: 0.7136   valid/acc: 0.3846\n",
      "Epoch 64:   train/loss: 0.5907   valid/loss: 0.8265   train/acc: 0.7136   valid/acc: 0.4231\n",
      "Epoch 65:   train/loss: 0.5897   valid/loss: 0.8373   train/acc: 0.7039   valid/acc: 0.4231\n",
      "Epoch 66:   train/loss: 0.5821   valid/loss: 0.8422   train/acc: 0.7136   valid/acc: 0.4231\n",
      "Epoch 67:   train/loss: 0.5823   valid/loss: 0.8402   train/acc: 0.7039   valid/acc: 0.4231\n",
      "Epoch 68:   train/loss: 0.5812   valid/loss: 0.8427   train/acc: 0.7039   valid/acc: 0.4231\n",
      "Epoch 69:   train/loss: 0.5820   valid/loss: 0.8454   train/acc: 0.6942   valid/acc: 0.4231\n"
     ]
    }
   ],
   "source": [
    "trainer_1.fit(train_dataset_1, val_dataset_1, logging_step=1)"
   ]
  },
  {
   "cell_type": "code",
   "execution_count": null,
   "id": "67fb0f09-d7bc-4122-8517-fc7b2b5310d8",
   "metadata": {},
   "outputs": [],
   "source": [
    "fig, ((ax_tl, ax_tr), (ax_bl, ax_br)) = plt.subplots(2, 2, sharex=True, sharey='row', figsize=(12, 8))\n",
    "ax_tl.set_title('Training set')\n",
    "ax_tr.set_title('Development set')\n",
    "ax_bl.set_xlabel('Iterations')\n",
    "ax_br.set_xlabel('Iterations')\n",
    "ax_bl.set_ylabel('Accuracy')\n",
    "ax_tl.set_ylabel('Loss')\n",
    "\n",
    "colours = iter(plt.rcParams['axes.prop_cycle'].by_key()['color'])\n",
    "ax_tl.plot(trainer_1.train_epoch_costs, color=next(colours))\n",
    "ax_bl.plot(trainer_1.train_results['acc'], color=next(colours))\n",
    "ax_tr.plot(trainer_1.val_costs, color=next(colours))\n",
    "ax_br.plot(trainer_1.val_results['acc'], color=next(colours))\n",
    "\n",
    "test_acc_1 = acc(model_1(test_circuits_1), test_labels_1)\n",
    "print('Test accuracy:', test_acc_1)"
   ]
  },
  {
   "cell_type": "markdown",
   "id": "109ddf2f-b42e-4e5c-a103-493aa37c8c59",
   "metadata": {},
   "source": [
    "### 2.3 Data without Lemmatization or stemming"
   ]
  },
  {
   "cell_type": "code",
   "execution_count": null,
   "id": "0146ce58-9962-489a-abe6-7b1c91cc5ab9",
   "metadata": {},
   "outputs": [],
   "source": [
    "data = cleaned_qnlp\n",
    "raw_train_diagrams_1, train_labels_1, raw_dev_diagrams_1, dev_labels_1, raw_test_diagrams_1, test_labels_1 = create_diagrams_and_labels(data)\n",
    "print(len(raw_train_diagrams_1))"
   ]
  },
  {
   "cell_type": "code",
   "execution_count": null,
   "id": "41608ed1-d00b-42b4-a601-889b2e251579",
   "metadata": {},
   "outputs": [],
   "source": [
    "raw_train_diagrams_1[0].draw(figsize=(12,3))"
   ]
  },
  {
   "cell_type": "code",
   "execution_count": null,
   "id": "ba532073-94fc-4570-bf7e-f48a530f01ba",
   "metadata": {},
   "outputs": [],
   "source": [
    "train_diagrams_1 = [rewrite(diagram) for diagram in raw_train_diagrams_1]\n",
    "dev_diagrams_1 = [rewrite(diagram) for diagram in raw_dev_diagrams_1]\n",
    "test_diagrams_1 = [rewrite(diagram) for diagram in raw_test_diagrams_1]"
   ]
  },
  {
   "cell_type": "code",
   "execution_count": null,
   "id": "9c419336-8ea5-4aec-8e5c-80787d38eb83",
   "metadata": {},
   "outputs": [],
   "source": [
    "train_diagrams_1[0].draw(figsize=(6,5))"
   ]
  },
  {
   "cell_type": "code",
   "execution_count": null,
   "id": "06b6bb8d-634e-4687-9c5f-f3f9f6de27cc",
   "metadata": {},
   "outputs": [],
   "source": [
    "render_circuit_jupyter(train_circuits_1[0].to_tk())"
   ]
  },
  {
   "cell_type": "code",
   "execution_count": null,
   "id": "3a78c101-65f8-47f5-8893-bca55bb2c05f",
   "metadata": {},
   "outputs": [],
   "source": [
    "all_circuits_1 = train_circuits_1 + dev_circuits_1 + test_circuits_1\n",
    "model_1 = NumpyModel.from_diagrams(all_circuits_1, use_jit=True)"
   ]
  },
  {
   "cell_type": "code",
   "execution_count": null,
   "id": "fabba0d0-fdaf-4d34-99ba-55962052620d",
   "metadata": {},
   "outputs": [],
   "source": [
    "trainer_1 = QuantumTrainer(\n",
    "    model_1,\n",
    "    loss_function=loss,\n",
    "    epochs=EPOCHS,\n",
    "    optimizer=SPSAOptimizer,\n",
    "    optim_hyperparams={'a': 0.2, 'c': 0.06, 'A':0.01*EPOCHS},\n",
    "    evaluate_functions={'acc': acc},\n",
    "    evaluate_on_train=True,\n",
    "    verbose = 'text',\n",
    "    seed=0\n",
    ")\n",
    "train_dataset_1 = Dataset(\n",
    "            train_circuits_1,\n",
    "            train_labels_1,\n",
    "            batch_size=BATCH_SIZE)\n",
    "\n",
    "val_dataset_1 = Dataset(dev_circuits_1, dev_labels_1, shuffle=False)"
   ]
  },
  {
   "cell_type": "code",
   "execution_count": null,
   "id": "c912f59a-cb57-4c45-9e84-05fa30966dde",
   "metadata": {},
   "outputs": [],
   "source": [
    "trainer_1.fit(train_dataset_1, val_dataset_1, logging_step=1)"
   ]
  },
  {
   "cell_type": "code",
   "execution_count": null,
   "id": "fbf9c328-fa77-4598-8646-c4020d85d17a",
   "metadata": {},
   "outputs": [],
   "source": [
    "fig, ((ax_tl, ax_tr), (ax_bl, ax_br)) = plt.subplots(2, 2, sharex=True, sharey='row', figsize=(12, 8))\n",
    "ax_tl.set_title('Training set')\n",
    "ax_tr.set_title('Development set')\n",
    "ax_bl.set_xlabel('Iterations')\n",
    "ax_br.set_xlabel('Iterations')\n",
    "ax_bl.set_ylabel('Accuracy')\n",
    "ax_tl.set_ylabel('Loss')\n",
    "\n",
    "colours = iter(plt.rcParams['axes.prop_cycle'].by_key()['color'])\n",
    "ax_tl.plot(trainer_1.train_epoch_costs, color=next(colours))\n",
    "ax_bl.plot(trainer_1.train_results['acc'], color=next(colours))\n",
    "ax_tr.plot(trainer_1.val_costs, color=next(colours))\n",
    "ax_br.plot(trainer_1.val_results['acc'], color=next(colours))\n",
    "\n",
    "test_acc_1 = acc(model_1(test_circuits_1), test_labels_1)\n",
    "print('Test accuracy:', test_acc_1)"
   ]
  },
  {
   "cell_type": "code",
   "execution_count": null,
   "id": "14997eaf-1016-44db-ade0-06b0eb257ad9",
   "metadata": {},
   "outputs": [],
   "source": []
  }
 ],
 "metadata": {
  "kernelspec": {
   "display_name": "Python 3 (ipykernel)",
   "language": "python",
   "name": "python3"
  },
  "language_info": {
   "codemirror_mode": {
    "name": "ipython",
    "version": 3
   },
   "file_extension": ".py",
   "mimetype": "text/x-python",
   "name": "python",
   "nbconvert_exporter": "python",
   "pygments_lexer": "ipython3",
   "version": "3.8.8"
  }
 },
 "nbformat": 4,
 "nbformat_minor": 5
}
