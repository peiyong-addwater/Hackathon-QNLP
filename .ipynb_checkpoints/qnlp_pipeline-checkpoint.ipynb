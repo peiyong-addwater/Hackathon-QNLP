{
 "cells": [
  {
   "cell_type": "markdown",
   "id": "1f77042f-a3da-426e-980e-044b38949914",
   "metadata": {
    "tags": []
   },
   "source": [
    "# The QNLP Pipeline for Twitter Sentiment Analysis\n",
    "## 1. Load the preprocessed data"
   ]
  },
  {
   "cell_type": "code",
   "execution_count": 1,
   "id": "c3824bba-eb18-4f46-bafa-4a670c427b51",
   "metadata": {},
   "outputs": [
    {
     "name": "stdout",
     "output_type": "stream",
     "text": [
      "/app\n"
     ]
    }
   ],
   "source": [
    "import collections\n",
    "import pickle\n",
    "import warnings\n",
    "warnings.filterwarnings(\"ignore\")\n",
    "import os\n",
    "from random import shuffle\n",
    "import random\n",
    "from discopy.tensor import Tensor\n",
    "from discopy import Word\n",
    "from discopy.rigid import Functor\n",
    "from discopy import grammar\n",
    "import seaborn as sns\n",
    "import pandas as pd\n",
    "import matplotlib.pyplot as plt\n",
    "from jax import numpy as np\n",
    "import numpy\n",
    "from lambeq import AtomicType, IQPAnsatz, remove_cups, NumpyModel, spiders_reader\n",
    "from lambeq import BobcatParser, TreeReader, cups_reader, DepCCGParser\n",
    "from lambeq import Dataset\n",
    "from lambeq import QuantumTrainer, SPSAOptimizer\n",
    "from lambeq import TketModel\n",
    "from lambeq import Rewriter\n",
    "from pytket.extensions.qiskit import AerBackend\n",
    "import seaborn as sns\n",
    "import matplotlib.pyplot as plt\n",
    "\n",
    "pd.set_option('display.width', 1000)\n",
    "pd.options.display.max_colwidth=80\n",
    "print(os.getcwd())\n",
    "warnings.filterwarnings(\"ignore\")\n",
    "os.environ[\"TOKENIZERS_PARALLELISM\"] = \"false\"\n",
    "BATCH_SIZE = 100\n",
    "EPOCHS = 100\n",
    "SEED = 0\n",
    "\n",
    "TRAIN_INDEX_RATIO = 0.06\n",
    "VAL_INDEX_RATIO = TRAIN_INDEX_RATIO + 0.01\n",
    "TEST_INDEX_RATIO = VAL_INDEX_RATIO + 0.01\n",
    "\n",
    "assert TEST_INDEX_RATIO <= 1\n",
    "\n",
    "def load_pickled_dict_to_df(filename):\n",
    "    saved_dict = pickle.load(open(filename, 'rb'))\n",
    "    df =  pd.DataFrame.from_dict(saved_dict)\n",
    "    df =  df.sample(frac=1, random_state=SEED).reset_index(drop=True)\n",
    "    sentiment = []\n",
    "    for i in df['target']:\n",
    "        if i == \"Positive\":\n",
    "            sentiment.append(1)\n",
    "        else:\n",
    "            sentiment.append(0)\n",
    "    df[\"Sentiment\"] = sentiment\n",
    "    return df\n",
    "\n",
    "cleaned_qnlp_filename = os.path.join(os.getcwd(), 'cleaned_qnlp_data.pkl')\n",
    "cleaned_lemmatized_qnlp_filename = os.path.join(os.getcwd(), 'cleaned_qnlp_data_lematize.pkl')\n",
    "cleaned_lemmatized_stemmed_qnlp_filename = os.path.join(os.getcwd(), 'cleaned_qnlp_data_stem_lematize.pkl')\n",
    "\n",
    "cleaned_qnlp = load_pickled_dict_to_df(cleaned_qnlp_filename)\n",
    "\n",
    "cleaned_lemmatized_qnlp = load_pickled_dict_to_df(cleaned_lemmatized_qnlp_filename)\n",
    "\n",
    "cleaned__lemmatized_stemmed_qnlp = load_pickled_dict_to_df(cleaned_lemmatized_stemmed_qnlp_filename)"
   ]
  },
  {
   "cell_type": "code",
   "execution_count": 2,
   "id": "54a7efb9-18c0-4a8d-b3c1-93c149971571",
   "metadata": {},
   "outputs": [
    {
     "data": {
      "text/html": [
       "<div>\n",
       "<style scoped>\n",
       "    .dataframe tbody tr th:only-of-type {\n",
       "        vertical-align: middle;\n",
       "    }\n",
       "\n",
       "    .dataframe tbody tr th {\n",
       "        vertical-align: top;\n",
       "    }\n",
       "\n",
       "    .dataframe thead th {\n",
       "        text-align: right;\n",
       "    }\n",
       "</style>\n",
       "<table border=\"1\" class=\"dataframe\">\n",
       "  <thead>\n",
       "    <tr style=\"text-align: right;\">\n",
       "      <th></th>\n",
       "      <th>data</th>\n",
       "      <th>label</th>\n",
       "      <th>target</th>\n",
       "      <th>Sentiment</th>\n",
       "    </tr>\n",
       "  </thead>\n",
       "  <tbody>\n",
       "    <tr>\n",
       "      <th>0</th>\n",
       "      <td>this isn t one hour i am still crushing all version of combat imperial warfa...</td>\n",
       "      <td>[0, 1]</td>\n",
       "      <td>Positive</td>\n",
       "      <td>1</td>\n",
       "    </tr>\n",
       "    <tr>\n",
       "      <th>1</th>\n",
       "      <td>to my home depot friend this place is very close to work and it is very inex...</td>\n",
       "      <td>[0, 1]</td>\n",
       "      <td>Positive</td>\n",
       "      <td>1</td>\n",
       "    </tr>\n",
       "    <tr>\n",
       "      <th>2</th>\n",
       "      <td>what a cutie unk unk check out my screenshot from world of</td>\n",
       "      <td>[0, 1]</td>\n",
       "      <td>Positive</td>\n",
       "      <td>1</td>\n",
       "    </tr>\n",
       "    <tr>\n",
       "      <th>3</th>\n",
       "      <td>battlefield war v is a boring mess</td>\n",
       "      <td>[1, 0]</td>\n",
       "      <td>Negative</td>\n",
       "      <td>0</td>\n",
       "    </tr>\n",
       "    <tr>\n",
       "      <th>4</th>\n",
       "      <td>the flatline of red dead redemption pic twitter com</td>\n",
       "      <td>[1, 0]</td>\n",
       "      <td>Negative</td>\n",
       "      <td>0</td>\n",
       "    </tr>\n",
       "    <tr>\n",
       "      <th>5</th>\n",
       "      <td>we re back tomorrow from playing fife grinding towards the weekend league we...</td>\n",
       "      <td>[0, 1]</td>\n",
       "      <td>Positive</td>\n",
       "      <td>1</td>\n",
       "    </tr>\n",
       "    <tr>\n",
       "      <th>6</th>\n",
       "      <td>plus pubg wa the only game in this a serious and also stressful condition of...</td>\n",
       "      <td>[0, 1]</td>\n",
       "      <td>Positive</td>\n",
       "      <td>1</td>\n",
       "    </tr>\n",
       "    <tr>\n",
       "      <th>7</th>\n",
       "      <td>hi s i lost two hour of progress in southern borderland again how is everyone</td>\n",
       "      <td>[1, 0]</td>\n",
       "      <td>Negative</td>\n",
       "      <td>0</td>\n",
       "    </tr>\n",
       "    <tr>\n",
       "      <th>8</th>\n",
       "      <td>film canon r uhd film nvidia</td>\n",
       "      <td>[0, 1]</td>\n",
       "      <td>Positive</td>\n",
       "      <td>1</td>\n",
       "    </tr>\n",
       "    <tr>\n",
       "      <th>9</th>\n",
       "      <td>is there a chance we also can get some more awesome package too because here...</td>\n",
       "      <td>[1, 0]</td>\n",
       "      <td>Negative</td>\n",
       "      <td>0</td>\n",
       "    </tr>\n",
       "  </tbody>\n",
       "</table>\n",
       "</div>"
      ],
      "text/plain": [
       "                                                                              data   label    target  Sentiment\n",
       "0  this isn t one hour i am still crushing all version of combat imperial warfa...  [0, 1]  Positive          1\n",
       "1  to my home depot friend this place is very close to work and it is very inex...  [0, 1]  Positive          1\n",
       "2                       what a cutie unk unk check out my screenshot from world of  [0, 1]  Positive          1\n",
       "3                                               battlefield war v is a boring mess  [1, 0]  Negative          0\n",
       "4                              the flatline of red dead redemption pic twitter com  [1, 0]  Negative          0\n",
       "5  we re back tomorrow from playing fife grinding towards the weekend league we...  [0, 1]  Positive          1\n",
       "6  plus pubg wa the only game in this a serious and also stressful condition of...  [0, 1]  Positive          1\n",
       "7    hi s i lost two hour of progress in southern borderland again how is everyone  [1, 0]  Negative          0\n",
       "8                                                     film canon r uhd film nvidia  [0, 1]  Positive          1\n",
       "9  is there a chance we also can get some more awesome package too because here...  [1, 0]  Negative          0"
      ]
     },
     "execution_count": 2,
     "metadata": {},
     "output_type": "execute_result"
    }
   ],
   "source": [
    "cleaned_qnlp.head(10)"
   ]
  },
  {
   "cell_type": "code",
   "execution_count": 3,
   "id": "7515c83a-1b10-4162-96ac-e1809637ad5d",
   "metadata": {},
   "outputs": [
    {
     "name": "stdout",
     "output_type": "stream",
     "text": [
      "<class 'pandas.core.frame.DataFrame'>\n",
      "RangeIndex: 4084 entries, 0 to 4083\n",
      "Data columns (total 4 columns):\n",
      " #   Column     Non-Null Count  Dtype \n",
      "---  ------     --------------  ----- \n",
      " 0   data       4084 non-null   object\n",
      " 1   label      4084 non-null   object\n",
      " 2   target     4084 non-null   object\n",
      " 3   Sentiment  4084 non-null   int64 \n",
      "dtypes: int64(1), object(3)\n",
      "memory usage: 127.8+ KB\n"
     ]
    }
   ],
   "source": [
    "cleaned_qnlp.info()"
   ]
  },
  {
   "cell_type": "code",
   "execution_count": 4,
   "id": "f9761735-1ceb-4bfa-9584-8b88773a4d59",
   "metadata": {},
   "outputs": [
    {
     "data": {
      "text/plain": [
       "<AxesSubplot:xlabel='target', ylabel='count'>"
      ]
     },
     "execution_count": 4,
     "metadata": {},
     "output_type": "execute_result"
    },
    {
     "data": {
      "image/png": "[encoded data removed]",
      "text/plain": [
       "<Figure size 432x288 with 1 Axes>"
      ]
     },
     "metadata": {
      "needs_background": "light"
     },
     "output_type": "display_data"
    }
   ],
   "source": [
    "sns.countplot(x = \"target\", data = cleaned_qnlp)"
   ]
  },
  {
   "cell_type": "code",
   "execution_count": 5,
   "id": "fd1b3ad8-e7aa-4045-8a9c-78dc26075823",
   "metadata": {},
   "outputs": [
    {
     "data": {
      "text/html": [
       "<div>\n",
       "<style scoped>\n",
       "    .dataframe tbody tr th:only-of-type {\n",
       "        vertical-align: middle;\n",
       "    }\n",
       "\n",
       "    .dataframe tbody tr th {\n",
       "        vertical-align: top;\n",
       "    }\n",
       "\n",
       "    .dataframe thead th {\n",
       "        text-align: right;\n",
       "    }\n",
       "</style>\n",
       "<table border=\"1\" class=\"dataframe\">\n",
       "  <thead>\n",
       "    <tr style=\"text-align: right;\">\n",
       "      <th></th>\n",
       "      <th>data</th>\n",
       "      <th>label</th>\n",
       "      <th>target</th>\n",
       "      <th>Sentiment</th>\n",
       "    </tr>\n",
       "  </thead>\n",
       "  <tbody>\n",
       "    <tr>\n",
       "      <th>0</th>\n",
       "      <td>this isn t one hour i am still crushing all version of combat imperial warfa...</td>\n",
       "      <td>[0, 1]</td>\n",
       "      <td>Positive</td>\n",
       "      <td>1</td>\n",
       "    </tr>\n",
       "    <tr>\n",
       "      <th>1</th>\n",
       "      <td>to my home depot friend this place is very close to work and it is very inex...</td>\n",
       "      <td>[0, 1]</td>\n",
       "      <td>Positive</td>\n",
       "      <td>1</td>\n",
       "    </tr>\n",
       "    <tr>\n",
       "      <th>2</th>\n",
       "      <td>what a cutie unk unk check out my screenshot from world of</td>\n",
       "      <td>[0, 1]</td>\n",
       "      <td>Positive</td>\n",
       "      <td>1</td>\n",
       "    </tr>\n",
       "    <tr>\n",
       "      <th>3</th>\n",
       "      <td>battlefield war v is a boring mess</td>\n",
       "      <td>[1, 0]</td>\n",
       "      <td>Negative</td>\n",
       "      <td>0</td>\n",
       "    </tr>\n",
       "    <tr>\n",
       "      <th>4</th>\n",
       "      <td>the flatline of red dead redemption pic twitter com</td>\n",
       "      <td>[1, 0]</td>\n",
       "      <td>Negative</td>\n",
       "      <td>0</td>\n",
       "    </tr>\n",
       "    <tr>\n",
       "      <th>5</th>\n",
       "      <td>we re back tomorrow from playing fife grinding towards the weekend league we...</td>\n",
       "      <td>[0, 1]</td>\n",
       "      <td>Positive</td>\n",
       "      <td>1</td>\n",
       "    </tr>\n",
       "    <tr>\n",
       "      <th>6</th>\n",
       "      <td>plus pubg wa the only game in this a serious and also stressful condition of...</td>\n",
       "      <td>[0, 1]</td>\n",
       "      <td>Positive</td>\n",
       "      <td>1</td>\n",
       "    </tr>\n",
       "    <tr>\n",
       "      <th>7</th>\n",
       "      <td>hi s i lost two hour of progress in southern borderland again how is everyone</td>\n",
       "      <td>[1, 0]</td>\n",
       "      <td>Negative</td>\n",
       "      <td>0</td>\n",
       "    </tr>\n",
       "    <tr>\n",
       "      <th>8</th>\n",
       "      <td>film canon r uhd film nvidia</td>\n",
       "      <td>[0, 1]</td>\n",
       "      <td>Positive</td>\n",
       "      <td>1</td>\n",
       "    </tr>\n",
       "    <tr>\n",
       "      <th>9</th>\n",
       "      <td>is there a chance we also can get some more awesome package too because here...</td>\n",
       "      <td>[1, 0]</td>\n",
       "      <td>Negative</td>\n",
       "      <td>0</td>\n",
       "    </tr>\n",
       "  </tbody>\n",
       "</table>\n",
       "</div>"
      ],
      "text/plain": [
       "                                                                              data   label    target  Sentiment\n",
       "0  this isn t one hour i am still crushing all version of combat imperial warfa...  [0, 1]  Positive          1\n",
       "1  to my home depot friend this place is very close to work and it is very inex...  [0, 1]  Positive          1\n",
       "2                       what a cutie unk unk check out my screenshot from world of  [0, 1]  Positive          1\n",
       "3                                               battlefield war v is a boring mess  [1, 0]  Negative          0\n",
       "4                              the flatline of red dead redemption pic twitter com  [1, 0]  Negative          0\n",
       "5  we re back tomorrow from playing fife grinding towards the weekend league we...  [0, 1]  Positive          1\n",
       "6  plus pubg wa the only game in this a serious and also stressful condition of...  [0, 1]  Positive          1\n",
       "7    hi s i lost two hour of progress in southern borderland again how is everyone  [1, 0]  Negative          0\n",
       "8                                                     film canon r uhd film nvidia  [0, 1]  Positive          1\n",
       "9  is there a chance we also can get some more awesome package too because here...  [1, 0]  Negative          0"
      ]
     },
     "execution_count": 5,
     "metadata": {},
     "output_type": "execute_result"
    }
   ],
   "source": [
    "cleaned_lemmatized_qnlp.head(10)"
   ]
  },
  {
   "cell_type": "code",
   "execution_count": 6,
   "id": "ebc7b47f-d4cd-4694-8990-6ae7304a7757",
   "metadata": {},
   "outputs": [
    {
     "name": "stdout",
     "output_type": "stream",
     "text": [
      "<class 'pandas.core.frame.DataFrame'>\n",
      "RangeIndex: 4084 entries, 0 to 4083\n",
      "Data columns (total 4 columns):\n",
      " #   Column     Non-Null Count  Dtype \n",
      "---  ------     --------------  ----- \n",
      " 0   data       4084 non-null   object\n",
      " 1   label      4084 non-null   object\n",
      " 2   target     4084 non-null   object\n",
      " 3   Sentiment  4084 non-null   int64 \n",
      "dtypes: int64(1), object(3)\n",
      "memory usage: 127.8+ KB\n"
     ]
    }
   ],
   "source": [
    "cleaned_lemmatized_qnlp.info()"
   ]
  },
  {
   "cell_type": "code",
   "execution_count": 7,
   "id": "de851c0b-4e86-48d7-ba4e-11bd74b1bc9d",
   "metadata": {},
   "outputs": [
    {
     "data": {
      "text/plain": [
       "<AxesSubplot:xlabel='target', ylabel='count'>"
      ]
     },
     "execution_count": 7,
     "metadata": {},
     "output_type": "execute_result"
    },
    {
     "data": {
      "image/png": "[encoded data removed]",
      "text/plain": [
       "<Figure size 432x288 with 1 Axes>"
      ]
     },
     "metadata": {
      "needs_background": "light"
     },
     "output_type": "display_data"
    }
   ],
   "source": [
    "sns.countplot(x='target', data = cleaned_lemmatized_qnlp)"
   ]
  },
  {
   "cell_type": "code",
   "execution_count": 8,
   "id": "a635a65c-17ca-4e4d-888c-c564498bef7a",
   "metadata": {},
   "outputs": [
    {
     "data": {
      "text/html": [
       "<div>\n",
       "<style scoped>\n",
       "    .dataframe tbody tr th:only-of-type {\n",
       "        vertical-align: middle;\n",
       "    }\n",
       "\n",
       "    .dataframe tbody tr th {\n",
       "        vertical-align: top;\n",
       "    }\n",
       "\n",
       "    .dataframe thead th {\n",
       "        text-align: right;\n",
       "    }\n",
       "</style>\n",
       "<table border=\"1\" class=\"dataframe\">\n",
       "  <thead>\n",
       "    <tr style=\"text-align: right;\">\n",
       "      <th></th>\n",
       "      <th>data</th>\n",
       "      <th>label</th>\n",
       "      <th>target</th>\n",
       "      <th>Sentiment</th>\n",
       "    </tr>\n",
       "  </thead>\n",
       "  <tbody>\n",
       "    <tr>\n",
       "      <th>0</th>\n",
       "      <td>i realli don t know whi i play fortnit it is so bad</td>\n",
       "      <td>[0, 1]</td>\n",
       "      <td>Positive</td>\n",
       "      <td>1</td>\n",
       "    </tr>\n",
       "    <tr>\n",
       "      <th>1</th>\n",
       "      <td>fantast day today congratul to gearboxoffici and borderland stori make you f...</td>\n",
       "      <td>[0, 1]</td>\n",
       "      <td>Positive</td>\n",
       "      <td>1</td>\n",
       "    </tr>\n",
       "    <tr>\n",
       "      <th>2</th>\n",
       "      <td>microsoft had a major outag today</td>\n",
       "      <td>[1, 0]</td>\n",
       "      <td>Negative</td>\n",
       "      <td>0</td>\n",
       "    </tr>\n",
       "    <tr>\n",
       "      <th>3</th>\n",
       "      <td>thi wa better</td>\n",
       "      <td>[1, 0]</td>\n",
       "      <td>Negative</td>\n",
       "      <td>0</td>\n",
       "    </tr>\n",
       "    <tr>\n",
       "      <th>4</th>\n",
       "      <td>p the player are part of own observ no wonder they are back to work</td>\n",
       "      <td>[1, 0]</td>\n",
       "      <td>Negative</td>\n",
       "      <td>0</td>\n",
       "    </tr>\n",
       "    <tr>\n",
       "      <th>5</th>\n",
       "      <td>nice e gaben veri nice</td>\n",
       "      <td>[0, 1]</td>\n",
       "      <td>Positive</td>\n",
       "      <td>1</td>\n",
       "    </tr>\n",
       "    <tr>\n",
       "      <th>6</th>\n",
       "      <td>first red dead redempt end got me in my feel what a masterpiec by moonlight</td>\n",
       "      <td>[0, 1]</td>\n",
       "      <td>Positive</td>\n",
       "      <td>1</td>\n",
       "    </tr>\n",
       "    <tr>\n",
       "      <th>7</th>\n",
       "      <td>whi can t i play red dead redempt onlin error</td>\n",
       "      <td>[1, 0]</td>\n",
       "      <td>Negative</td>\n",
       "      <td>0</td>\n",
       "    </tr>\n",
       "    <tr>\n",
       "      <th>8</th>\n",
       "      <td>it s amaz how mani game of c go you can win when mrbaconthoma actual tri</td>\n",
       "      <td>[0, 1]</td>\n",
       "      <td>Positive</td>\n",
       "      <td>1</td>\n",
       "    </tr>\n",
       "    <tr>\n",
       "      <th>9</th>\n",
       "      <td>great deal fifa ebay com rover</td>\n",
       "      <td>[0, 1]</td>\n",
       "      <td>Positive</td>\n",
       "      <td>1</td>\n",
       "    </tr>\n",
       "  </tbody>\n",
       "</table>\n",
       "</div>"
      ],
      "text/plain": [
       "                                                                              data   label    target  Sentiment\n",
       "0                              i realli don t know whi i play fortnit it is so bad  [0, 1]  Positive          1\n",
       "1  fantast day today congratul to gearboxoffici and borderland stori make you f...  [0, 1]  Positive          1\n",
       "2                                                microsoft had a major outag today  [1, 0]  Negative          0\n",
       "3                                                                    thi wa better  [1, 0]  Negative          0\n",
       "4              p the player are part of own observ no wonder they are back to work  [1, 0]  Negative          0\n",
       "5                                                           nice e gaben veri nice  [0, 1]  Positive          1\n",
       "6      first red dead redempt end got me in my feel what a masterpiec by moonlight  [0, 1]  Positive          1\n",
       "7                                    whi can t i play red dead redempt onlin error  [1, 0]  Negative          0\n",
       "8         it s amaz how mani game of c go you can win when mrbaconthoma actual tri  [0, 1]  Positive          1\n",
       "9                                                   great deal fifa ebay com rover  [0, 1]  Positive          1"
      ]
     },
     "execution_count": 8,
     "metadata": {},
     "output_type": "execute_result"
    }
   ],
   "source": [
    "cleaned__lemmatized_stemmed_qnlp.head(10)"
   ]
  },
  {
   "cell_type": "code",
   "execution_count": 9,
   "id": "354d02dc-2c1d-4b8c-8242-8a6517b8a4a6",
   "metadata": {},
   "outputs": [
    {
     "name": "stdout",
     "output_type": "stream",
     "text": [
      "<class 'pandas.core.frame.DataFrame'>\n",
      "RangeIndex: 4084 entries, 0 to 4083\n",
      "Data columns (total 4 columns):\n",
      " #   Column     Non-Null Count  Dtype \n",
      "---  ------     --------------  ----- \n",
      " 0   data       4084 non-null   object\n",
      " 1   label      4084 non-null   object\n",
      " 2   target     4084 non-null   object\n",
      " 3   Sentiment  4084 non-null   int64 \n",
      "dtypes: int64(1), object(3)\n",
      "memory usage: 127.8+ KB\n"
     ]
    }
   ],
   "source": [
    "cleaned__lemmatized_stemmed_qnlp.info()"
   ]
  },
  {
   "cell_type": "code",
   "execution_count": 10,
   "id": "602f278c-407a-4ffd-8b6f-2a94bca1ef00",
   "metadata": {},
   "outputs": [
    {
     "data": {
      "text/plain": [
       "<AxesSubplot:xlabel='target', ylabel='count'>"
      ]
     },
     "execution_count": 10,
     "metadata": {},
     "output_type": "execute_result"
    },
    {
     "data": {
      "image/png": "[encoded data removed]",
      "text/plain": [
       "<Figure size 432x288 with 1 Axes>"
      ]
     },
     "metadata": {
      "needs_background": "light"
     },
     "output_type": "display_data"
    }
   ],
   "source": [
    "sns.countplot(x='target', data = cleaned__lemmatized_stemmed_qnlp)"
   ]
  },
  {
   "cell_type": "markdown",
   "id": "e0d67456-d626-4fb6-bb12-ec3210a13e9c",
   "metadata": {
    "tags": []
   },
   "source": [
    "## 2. Train QNLP Models for Different-Preprocessed Data\n",
    "Since the limited parsing and training speed using on the CPU, we'll only use a fraction of our data."
   ]
  },
  {
   "cell_type": "code",
   "execution_count": 11,
   "id": "50766c20-c2f8-4fc2-974e-55c8e58fe93e",
   "metadata": {},
   "outputs": [],
   "source": [
    "parser = BobcatParser(verbose='text')\n",
    "# parser = DepCCGParser(root_cats=['S[dcl]'])\n",
    "# parser = cups_reader\n",
    "NUM_DATA = 4084\n",
    "\n",
    "loss = lambda y_hat, y: -np.sum(y * np.log(y_hat)) / len(y)  # binary cross-entropy loss\n",
    "acc = lambda y_hat, y: np.sum(np.round(y_hat) == y) / len(y) / 2  # half due to double-counting\n",
    "rewriter = Rewriter(['prepositional_phrase', 'determiner', 'auxiliary', 'connector', \n",
    "                         'coordination', 'object_rel_pronoun', 'subject_rel_pronoun',\n",
    "                        'postadverb', 'preadverb'])\n",
    "def rewrite(diagram):\n",
    "    # diagram = rewriter(diagram)\n",
    "    return remove_cups(diagram)\n",
    "\n",
    "def create_diagrams_and_labels(total_df):\n",
    "    total_text = total_df['data'].tolist()\n",
    "    total_labels = total_df[\"Sentiment\"].tolist()\n",
    "    total_labels = [[t, 1-t] for t in total_labels] # [1, 0] for positive, [0, 1] for negative\n",
    "    train_diagrams = parser.sentences2diagrams(total_text[:round(NUM_DATA*TRAIN_INDEX_RATIO)])\n",
    "    train_labels = total_labels[:round(NUM_DATA*TRAIN_INDEX_RATIO)]\n",
    "    dev_diagrams = parser.sentences2diagrams(total_text[round(NUM_DATA*TRAIN_INDEX_RATIO):round(NUM_DATA*VAL_INDEX_RATIO)])\n",
    "    dev_labels = total_labels[round(NUM_DATA*TRAIN_INDEX_RATIO):round(NUM_DATA*VAL_INDEX_RATIO)]\n",
    "    test_diagrams = parser.sentences2diagrams(total_text[round(NUM_DATA*VAL_INDEX_RATIO):round(NUM_DATA*TEST_INDEX_RATIO)])\n",
    "    test_labels = total_labels[round(NUM_DATA*VAL_INDEX_RATIO):round(NUM_DATA*TEST_INDEX_RATIO)]\n",
    "    \n",
    "    return train_diagrams, train_labels, dev_diagrams, dev_labels, test_diagrams, test_labels"
   ]
  },
  {
   "cell_type": "markdown",
   "id": "70c0bcd7-f858-4220-b075-3152bbf85f7c",
   "metadata": {},
   "source": [
    "### 2.1 Data without Lemmatization or Stemming\n",
    "#### 2.1.1 Create diagrams"
   ]
  },
  {
   "cell_type": "code",
   "execution_count": 12,
   "id": "e3f9920d-de6f-4410-809c-2c83e7dac786",
   "metadata": {
    "scrolled": true,
    "tags": []
   },
   "outputs": [
    {
     "name": "stderr",
     "output_type": "stream",
     "text": [
      "Tagging sentences.\n",
      "Parsing tagged sentences.\n",
      "Turning parse trees to diagrams.\n",
      "Tagging sentences.\n",
      "Parsing tagged sentences.\n",
      "Turning parse trees to diagrams.\n",
      "Tagging sentences.\n",
      "Parsing tagged sentences.\n",
      "Turning parse trees to diagrams.\n"
     ]
    },
    {
     "name": "stdout",
     "output_type": "stream",
     "text": [
      "245\n"
     ]
    }
   ],
   "source": [
    "raw_train_diagrams_1, train_labels_1, raw_dev_diagrams_1, dev_labels_1, raw_test_diagrams_1, test_labels_1 = create_diagrams_and_labels(cleaned_qnlp)\n",
    "print(len(raw_train_diagrams_1))"
   ]
  },
  {
   "cell_type": "code",
   "execution_count": 13,
   "id": "278401ec-572d-4e40-aa44-0df5663944ba",
   "metadata": {},
   "outputs": [
    {
     "data": {
      "image/png": "[encoded data removed]",
      "text/plain": [
       "<Figure size 864x216 with 1 Axes>"
      ]
     },
     "metadata": {},
     "output_type": "display_data"
    }
   ],
   "source": [
    "grammar.draw(raw_train_diagrams_1[8],figsize=(12,3), fontsize=12)"
   ]
  },
  {
   "cell_type": "markdown",
   "id": "7f23dd5a-d9ae-42af-8d49-eeae1b447586",
   "metadata": {},
   "source": [
    "#### 2.1.2 Simplify the diagrams"
   ]
  },
  {
   "cell_type": "code",
   "execution_count": 14,
   "id": "055c1f6c-1a18-47b7-8b9f-02d45f9d5f0f",
   "metadata": {},
   "outputs": [],
   "source": [
    "train_diagrams_1 = [rewrite(diagram) for diagram in raw_train_diagrams_1]\n",
    "dev_diagrams_1 = [rewrite(diagram) for diagram in raw_dev_diagrams_1]\n",
    "test_diagrams_1 = [rewrite(diagram) for diagram in raw_test_diagrams_1]"
   ]
  },
  {
   "cell_type": "code",
   "execution_count": 15,
   "id": "7e2e5e72-2a43-4de2-93fc-88f9b890511c",
   "metadata": {},
   "outputs": [
    {
     "data": {
      "image/png": "[encoded data removed]",
      "text/plain": [
       "<Figure size 432x360 with 1 Axes>"
      ]
     },
     "metadata": {},
     "output_type": "display_data"
    }
   ],
   "source": [
    "train_diagrams_1[8].draw(figsize=(6,5))"
   ]
  },
  {
   "cell_type": "markdown",
   "id": "5c33c912-81e7-4a98-ad27-01ecb112dc33",
   "metadata": {},
   "source": [
    "#### 2.1.3 Create circuits"
   ]
  },
  {
   "cell_type": "code",
   "execution_count": null,
   "id": "23573aa4-3a07-43d0-b1b4-2e6c6b10b244",
   "metadata": {},
   "outputs": [],
   "source": [
    "ansatz_1 = IQPAnsatz({AtomicType.NOUN: 1, AtomicType.SENTENCE: 1, AtomicType.PREPOSITIONAL_PHRASE: 1, AtomicType.NOUN_PHRASE:1, AtomicType.CONJUNCTION:1}, n_layers=1, n_single_qubit_params=3)\n",
    "train_circuits_1 = [ansatz_1(diagram) for diagram in train_diagrams_1]\n",
    "dev_circuits_1 =  [ansatz_1(diagram) for diagram in dev_diagrams_1]\n",
    "test_circuits_1 = [ansatz_1(diagram) for diagram in test_diagrams_1]"
   ]
  },
  {
   "cell_type": "code",
   "execution_count": null,
   "id": "9ba0503c-1561-4f55-84e3-4eb9738079cc",
   "metadata": {},
   "outputs": [],
   "source": [
    "train_circuits_1[8].draw(figsize=(9, 12))"
   ]
  },
  {
   "cell_type": "markdown",
   "id": "2b774c35-5065-4cae-bcfd-ecf1e2b29c4e",
   "metadata": {},
   "source": [
    "#### 2.1.4 Parameterise"
   ]
  },
  {
   "cell_type": "code",
   "execution_count": null,
   "id": "d37bf884-8e1f-4f47-b2b0-047708bbe52e",
   "metadata": {},
   "outputs": [],
   "source": [
    "all_circuits_1 = train_circuits_1 + dev_circuits_1 + test_circuits_1\n",
    "backend = AerBackend()\n",
    "backend_config = {\n",
    "    'backend': backend,\n",
    "    'compilation': backend.default_compilation_pass(2),\n",
    "    'shots': 2048\n",
    "}\n",
    "model_1 = NumpyModel.from_diagrams(all_circuits_1, use_jit=True)\n",
    "# model_1 = TketModel.from_diagrams(all_circuits_1, backend_config=backend_config)"
   ]
  },
  {
   "cell_type": "markdown",
   "id": "5c3bcb48-cf2a-46dd-96ca-1b4b46646a42",
   "metadata": {},
   "source": [
    "#### 2.1.5 Initialize trainer"
   ]
  },
  {
   "cell_type": "code",
   "execution_count": null,
   "id": "7468b472-f23e-47fb-887c-069334944174",
   "metadata": {},
   "outputs": [],
   "source": [
    "trainer_1 = QuantumTrainer(\n",
    "    model_1,\n",
    "    loss_function=loss,\n",
    "    epochs=EPOCHS,\n",
    "    optimizer=SPSAOptimizer,\n",
    "    optim_hyperparams={'a': 0.2, 'c': 0.06, 'A':0.01*EPOCHS},\n",
    "    evaluate_functions={'acc': acc},\n",
    "    evaluate_on_train=True,\n",
    "    verbose = 'text',\n",
    "    seed=0\n",
    ")\n",
    "train_dataset_1 = Dataset(\n",
    "            train_circuits_1,\n",
    "            train_labels_1,\n",
    "            batch_size=BATCH_SIZE)\n",
    "\n",
    "val_dataset_1 = Dataset(dev_circuits_1, dev_labels_1, shuffle=False)"
   ]
  },
  {
   "cell_type": "markdown",
   "id": "013379f2-1532-414f-9fe8-c2d751367750",
   "metadata": {},
   "source": [
    "#### 2.1.6 Train"
   ]
  },
  {
   "cell_type": "code",
   "execution_count": null,
   "id": "d55858d6-b168-4482-a06b-f6a13003e391",
   "metadata": {
    "scrolled": true,
    "tags": []
   },
   "outputs": [],
   "source": [
    "trainer_1.fit(train_dataset_1, val_dataset_1, logging_step=1)"
   ]
  },
  {
   "cell_type": "markdown",
   "id": "d73e1171-7877-40c5-ae59-c8822c5689c8",
   "metadata": {},
   "source": [
    "#### 2.1.7 Show Results"
   ]
  },
  {
   "cell_type": "code",
   "execution_count": null,
   "id": "8670eb81-c4c8-43c5-ab8a-c78d7f37fd06",
   "metadata": {},
   "outputs": [],
   "source": [
    "fig, ((ax_tl, ax_tr), (ax_bl, ax_br)) = plt.subplots(2, 2, sharex=True, sharey='row', figsize=(12, 8))\n",
    "ax_tl.set_title('Training set')\n",
    "ax_tr.set_title('Development set')\n",
    "ax_bl.set_xlabel('Iterations')\n",
    "ax_br.set_xlabel('Iterations')\n",
    "ax_bl.set_ylabel('Accuracy')\n",
    "ax_tl.set_ylabel('Loss')\n",
    "\n",
    "colours = iter(plt.rcParams['axes.prop_cycle'].by_key()['color'])\n",
    "ax_tl.plot(trainer_1.train_epoch_costs, color=next(colours))\n",
    "ax_bl.plot(trainer_1.train_results['acc'], color=next(colours))\n",
    "ax_tr.plot(trainer_1.val_costs, color=next(colours))\n",
    "ax_br.plot(trainer_1.val_results['acc'], color=next(colours))\n",
    "\n",
    "test_acc_1 = acc(model_1(test_circuits_1), test_labels_1)\n",
    "print('Test accuracy:', test_acc_1)"
   ]
  },
  {
   "cell_type": "code",
   "execution_count": null,
   "id": "170651eb-d76f-4471-a896-d03d6c11809f",
   "metadata": {},
   "outputs": [],
   "source": []
  }
 ],
 "metadata": {
  "kernelspec": {
   "display_name": "Python 3 (ipykernel)",
   "language": "python",
   "name": "python3"
  },
  "language_info": {
   "codemirror_mode": {
    "name": "ipython",
    "version": 3
   },
   "file_extension": ".py",
   "mimetype": "text/x-python",
   "name": "python",
   "nbconvert_exporter": "python",
   "pygments_lexer": "ipython3",
   "version": "3.9.12"
  }
 },
 "nbformat": 4,
 "nbformat_minor": 5
}
