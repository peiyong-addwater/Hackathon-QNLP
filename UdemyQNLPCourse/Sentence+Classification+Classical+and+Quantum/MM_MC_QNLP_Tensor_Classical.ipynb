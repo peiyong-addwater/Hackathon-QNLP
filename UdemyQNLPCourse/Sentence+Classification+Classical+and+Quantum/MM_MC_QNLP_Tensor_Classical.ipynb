{
  "nbformat": 4,
  "nbformat_minor": 0,
  "metadata": {
    "colab": {
      "name": "MM_MC_QNLP_Tensor_Classical.ipynb",
      "provenance": [],
      "collapsed_sections": []
    },
    "kernelspec": {
      "name": "python3",
      "display_name": "Python 3"
    },
    "language_info": {
      "name": "python"
    }
  },
  "cells": [
    {
      "cell_type": "markdown",
      "source": [
        "**Meaning Classification with lambeq QNLP Toolkit**\n",
        "\n",
        "Classical Pipeline Simulation\n",
        "\n",
        "This tutorial is based on - https://cqcl.github.io/lambeq/tutorials/training-usecase.html"
      ],
      "metadata": {
        "id": "FAKAiUstoxrh"
      }
    },
    {
      "cell_type": "markdown",
      "source": [
        "There are total 130 sentences in the data set where the training set has 70, development set has 30 and test set has 30. There are two kinds of sentences available which are related to either Maths or Music. This is a binary senence classification problem."
      ],
      "metadata": {
        "id": "ump-06Xoo9Es"
      }
    },
    {
      "cell_type": "code",
      "metadata": {
        "colab": {
          "base_uri": "https://localhost:8080/"
        },
        "id": "R8Ed0r8zfSwz",
        "outputId": "8e5b55f3-37da-421f-c599-efccb4175cb6"
      },
      "source": [
        "from google.colab import drive\n",
        "drive.mount('/content/drive')"
      ],
      "execution_count": null,
      "outputs": [
        {
          "output_type": "stream",
          "name": "stdout",
          "text": [
            "Mounted at /content/drive\n"
          ]
        }
      ]
    },
    {
      "cell_type": "markdown",
      "source": [
        "**Installing necessary libraries**"
      ],
      "metadata": {
        "id": "eo0OGRRWypX-"
      }
    },
    {
      "cell_type": "code",
      "metadata": {
        "colab": {
          "base_uri": "https://localhost:8080/"
        },
        "id": "4AcD7H1YUJDJ",
        "outputId": "e96bb312-7d92-4f04-896b-714eead1e956"
      },
      "source": [
        "! pip install lambeq"
      ],
      "execution_count": null,
      "outputs": [
        {
          "output_type": "stream",
          "name": "stdout",
          "text": [
            "Collecting lambeq\n",
            "  Downloading lambeq-0.1.2-py3-none-any.whl (35 kB)\n",
            "Collecting tensornetwork\n",
            "  Downloading tensornetwork-0.4.6-py3-none-any.whl (364 kB)\n",
            "\u001b[K     |████████████████████████████████| 364 kB 10.0 MB/s \n",
            "\u001b[?25hRequirement already satisfied: pytket>=0.10.0 in /usr/local/lib/python3.7/dist-packages (from lambeq) (0.15.0)\n",
            "Collecting discopy>=0.3.7.1\n",
            "  Downloading discopy-0.3.7.1.tar.gz (100 kB)\n",
            "\u001b[K     |████████████████████████████████| 100 kB 9.2 MB/s \n",
            "\u001b[?25hRequirement already satisfied: numpy>=1.18.1 in /usr/local/lib/python3.7/dist-packages (from discopy>=0.3.7.1->lambeq) (1.19.5)\n",
            "Requirement already satisfied: networkx>=2.4 in /usr/local/lib/python3.7/dist-packages (from discopy>=0.3.7.1->lambeq) (2.6.3)\n",
            "Requirement already satisfied: matplotlib>=3.1.2 in /usr/local/lib/python3.7/dist-packages (from discopy>=0.3.7.1->lambeq) (3.2.2)\n",
            "Requirement already satisfied: pillow>=6.2.1 in /usr/local/lib/python3.7/dist-packages (from discopy>=0.3.7.1->lambeq) (7.1.2)\n",
            "Requirement already satisfied: pyparsing!=2.0.4,!=2.1.2,!=2.1.6,>=2.0.1 in /usr/local/lib/python3.7/dist-packages (from matplotlib>=3.1.2->discopy>=0.3.7.1->lambeq) (2.4.7)\n",
            "Requirement already satisfied: kiwisolver>=1.0.1 in /usr/local/lib/python3.7/dist-packages (from matplotlib>=3.1.2->discopy>=0.3.7.1->lambeq) (1.3.2)\n",
            "Requirement already satisfied: python-dateutil>=2.1 in /usr/local/lib/python3.7/dist-packages (from matplotlib>=3.1.2->discopy>=0.3.7.1->lambeq) (2.8.2)\n",
            "Requirement already satisfied: cycler>=0.10 in /usr/local/lib/python3.7/dist-packages (from matplotlib>=3.1.2->discopy>=0.3.7.1->lambeq) (0.10.0)\n",
            "Requirement already satisfied: six in /usr/local/lib/python3.7/dist-packages (from cycler>=0.10->matplotlib>=3.1.2->discopy>=0.3.7.1->lambeq) (1.15.0)\n",
            "Requirement already satisfied: types-Jinja2 in /usr/local/lib/python3.7/dist-packages (from pytket>=0.10.0->lambeq) (2.11.7)\n",
            "Requirement already satisfied: scipy~=1.2 in /usr/local/lib/python3.7/dist-packages (from pytket>=0.10.0->lambeq) (1.4.1)\n",
            "Requirement already satisfied: graphviz~=0.14 in /usr/local/lib/python3.7/dist-packages (from pytket>=0.10.0->lambeq) (0.17)\n",
            "Requirement already satisfied: jinja2~=2.11 in /usr/local/lib/python3.7/dist-packages (from pytket>=0.10.0->lambeq) (2.11.3)\n",
            "Requirement already satisfied: types-pkg-resources in /usr/local/lib/python3.7/dist-packages (from pytket>=0.10.0->lambeq) (0.1.3)\n",
            "Requirement already satisfied: typing-extensions~=3.7 in /usr/local/lib/python3.7/dist-packages (from pytket>=0.10.0->lambeq) (3.7.4.3)\n",
            "Requirement already satisfied: sympy~=1.6 in /usr/local/lib/python3.7/dist-packages (from pytket>=0.10.0->lambeq) (1.7.1)\n",
            "Requirement already satisfied: lark-parser~=0.7 in /usr/local/lib/python3.7/dist-packages (from pytket>=0.10.0->lambeq) (0.12.0)\n",
            "Requirement already satisfied: MarkupSafe>=0.23 in /usr/local/lib/python3.7/dist-packages (from jinja2~=2.11->pytket>=0.10.0->lambeq) (2.0.1)\n",
            "Requirement already satisfied: mpmath>=0.19 in /usr/local/lib/python3.7/dist-packages (from sympy~=1.6->pytket>=0.10.0->lambeq) (1.2.1)\n",
            "Requirement already satisfied: h5py>=2.9.0 in /usr/local/lib/python3.7/dist-packages (from tensornetwork->lambeq) (3.1.0)\n",
            "Requirement already satisfied: opt-einsum>=2.3.0 in /usr/local/lib/python3.7/dist-packages (from tensornetwork->lambeq) (3.3.0)\n",
            "Requirement already satisfied: cached-property in /usr/local/lib/python3.7/dist-packages (from h5py>=2.9.0->tensornetwork->lambeq) (1.5.2)\n",
            "Requirement already satisfied: types-MarkupSafe in /usr/local/lib/python3.7/dist-packages (from types-Jinja2->pytket>=0.10.0->lambeq) (1.1.7)\n",
            "Building wheels for collected packages: discopy\n",
            "  Building wheel for discopy (setup.py) ... \u001b[?25l\u001b[?25hdone\n",
            "  Created wheel for discopy: filename=discopy-0.3.7.1-py3-none-any.whl size=91600 sha256=9463492c28cc50b6bc8e30b19d91f86345142731b59d3a8d3618dd9e2fe45a38\n",
            "  Stored in directory: /root/.cache/pip/wheels/dc/59/a1/9e765d9e150bad283ca03bf98c2c0ddd001f80078c3163e497\n",
            "Successfully built discopy\n",
            "Installing collected packages: tensornetwork, discopy, lambeq\n",
            "Successfully installed discopy-0.3.7.1 lambeq-0.1.2 tensornetwork-0.4.6\n"
          ]
        }
      ]
    },
    {
      "cell_type": "code",
      "metadata": {
        "colab": {
          "base_uri": "https://localhost:8080/",
          "height": 1000
        },
        "id": "wDVbfH2MR5lN",
        "outputId": "6788ed93-be22-4760-e5c3-988276019c8f"
      },
      "source": [
        "! pip install lambeq[depccg]"
      ],
      "execution_count": null,
      "outputs": [
        {
          "output_type": "stream",
          "name": "stdout",
          "text": [
            "Requirement already satisfied: lambeq[depccg] in /usr/local/lib/python3.7/dist-packages (0.1.2)\n",
            "Requirement already satisfied: pytket>=0.10.0 in /usr/local/lib/python3.7/dist-packages (from lambeq[depccg]) (0.15.0)\n",
            "Requirement already satisfied: discopy>=0.3.7.1 in /usr/local/lib/python3.7/dist-packages (from lambeq[depccg]) (0.3.7.1)\n",
            "Requirement already satisfied: tensornetwork in /usr/local/lib/python3.7/dist-packages (from lambeq[depccg]) (0.4.6)\n",
            "Collecting depccg==1.1.0\n",
            "  Downloading depccg-1.1.0.tar.gz (3.5 MB)\n",
            "\u001b[K     |████████████████████████████████| 3.5 MB 7.1 MB/s \n",
            "\u001b[?25hCollecting chainer<=6.0.0\n",
            "  Downloading chainer-6.0.0.tar.gz (880 kB)\n",
            "\u001b[K     |████████████████████████████████| 880 kB 52.7 MB/s \n",
            "\u001b[?25hCollecting simplejson\n",
            "  Downloading simplejson-3.17.5-cp37-cp37m-manylinux_2_5_x86_64.manylinux1_x86_64.manylinux_2_12_x86_64.manylinux2010_x86_64.whl (129 kB)\n",
            "\u001b[K     |████████████████████████████████| 129 kB 46.1 MB/s \n",
            "\u001b[?25hRequirement already satisfied: cython in /usr/local/lib/python3.7/dist-packages (from depccg==1.1.0->lambeq[depccg]) (0.29.24)\n",
            "Requirement already satisfied: lxml in /usr/local/lib/python3.7/dist-packages (from depccg==1.1.0->lambeq[depccg]) (4.6.3)\n",
            "Requirement already satisfied: pyyaml in /usr/local/lib/python3.7/dist-packages (from depccg==1.1.0->lambeq[depccg]) (3.13)\n",
            "Requirement already satisfied: nltk in /usr/local/lib/python3.7/dist-packages (from depccg==1.1.0->lambeq[depccg]) (3.2.5)\n",
            "Requirement already satisfied: googledrivedownloader in /usr/local/lib/python3.7/dist-packages (from depccg==1.1.0->lambeq[depccg]) (0.4)\n",
            "Requirement already satisfied: requests in /usr/local/lib/python3.7/dist-packages (from depccg==1.1.0->lambeq[depccg]) (2.23.0)\n",
            "Requirement already satisfied: setuptools in /usr/local/lib/python3.7/dist-packages (from chainer<=6.0.0->lambeq[depccg]) (57.4.0)\n",
            "Collecting typing\n",
            "  Downloading typing-3.7.4.3.tar.gz (78 kB)\n",
            "\u001b[K     |████████████████████████████████| 78 kB 6.3 MB/s \n",
            "\u001b[?25hRequirement already satisfied: typing_extensions in /usr/local/lib/python3.7/dist-packages (from chainer<=6.0.0->lambeq[depccg]) (3.7.4.3)\n",
            "Requirement already satisfied: filelock in /usr/local/lib/python3.7/dist-packages (from chainer<=6.0.0->lambeq[depccg]) (3.3.0)\n",
            "Requirement already satisfied: numpy>=1.9.0 in /usr/local/lib/python3.7/dist-packages (from chainer<=6.0.0->lambeq[depccg]) (1.19.5)\n",
            "Collecting protobuf<3.8.0rc1,>=3.0.0\n",
            "  Downloading protobuf-3.7.1-cp37-cp37m-manylinux1_x86_64.whl (1.2 MB)\n",
            "\u001b[K     |████████████████████████████████| 1.2 MB 52.1 MB/s \n",
            "\u001b[?25hRequirement already satisfied: six>=1.9.0 in /usr/local/lib/python3.7/dist-packages (from chainer<=6.0.0->lambeq[depccg]) (1.15.0)\n",
            "Requirement already satisfied: networkx>=2.4 in /usr/local/lib/python3.7/dist-packages (from discopy>=0.3.7.1->lambeq[depccg]) (2.6.3)\n",
            "Requirement already satisfied: pillow>=6.2.1 in /usr/local/lib/python3.7/dist-packages (from discopy>=0.3.7.1->lambeq[depccg]) (7.1.2)\n",
            "Requirement already satisfied: matplotlib>=3.1.2 in /usr/local/lib/python3.7/dist-packages (from discopy>=0.3.7.1->lambeq[depccg]) (3.2.2)\n",
            "Requirement already satisfied: kiwisolver>=1.0.1 in /usr/local/lib/python3.7/dist-packages (from matplotlib>=3.1.2->discopy>=0.3.7.1->lambeq[depccg]) (1.3.2)\n",
            "Requirement already satisfied: pyparsing!=2.0.4,!=2.1.2,!=2.1.6,>=2.0.1 in /usr/local/lib/python3.7/dist-packages (from matplotlib>=3.1.2->discopy>=0.3.7.1->lambeq[depccg]) (2.4.7)\n",
            "Requirement already satisfied: python-dateutil>=2.1 in /usr/local/lib/python3.7/dist-packages (from matplotlib>=3.1.2->discopy>=0.3.7.1->lambeq[depccg]) (2.8.2)\n",
            "Requirement already satisfied: cycler>=0.10 in /usr/local/lib/python3.7/dist-packages (from matplotlib>=3.1.2->discopy>=0.3.7.1->lambeq[depccg]) (0.10.0)\n",
            "Requirement already satisfied: types-Jinja2 in /usr/local/lib/python3.7/dist-packages (from pytket>=0.10.0->lambeq[depccg]) (2.11.7)\n",
            "Requirement already satisfied: types-pkg-resources in /usr/local/lib/python3.7/dist-packages (from pytket>=0.10.0->lambeq[depccg]) (0.1.3)\n",
            "Requirement already satisfied: scipy~=1.2 in /usr/local/lib/python3.7/dist-packages (from pytket>=0.10.0->lambeq[depccg]) (1.4.1)\n",
            "Requirement already satisfied: lark-parser~=0.7 in /usr/local/lib/python3.7/dist-packages (from pytket>=0.10.0->lambeq[depccg]) (0.12.0)\n",
            "Requirement already satisfied: graphviz~=0.14 in /usr/local/lib/python3.7/dist-packages (from pytket>=0.10.0->lambeq[depccg]) (0.17)\n",
            "Requirement already satisfied: jinja2~=2.11 in /usr/local/lib/python3.7/dist-packages (from pytket>=0.10.0->lambeq[depccg]) (2.11.3)\n",
            "Requirement already satisfied: sympy~=1.6 in /usr/local/lib/python3.7/dist-packages (from pytket>=0.10.0->lambeq[depccg]) (1.7.1)\n",
            "Requirement already satisfied: MarkupSafe>=0.23 in /usr/local/lib/python3.7/dist-packages (from jinja2~=2.11->pytket>=0.10.0->lambeq[depccg]) (2.0.1)\n",
            "Requirement already satisfied: mpmath>=0.19 in /usr/local/lib/python3.7/dist-packages (from sympy~=1.6->pytket>=0.10.0->lambeq[depccg]) (1.2.1)\n",
            "Requirement already satisfied: chardet<4,>=3.0.2 in /usr/local/lib/python3.7/dist-packages (from requests->depccg==1.1.0->lambeq[depccg]) (3.0.4)\n",
            "Requirement already satisfied: idna<3,>=2.5 in /usr/local/lib/python3.7/dist-packages (from requests->depccg==1.1.0->lambeq[depccg]) (2.10)\n",
            "Requirement already satisfied: urllib3!=1.25.0,!=1.25.1,<1.26,>=1.21.1 in /usr/local/lib/python3.7/dist-packages (from requests->depccg==1.1.0->lambeq[depccg]) (1.24.3)\n",
            "Requirement already satisfied: certifi>=2017.4.17 in /usr/local/lib/python3.7/dist-packages (from requests->depccg==1.1.0->lambeq[depccg]) (2021.5.30)\n",
            "Requirement already satisfied: opt-einsum>=2.3.0 in /usr/local/lib/python3.7/dist-packages (from tensornetwork->lambeq[depccg]) (3.3.0)\n",
            "Requirement already satisfied: h5py>=2.9.0 in /usr/local/lib/python3.7/dist-packages (from tensornetwork->lambeq[depccg]) (3.1.0)\n",
            "Requirement already satisfied: cached-property in /usr/local/lib/python3.7/dist-packages (from h5py>=2.9.0->tensornetwork->lambeq[depccg]) (1.5.2)\n",
            "Requirement already satisfied: types-MarkupSafe in /usr/local/lib/python3.7/dist-packages (from types-Jinja2->pytket>=0.10.0->lambeq[depccg]) (1.1.7)\n",
            "Building wheels for collected packages: depccg, chainer, typing\n",
            "  Building wheel for depccg (setup.py) ... \u001b[?25l\u001b[?25hdone\n",
            "  Created wheel for depccg: filename=depccg-1.1.0-cp37-cp37m-linux_x86_64.whl size=13856206 sha256=0c855301520fb555431027b836bfa41fee22580db5201cc39e227c92f06f589a\n",
            "  Stored in directory: /root/.cache/pip/wheels/85/94/1c/1ae7b6d4d94fa629ebf0a55c3558486494a207740f50e64a51\n",
            "  Building wheel for chainer (setup.py) ... \u001b[?25l\u001b[?25hdone\n",
            "  Created wheel for chainer: filename=chainer-6.0.0-py3-none-any.whl size=876785 sha256=c78e5c107d94685a1adec429ed475ea8fb9486a45ca0c197ae7171b199f50177\n",
            "  Stored in directory: /root/.cache/pip/wheels/cd/38/53/18c6578a40a10ff120db266e58c5e383c1cb7bdea79b6c418a\n",
            "  Building wheel for typing (setup.py) ... \u001b[?25l\u001b[?25hdone\n",
            "  Created wheel for typing: filename=typing-3.7.4.3-py3-none-any.whl size=26324 sha256=972934771a2861875ff58f80c37b9cdab808c235d284ad4ae9fc82ee410df014\n",
            "  Stored in directory: /root/.cache/pip/wheels/35/f3/15/01aa6571f0a72ee6ae7b827c1491c37a1f72d686fd22b43b0e\n",
            "Successfully built depccg chainer typing\n",
            "Installing collected packages: typing, protobuf, simplejson, chainer, depccg\n",
            "  Attempting uninstall: protobuf\n",
            "    Found existing installation: protobuf 3.17.3\n",
            "    Uninstalling protobuf-3.17.3:\n",
            "      Successfully uninstalled protobuf-3.17.3\n",
            "\u001b[31mERROR: pip's dependency resolver does not currently take into account all the packages that are installed. This behaviour is the source of the following dependency conflicts.\n",
            "tensorflow 2.6.0 requires protobuf>=3.9.2, but you have protobuf 3.7.1 which is incompatible.\n",
            "tensorflow-metadata 1.2.0 requires protobuf<4,>=3.13, but you have protobuf 3.7.1 which is incompatible.\n",
            "tensorflow-hub 0.12.0 requires protobuf>=3.8.0, but you have protobuf 3.7.1 which is incompatible.\n",
            "googleapis-common-protos 1.53.0 requires protobuf>=3.12.0, but you have protobuf 3.7.1 which is incompatible.\n",
            "google-api-core 1.26.3 requires protobuf>=3.12.0, but you have protobuf 3.7.1 which is incompatible.\u001b[0m\n",
            "Successfully installed chainer-6.0.0 depccg-1.1.0 protobuf-3.7.1 simplejson-3.17.5 typing-3.7.4.3\n"
          ]
        },
        {
          "output_type": "display_data",
          "data": {
            "application/vnd.colab-display-data+json": {
              "pip_warning": {
                "packages": [
                  "google",
                  "typing"
                ]
              }
            }
          },
          "metadata": {}
        }
      ]
    },
    {
      "cell_type": "code",
      "metadata": {
        "colab": {
          "base_uri": "https://localhost:8080/"
        },
        "id": "vj6kcQ2jR8iR",
        "outputId": "3604c079-3bf4-4ef6-d358-081475106fc9"
      },
      "source": [
        "! depccg_en download"
      ],
      "execution_count": null,
      "outputs": [
        {
          "output_type": "stream",
          "name": "stdout",
          "text": [
            "Downloading 1mxl1HU99iEQcUYhWhvkowbE4WOH0UKxv into /usr/local/lib/python3.7/dist-packages/depccg/models/tri_headfirst.tar.gz... Done.\n"
          ]
        }
      ]
    },
    {
      "cell_type": "markdown",
      "source": [
        "**Importing libraries**"
      ],
      "metadata": {
        "id": "yOkCwuUMyuXU"
      }
    },
    {
      "cell_type": "code",
      "metadata": {
        "id": "7Z7kn_CAU4J4"
      },
      "source": [
        "from discopy.tensor import Tensor\n",
        "from jax import numpy as np\n",
        "import numpy\n",
        "\n",
        "np.random = numpy.random\n",
        "Tensor.np = np"
      ],
      "execution_count": null,
      "outputs": []
    },
    {
      "cell_type": "markdown",
      "source": [
        "**Reading and storing data in separate variables**"
      ],
      "metadata": {
        "id": "ZBDetVBtyxuh"
      }
    },
    {
      "cell_type": "code",
      "metadata": {
        "colab": {
          "base_uri": "https://localhost:8080/"
        },
        "id": "YJKl1OtvWudw",
        "outputId": "bd33e6b5-8353-4760-8ad3-7e54f10767f1"
      },
      "source": [
        "# Read data\n",
        "def read_data(fname):\n",
        "    with open(fname, 'r') as f:\n",
        "        lines = f.readlines()\n",
        "    data, targets = [], []\n",
        "    for ln in lines:\n",
        "        t = int(ln[0])\n",
        "        data.append(ln[1:].strip())\n",
        "        targets.append(np.array([t, not(t)], dtype=np.float32))\n",
        "    return data, np.array(targets)\n",
        "\n",
        "train_data, train_targets = read_data('/content/drive/MyDrive/mm_mc_train_data.txt')\n",
        "test_data, test_targets = read_data('/content/drive/MyDrive/mm_mc_test_data.txt')\n",
        "dev_data, dev_targets = read_data('/content/drive/MyDrive/mm_mc_dev_data.txt')"
      ],
      "execution_count": null,
      "outputs": [
        {
          "output_type": "stream",
          "name": "stderr",
          "text": [
            "WARNING:absl:No GPU/TPU found, falling back to CPU. (Set TF_CPP_MIN_LOG_LEVEL=0 and rerun for more info.)\n"
          ]
        }
      ]
    },
    {
      "cell_type": "markdown",
      "source": [
        "**Printing the training data**"
      ],
      "metadata": {
        "id": "LiKVHwBny31d"
      }
    },
    {
      "cell_type": "code",
      "metadata": {
        "colab": {
          "base_uri": "https://localhost:8080/"
        },
        "id": "n9H5oA5BXWhG",
        "outputId": "f6edd074-8e1b-4c25-91ed-9af24bc3d56d"
      },
      "source": [
        "train_data[:10]"
      ],
      "execution_count": null,
      "outputs": [
        {
          "output_type": "execute_result",
          "data": {
            "text/plain": [
              "['skillful man teaches maths',\n",
              " 'skillful man explains categories',\n",
              " 'woman describes simple monoids',\n",
              " 'man teaches monoids',\n",
              " 'skillful woman plays music',\n",
              " 'woman teaches simple monoids',\n",
              " 'person listens music',\n",
              " 'person listens intresting tunes',\n",
              " 'woman teaches maths',\n",
              " 'woman teaches categories']"
            ]
          },
          "metadata": {},
          "execution_count": 4
        }
      ]
    },
    {
      "cell_type": "markdown",
      "source": [
        "**Printing the training labels**"
      ],
      "metadata": {
        "id": "bQ5oJdgBy651"
      }
    },
    {
      "cell_type": "code",
      "metadata": {
        "colab": {
          "base_uri": "https://localhost:8080/"
        },
        "id": "SHceVH8hYkdA",
        "outputId": "bef61b07-b230-49fe-b74c-b25b2cb4ea8a"
      },
      "source": [
        "train_targets"
      ],
      "execution_count": null,
      "outputs": [
        {
          "output_type": "execute_result",
          "data": {
            "text/plain": [
              "DeviceArray([[1., 0.],\n",
              "             [1., 0.],\n",
              "             [1., 0.],\n",
              "             ...,\n",
              "             [0., 1.],\n",
              "             [1., 0.],\n",
              "             [0., 1.]], dtype=float32)"
            ]
          },
          "metadata": {},
          "execution_count": 5
        }
      ]
    },
    {
      "cell_type": "markdown",
      "source": [
        "**Parsing sentences and converting them into string diagrams**"
      ],
      "metadata": {
        "id": "Wj2rWekhy_EY"
      }
    },
    {
      "cell_type": "code",
      "metadata": {
        "colab": {
          "base_uri": "https://localhost:8080/",
          "height": 319
        },
        "id": "AHbFpH4QYqNZ",
        "outputId": "35434b2a-351a-40d3-f87d-4fbc5f4a3575"
      },
      "source": [
        "# Parse sentences to diagrams\n",
        "\n",
        "from lambeq.ccg2discocat import DepCCGParser\n",
        "\n",
        "parser = DepCCGParser()\n",
        "train_diagrams = parser.sentences2diagrams(train_data)\n",
        "test_diagrams = parser.sentences2diagrams(test_data)\n",
        "\n",
        "train_diagrams[0].draw(figsize=(8,4), fontsize=13)"
      ],
      "execution_count": null,
      "outputs": [
        {
          "output_type": "display_data",
          "data": {
            "image/png": "[encoded data removed]",
            "text/plain": [
              "<Figure size 576x288 with 1 Axes>"
            ]
          },
          "metadata": {
            "needs_background": "light"
          }
        }
      ]
    },
    {
      "cell_type": "markdown",
      "source": [
        "**Converting the diagrams into circuit**"
      ],
      "metadata": {
        "id": "iYvWNC0ozJo0"
      }
    },
    {
      "cell_type": "code",
      "metadata": {
        "colab": {
          "base_uri": "https://localhost:8080/",
          "height": 319
        },
        "id": "bOkSNH4fYuzo",
        "outputId": "19c03b7b-f999-48ca-fe7e-ae0d6bf0d553"
      },
      "source": [
        "# Create ansatz and convert to tensor diagrams\n",
        "\n",
        "from lambeq.tensor import SpiderAnsatz\n",
        "from lambeq.core.types import AtomicType\n",
        "from discopy import Dim\n",
        "\n",
        "N = AtomicType.NOUN\n",
        "S = AtomicType.SENTENCE\n",
        "\n",
        "# Create an ansatz by assigning 2 dimensions to both\n",
        "# noun and sentence spaces\n",
        "ansatz = SpiderAnsatz({N: Dim(2), S: Dim(2)})\n",
        "\n",
        "train_circuits = [ansatz(d) for d in train_diagrams]\n",
        "test_circuits = [ansatz(d) for d in test_diagrams]\n",
        "\n",
        "all_circuits = train_circuits + test_circuits\n",
        "\n",
        "all_circuits[0].draw(figsize=(8,4), fontsize=13)"
      ],
      "execution_count": null,
      "outputs": [
        {
          "output_type": "display_data",
          "data": {
            "image/png": "[encoded data removed]",
            "text/plain": [
              "<Figure size 576x288 with 1 Axes>"
            ]
          },
          "metadata": {}
        }
      ]
    },
    {
      "cell_type": "markdown",
      "source": [
        "**Sorting the symbols in circuits to collect the vocabulary and forming a list of tensors**"
      ],
      "metadata": {
        "id": "WOM4O_gkzXZe"
      }
    },
    {
      "cell_type": "code",
      "metadata": {
        "colab": {
          "base_uri": "https://localhost:8080/"
        },
        "id": "Zm8GkivxY1JT",
        "outputId": "a8560c6f-1afb-4381-a2a7-b99d62f55456"
      },
      "source": [
        "# Create vocabulary\n",
        "\n",
        "from sympy import default_sort_key\n",
        "\n",
        "vocab = sorted(\n",
        "   {sym for circ in all_circuits for sym in circ.free_symbols},\n",
        "    key=default_sort_key\n",
        ")\n",
        "tensors = [np.random.rand(w.size) for w in vocab]\n",
        "\n",
        "tensors[0]"
      ],
      "execution_count": null,
      "outputs": [
        {
          "output_type": "execute_result",
          "data": {
            "text/plain": [
              "array([0.99348281, 0.49709925])"
            ]
          },
          "metadata": {},
          "execution_count": 8
        }
      ]
    },
    {
      "cell_type": "markdown",
      "source": [
        "**Defining functions for loss calculation which includes predictions**\n",
        "\n",
        "The model is a simple binary classifier which is the Sigmoid or Logistic function"
      ],
      "metadata": {
        "id": "tHu4IgSvzkW9"
      }
    },
    {
      "cell_type": "code",
      "metadata": {
        "id": "WeVvpdSRY561"
      },
      "source": [
        "def sigmoid(x):\n",
        "    return 1 / (1 + np.exp(-x))\n",
        "\n",
        "def loss(tensors):\n",
        "    # Lambdify\n",
        "    np_circuits = [c.lambdify(*vocab)(*tensors) for c in train_circuits]\n",
        "    # Compute predictions\n",
        "    predictions =  sigmoid(np.array([c.eval().array for c in np_circuits]))\n",
        "\n",
        "    # binary cross-entropy loss\n",
        "    cost = -np.sum(train_targets * np.log2(predictions)) / len(train_targets)\n",
        "    return cost"
      ],
      "execution_count": null,
      "outputs": []
    },
    {
      "cell_type": "markdown",
      "source": [
        "**Executing the training process and calculates gradient**"
      ],
      "metadata": {
        "id": "yitjzZXi0VTB"
      }
    },
    {
      "cell_type": "code",
      "metadata": {
        "id": "gV1Ul7PcY9Cp"
      },
      "source": [
        "\n",
        "from jax import jit, grad\n",
        "\n",
        "training_loss = jit(loss)\n",
        "gradient = jit(grad(loss))"
      ],
      "execution_count": null,
      "outputs": []
    },
    {
      "cell_type": "code",
      "metadata": {
        "colab": {
          "base_uri": "https://localhost:8080/"
        },
        "id": "Q_oYXpRyY_oj",
        "outputId": "376ccfbd-034a-4f80-860d-59cbd47dbfe1"
      },
      "source": [
        "training_losses = []\n",
        "\n",
        "epochs = 90\n",
        "\n",
        "for i in range(epochs):\n",
        "\n",
        "    gr = gradient(tensors)\n",
        "    for k in range(len(tensors)):\n",
        "        tensors[k] = tensors[k] - gr[k] * 1.0\n",
        "\n",
        "    training_losses.append(float(training_loss(tensors)))\n",
        "\n",
        "    if (i + 1) % 10 == 0:\n",
        "        print(f\"Epoch {i + 1} - loss {training_losses[-1]}\")"
      ],
      "execution_count": null,
      "outputs": [
        {
          "output_type": "stream",
          "name": "stdout",
          "text": [
            "Epoch 10 - loss 0.06509824097156525\n",
            "Epoch 20 - loss 0.01211518608033657\n",
            "Epoch 30 - loss 0.00577482720836997\n",
            "Epoch 40 - loss 0.003607523860409856\n",
            "Epoch 50 - loss 0.0025582807138562202\n",
            "Epoch 60 - loss 0.001952469814568758\n",
            "Epoch 70 - loss 0.001563129830174148\n",
            "Epoch 80 - loss 0.0012942035682499409\n",
            "Epoch 90 - loss 0.001098540029488504\n"
          ]
        }
      ]
    },
    {
      "cell_type": "markdown",
      "source": [
        "**Testing of Sigmoid classifier**"
      ],
      "metadata": {
        "id": "J3tGvCEz0qxS"
      }
    },
    {
      "cell_type": "code",
      "metadata": {
        "colab": {
          "base_uri": "https://localhost:8080/"
        },
        "id": "1ePEUxR3ZCfx",
        "outputId": "9f33af87-a974-4699-c2dc-2f681a9a3441"
      },
      "source": [
        "# Testing\n",
        "\n",
        "np_test_circuits = [c.lambdify(*vocab)(*tensors) for c in test_circuits]\n",
        "test_predictions =  sigmoid(np.array([c.eval().array for c in np_test_circuits]))\n",
        "\n",
        "hits = 0\n",
        "for i in range(len(np_test_circuits)):\n",
        "    target = test_targets[i]\n",
        "    pred = test_predictions[i]\n",
        "    if np.argmax(target) == np.argmax(pred):\n",
        "        hits += 1\n",
        "\n",
        "print(\"Accuracy on test set:\", hits / len(np_test_circuits))"
      ],
      "execution_count": null,
      "outputs": [
        {
          "output_type": "stream",
          "name": "stdout",
          "text": [
            "Accuracy on test set: 0.8333333333333334\n"
          ]
        }
      ]
    },
    {
      "cell_type": "code",
      "metadata": {
        "id": "Lb_j0wXQZTjX"
      },
      "source": [
        ""
      ],
      "execution_count": null,
      "outputs": []
    }
  ]
}