{
 "cells": [
  {
   "cell_type": "markdown",
   "metadata": {
    "id": "ryviqQLrsze3"
   },
   "source": [
    "**Meaning Classification with lambeq QNLP Toolkit**\n",
    "\n",
    "Quantum Pipeline Simulation\n",
    "\n",
    "This tutorial is based on - https://github.com/CQCL/lambeq/blob/main/docs/examples/quantum_pipeline_tket.ipynb"
   ]
  },
  {
   "cell_type": "markdown",
   "metadata": {
    "id": "1Lxm_NHEtSgk"
   },
   "source": [
    "There are total 130 sentences in the data set where the training set has 70, development set has 30 and test set has 30. There are two kinds of sentences available which are related to either Maths or Music. This is a binary senence classification problem."
   ]
  },
  {
   "cell_type": "raw",
   "metadata": {
    "colab": {
     "base_uri": "https://localhost:8080/"
    },
    "id": "R8Ed0r8zfSwz",
    "outputId": "e2de3ea0-c329-4dd9-c5cc-2806eb0316be"
   },
   "source": [
    "from google.colab import drive\n",
    "drive.mount('/content/drive')"
   ]
  },
  {
   "cell_type": "markdown",
   "metadata": {
    "id": "MaGjHUWsxIEg"
   },
   "source": [
    "**Installing necessary libraries**"
   ]
  },
  {
   "cell_type": "raw",
   "metadata": {
    "colab": {
     "base_uri": "https://localhost:8080/"
    },
    "id": "4AcD7H1YUJDJ",
    "outputId": "46419ee5-accd-495f-babc-d897d59f4c84"
   },
   "source": [
    "! pip install lambeq"
   ]
  },
  {
   "cell_type": "code",
   "execution_count": null,
   "metadata": {
    "colab": {
     "base_uri": "https://localhost:8080/",
     "height": 1000
    },
    "id": "wDVbfH2MR5lN",
    "outputId": "9def3e3e-7cf4-43aa-ba9f-823835694316"
   },
   "outputs": [
    {
     "name": "stdout",
     "output_type": "stream",
     "text": [
      "Requirement already satisfied: lambeq[depccg] in /usr/local/lib/python3.7/dist-packages (0.1.2)\n",
      "Requirement already satisfied: tensornetwork in /usr/local/lib/python3.7/dist-packages (from lambeq[depccg]) (0.4.6)\n",
      "Requirement already satisfied: pytket>=0.10.0 in /usr/local/lib/python3.7/dist-packages (from lambeq[depccg]) (0.15.0)\n",
      "Requirement already satisfied: discopy>=0.3.7.1 in /usr/local/lib/python3.7/dist-packages (from lambeq[depccg]) (0.3.7.1)\n",
      "Collecting depccg==1.1.0\n",
      "  Downloading depccg-1.1.0.tar.gz (3.5 MB)\n",
      "\u001b[K     |████████████████████████████████| 3.5 MB 3.2 MB/s \n",
      "\u001b[?25hCollecting chainer<=6.0.0\n",
      "  Downloading chainer-6.0.0.tar.gz (880 kB)\n",
      "\u001b[K     |████████████████████████████████| 880 kB 61.4 MB/s \n",
      "\u001b[?25hCollecting simplejson\n",
      "  Downloading simplejson-3.17.5-cp37-cp37m-manylinux_2_5_x86_64.manylinux1_x86_64.manylinux_2_12_x86_64.manylinux2010_x86_64.whl (129 kB)\n",
      "\u001b[K     |████████████████████████████████| 129 kB 67.6 MB/s \n",
      "\u001b[?25hRequirement already satisfied: cython in /usr/local/lib/python3.7/dist-packages (from depccg==1.1.0->lambeq[depccg]) (0.29.24)\n",
      "Requirement already satisfied: lxml in /usr/local/lib/python3.7/dist-packages (from depccg==1.1.0->lambeq[depccg]) (4.2.6)\n",
      "Requirement already satisfied: pyyaml in /usr/local/lib/python3.7/dist-packages (from depccg==1.1.0->lambeq[depccg]) (3.13)\n",
      "Requirement already satisfied: nltk in /usr/local/lib/python3.7/dist-packages (from depccg==1.1.0->lambeq[depccg]) (3.2.5)\n",
      "Requirement already satisfied: googledrivedownloader in /usr/local/lib/python3.7/dist-packages (from depccg==1.1.0->lambeq[depccg]) (0.4)\n",
      "Requirement already satisfied: requests in /usr/local/lib/python3.7/dist-packages (from depccg==1.1.0->lambeq[depccg]) (2.23.0)\n",
      "Requirement already satisfied: setuptools in /usr/local/lib/python3.7/dist-packages (from chainer<=6.0.0->lambeq[depccg]) (57.4.0)\n",
      "Collecting typing\n",
      "  Downloading typing-3.7.4.3.tar.gz (78 kB)\n",
      "\u001b[K     |████████████████████████████████| 78 kB 7.8 MB/s \n",
      "\u001b[?25hRequirement already satisfied: typing_extensions in /usr/local/lib/python3.7/dist-packages (from chainer<=6.0.0->lambeq[depccg]) (3.7.4.3)\n",
      "Requirement already satisfied: filelock in /usr/local/lib/python3.7/dist-packages (from chainer<=6.0.0->lambeq[depccg]) (3.3.0)\n",
      "Requirement already satisfied: numpy>=1.9.0 in /usr/local/lib/python3.7/dist-packages (from chainer<=6.0.0->lambeq[depccg]) (1.19.5)\n",
      "Collecting protobuf<3.8.0rc1,>=3.0.0\n",
      "  Downloading protobuf-3.7.1-cp37-cp37m-manylinux1_x86_64.whl (1.2 MB)\n",
      "\u001b[K     |████████████████████████████████| 1.2 MB 46.2 MB/s \n",
      "\u001b[?25hRequirement already satisfied: six>=1.9.0 in /usr/local/lib/python3.7/dist-packages (from chainer<=6.0.0->lambeq[depccg]) (1.15.0)\n",
      "Requirement already satisfied: pillow>=6.2.1 in /usr/local/lib/python3.7/dist-packages (from discopy>=0.3.7.1->lambeq[depccg]) (7.1.2)\n",
      "Requirement already satisfied: networkx>=2.4 in /usr/local/lib/python3.7/dist-packages (from discopy>=0.3.7.1->lambeq[depccg]) (2.6.3)\n",
      "Requirement already satisfied: matplotlib>=3.1.2 in /usr/local/lib/python3.7/dist-packages (from discopy>=0.3.7.1->lambeq[depccg]) (3.2.2)\n",
      "Requirement already satisfied: cycler>=0.10 in /usr/local/lib/python3.7/dist-packages (from matplotlib>=3.1.2->discopy>=0.3.7.1->lambeq[depccg]) (0.10.0)\n",
      "Requirement already satisfied: pyparsing!=2.0.4,!=2.1.2,!=2.1.6,>=2.0.1 in /usr/local/lib/python3.7/dist-packages (from matplotlib>=3.1.2->discopy>=0.3.7.1->lambeq[depccg]) (2.4.7)\n",
      "Requirement already satisfied: kiwisolver>=1.0.1 in /usr/local/lib/python3.7/dist-packages (from matplotlib>=3.1.2->discopy>=0.3.7.1->lambeq[depccg]) (1.3.2)\n",
      "Requirement already satisfied: python-dateutil>=2.1 in /usr/local/lib/python3.7/dist-packages (from matplotlib>=3.1.2->discopy>=0.3.7.1->lambeq[depccg]) (2.8.2)\n",
      "Requirement already satisfied: scipy~=1.2 in /usr/local/lib/python3.7/dist-packages (from pytket>=0.10.0->lambeq[depccg]) (1.4.1)\n",
      "Requirement already satisfied: sympy~=1.6 in /usr/local/lib/python3.7/dist-packages (from pytket>=0.10.0->lambeq[depccg]) (1.7.1)\n",
      "Requirement already satisfied: graphviz~=0.14 in /usr/local/lib/python3.7/dist-packages (from pytket>=0.10.0->lambeq[depccg]) (0.17)\n",
      "Requirement already satisfied: jinja2~=2.11 in /usr/local/lib/python3.7/dist-packages (from pytket>=0.10.0->lambeq[depccg]) (2.11.3)\n",
      "Requirement already satisfied: types-Jinja2 in /usr/local/lib/python3.7/dist-packages (from pytket>=0.10.0->lambeq[depccg]) (2.11.7)\n",
      "Requirement already satisfied: types-pkg-resources in /usr/local/lib/python3.7/dist-packages (from pytket>=0.10.0->lambeq[depccg]) (0.1.3)\n",
      "Requirement already satisfied: lark-parser~=0.7 in /usr/local/lib/python3.7/dist-packages (from pytket>=0.10.0->lambeq[depccg]) (0.12.0)\n",
      "Requirement already satisfied: MarkupSafe>=0.23 in /usr/local/lib/python3.7/dist-packages (from jinja2~=2.11->pytket>=0.10.0->lambeq[depccg]) (2.0.1)\n",
      "Requirement already satisfied: mpmath>=0.19 in /usr/local/lib/python3.7/dist-packages (from sympy~=1.6->pytket>=0.10.0->lambeq[depccg]) (1.2.1)\n",
      "Requirement already satisfied: chardet<4,>=3.0.2 in /usr/local/lib/python3.7/dist-packages (from requests->depccg==1.1.0->lambeq[depccg]) (3.0.4)\n",
      "Requirement already satisfied: idna<3,>=2.5 in /usr/local/lib/python3.7/dist-packages (from requests->depccg==1.1.0->lambeq[depccg]) (2.10)\n",
      "Requirement already satisfied: urllib3!=1.25.0,!=1.25.1,<1.26,>=1.21.1 in /usr/local/lib/python3.7/dist-packages (from requests->depccg==1.1.0->lambeq[depccg]) (1.24.3)\n",
      "Requirement already satisfied: certifi>=2017.4.17 in /usr/local/lib/python3.7/dist-packages (from requests->depccg==1.1.0->lambeq[depccg]) (2021.5.30)\n",
      "Requirement already satisfied: h5py>=2.9.0 in /usr/local/lib/python3.7/dist-packages (from tensornetwork->lambeq[depccg]) (3.1.0)\n",
      "Requirement already satisfied: opt-einsum>=2.3.0 in /usr/local/lib/python3.7/dist-packages (from tensornetwork->lambeq[depccg]) (3.3.0)\n",
      "Requirement already satisfied: cached-property in /usr/local/lib/python3.7/dist-packages (from h5py>=2.9.0->tensornetwork->lambeq[depccg]) (1.5.2)\n",
      "Requirement already satisfied: types-MarkupSafe in /usr/local/lib/python3.7/dist-packages (from types-Jinja2->pytket>=0.10.0->lambeq[depccg]) (1.1.7)\n",
      "Building wheels for collected packages: depccg, chainer, typing\n",
      "  Building wheel for depccg (setup.py) ... \u001b[?25l\u001b[?25hdone\n",
      "  Created wheel for depccg: filename=depccg-1.1.0-cp37-cp37m-linux_x86_64.whl size=13855969 sha256=2197a0b16fb109cd754bf08c8b2e7cb1357327e9333db6565183f22bebe3557c\n",
      "  Stored in directory: /root/.cache/pip/wheels/85/94/1c/1ae7b6d4d94fa629ebf0a55c3558486494a207740f50e64a51\n",
      "  Building wheel for chainer (setup.py) ... \u001b[?25l\u001b[?25hdone\n",
      "  Created wheel for chainer: filename=chainer-6.0.0-py3-none-any.whl size=876785 sha256=a19e5679fab3444249b7aff94ae612309df407befdc388921ad1ead5538f9a9b\n",
      "  Stored in directory: /root/.cache/pip/wheels/cd/38/53/18c6578a40a10ff120db266e58c5e383c1cb7bdea79b6c418a\n",
      "  Building wheel for typing (setup.py) ... \u001b[?25l\u001b[?25hdone\n",
      "  Created wheel for typing: filename=typing-3.7.4.3-py3-none-any.whl size=26324 sha256=2486f4cc3c01b3f4924b887347aecd5eef2ce494bc683741dd0719965b2f7db5\n",
      "  Stored in directory: /root/.cache/pip/wheels/35/f3/15/01aa6571f0a72ee6ae7b827c1491c37a1f72d686fd22b43b0e\n",
      "Successfully built depccg chainer typing\n",
      "Installing collected packages: typing, protobuf, simplejson, chainer, depccg\n",
      "  Attempting uninstall: protobuf\n",
      "    Found existing installation: protobuf 3.17.3\n",
      "    Uninstalling protobuf-3.17.3:\n",
      "      Successfully uninstalled protobuf-3.17.3\n",
      "\u001b[31mERROR: pip's dependency resolver does not currently take into account all the packages that are installed. This behaviour is the source of the following dependency conflicts.\n",
      "tensorflow 2.6.0 requires protobuf>=3.9.2, but you have protobuf 3.7.1 which is incompatible.\n",
      "tensorflow-metadata 1.2.0 requires protobuf<4,>=3.13, but you have protobuf 3.7.1 which is incompatible.\n",
      "tensorflow-hub 0.12.0 requires protobuf>=3.8.0, but you have protobuf 3.7.1 which is incompatible.\n",
      "googleapis-common-protos 1.53.0 requires protobuf>=3.12.0, but you have protobuf 3.7.1 which is incompatible.\n",
      "google-api-core 1.26.3 requires protobuf>=3.12.0, but you have protobuf 3.7.1 which is incompatible.\u001b[0m\n",
      "Successfully installed chainer-6.0.0 depccg-1.1.0 protobuf-3.7.1 simplejson-3.17.5 typing-3.7.4.3\n"
     ]
    },
    {
     "data": {
      "application/vnd.colab-display-data+json": {
       "pip_warning": {
        "packages": [
         "google",
         "typing"
        ]
       }
      }
     },
     "metadata": {},
     "output_type": "display_data"
    }
   ],
   "source": [
    "! pip install lambeq[depccg]"
   ]
  },
  {
   "cell_type": "raw",
   "metadata": {
    "colab": {
     "base_uri": "https://localhost:8080/"
    },
    "id": "vj6kcQ2jR8iR",
    "outputId": "55c225db-d862-4602-be27-5358012759a4"
   },
   "source": [
    "! depccg_en download"
   ]
  },
  {
   "cell_type": "raw",
   "metadata": {
    "colab": {
     "base_uri": "https://localhost:8080/",
     "height": 1000
    },
    "id": "IrA9UGEFNbxQ",
    "outputId": "4926e2b1-1068-4ffa-b585-b672c8438a01"
   },
   "source": [
    "!pip install pytket-qiskit"
   ]
  },
  {
   "cell_type": "raw",
   "metadata": {
    "colab": {
     "base_uri": "https://localhost:8080/"
    },
    "id": "3ciD8V2KON7B",
    "outputId": "1c80546b-45c4-458a-d983-d3c4c1263b4e"
   },
   "source": [
    "!pip install noisyopt"
   ]
  },
  {
   "cell_type": "markdown",
   "metadata": {
    "id": "c1e5vX3BvLPo"
   },
   "source": [
    "**Reading the dataset and storing it in separate variables**"
   ]
  },
  {
   "cell_type": "code",
   "execution_count": 2,
   "metadata": {
    "id": "7Z7kn_CAU4J4"
   },
   "outputs": [],
   "source": [
    "import numpy as np\n",
    "\n",
    "def read_data(filename):\n",
    "    labels, sentences = [], []\n",
    "    with open(filename) as f:\n",
    "        for line in f:\n",
    "            labels.append([1, 0] if line[0] == '1' else [0, 1])\n",
    "            sentences.append(line[1:].strip())\n",
    "    return np.array(labels), sentences\n",
    "\n",
    "\n",
    "train_labels, train_data = read_data('mm_mc_train_data.txt')\n",
    "dev_labels, dev_data = read_data('mm_mc_dev_data.txt')\n",
    "test_labels, test_data = read_data('mm_mc_test_data.txt')"
   ]
  },
  {
   "cell_type": "markdown",
   "metadata": {
    "id": "JHJF5OrPvUWS"
   },
   "source": [
    "**Parsing the sentences and converting them into string diagrams**"
   ]
  },
  {
   "cell_type": "code",
   "execution_count": 3,
   "metadata": {
    "id": "YJKl1OtvWudw"
   },
   "outputs": [],
   "source": [
    "from lambeq import BobcatParser\n",
    "from discopy import grammar\n",
    "\n",
    "reader = BobcatParser(verbose='suppress')\n",
    "\n",
    "raw_train_diagrams = reader.sentences2diagrams(train_data)\n",
    "raw_dev_diagrams = reader.sentences2diagrams(dev_data)\n",
    "raw_test_diagrams = reader.sentences2diagrams(test_data)"
   ]
  },
  {
   "cell_type": "markdown",
   "metadata": {
    "id": "mtJe3zRZvi2s"
   },
   "source": [
    "**String diagram rewriting**"
   ]
  },
  {
   "cell_type": "code",
   "execution_count": 4,
   "metadata": {
    "colab": {
     "base_uri": "https://localhost:8080/",
     "height": 319
    },
    "id": "n9H5oA5BXWhG",
    "outputId": "fbf41616-8af9-44e2-ab83-75751c32a0c4"
   },
   "outputs": [
    {
     "data": {
      "image/png": "[encoded data removed]",
      "text/plain": [
       "<Figure size 432x288 with 1 Axes>"
      ]
     },
     "metadata": {},
     "output_type": "display_data"
    }
   ],
   "source": [
    "from discopy.rigid import Id\n",
    "\n",
    "\n",
    "def remove_cups(diagram):\n",
    "    # Remove cups to reduce post-selection in the circuit, for faster execution\n",
    "\n",
    "    diags = []\n",
    "    for box, offset in zip(diagram.boxes, diagram.offsets):\n",
    "        if not box.dom:  # word box\n",
    "            diags.insert(offset, box)\n",
    "        else:  # cup (the only other type of box in these diagrams)\n",
    "            i = 0\n",
    "            off = offset\n",
    "            while off != len(diags[i].cod) - 1:\n",
    "                assert off > 0\n",
    "                off -= len(diags[i].cod)\n",
    "                i += 1\n",
    "            left, right = diags[i:i+2]\n",
    "            \n",
    "            if len(left.cod) == 1:\n",
    "                new_diag = right >> (left.r.dagger() @ Id(right.cod[1:]))\n",
    "            else:\n",
    "                assert len(right.cod) == 1\n",
    "                new_diag = left >> (Id(left.cod[:-1]) @ right.l.dagger())\n",
    "\n",
    "            diags[i:i+2] = [new_diag]\n",
    "\n",
    "    assert len(diags) == 1\n",
    "    return diags[0]\n",
    "\n",
    "\n",
    "train_diagrams = [remove_cups(diagram) for diagram in raw_train_diagrams]\n",
    "dev_diagrams = [remove_cups(diagram) for diagram in raw_dev_diagrams]\n",
    "test_diagrams = [remove_cups(diagram) for diagram in raw_test_diagrams]\n",
    "\n",
    "train_diagrams[0].draw()"
   ]
  },
  {
   "cell_type": "markdown",
   "metadata": {
    "id": "OUNUGAf0vnvY"
   },
   "source": [
    "**Conversion of each diagram into a quantum circuit**"
   ]
  },
  {
   "cell_type": "code",
   "execution_count": 5,
   "metadata": {
    "colab": {
     "base_uri": "https://localhost:8080/",
     "height": 895
    },
    "id": "SHceVH8hYkdA",
    "outputId": "85c9596c-095d-4ba3-e60d-e4d0f7d5b1b0"
   },
   "outputs": [
    {
     "ename": "ModuleNotFoundError",
     "evalue": "No module named 'lambeq.circuit'",
     "output_type": "error",
     "traceback": [
      "\u001b[0;31m---------------------------------------------------------------------------\u001b[0m",
      "\u001b[0;31mModuleNotFoundError\u001b[0m                       Traceback (most recent call last)",
      "Input \u001b[0;32mIn [5]\u001b[0m, in \u001b[0;36m<cell line: 1>\u001b[0;34m()\u001b[0m\n\u001b[0;32m----> 1\u001b[0m \u001b[38;5;28;01mfrom\u001b[39;00m \u001b[38;5;21;01mlambeq\u001b[39;00m\u001b[38;5;21;01m.\u001b[39;00m\u001b[38;5;21;01mcircuit\u001b[39;00m \u001b[38;5;28;01mimport\u001b[39;00m IQPAnsatz\n\u001b[1;32m      2\u001b[0m \u001b[38;5;28;01mfrom\u001b[39;00m \u001b[38;5;21;01mlambeq\u001b[39;00m\u001b[38;5;21;01m.\u001b[39;00m\u001b[38;5;21;01mcore\u001b[39;00m\u001b[38;5;21;01m.\u001b[39;00m\u001b[38;5;21;01mtypes\u001b[39;00m \u001b[38;5;28;01mimport\u001b[39;00m AtomicType\n\u001b[1;32m      4\u001b[0m ansatz \u001b[38;5;241m=\u001b[39m IQPAnsatz({AtomicType\u001b[38;5;241m.\u001b[39mNOUN: \u001b[38;5;241m1\u001b[39m, AtomicType\u001b[38;5;241m.\u001b[39mSENTENCE: \u001b[38;5;241m1\u001b[39m},\n\u001b[1;32m      5\u001b[0m                    n_layers\u001b[38;5;241m=\u001b[39m\u001b[38;5;241m1\u001b[39m, n_single_qubit_params\u001b[38;5;241m=\u001b[39m\u001b[38;5;241m3\u001b[39m)\n",
      "\u001b[0;31mModuleNotFoundError\u001b[0m: No module named 'lambeq.circuit'"
     ]
    }
   ],
   "source": [
    "from lambeq.circuit import IQPAnsatz\n",
    "from lambeq.core.types import AtomicType\n",
    "\n",
    "ansatz = IQPAnsatz({AtomicType.NOUN: 1, AtomicType.SENTENCE: 1},\n",
    "                   n_layers=1, n_single_qubit_params=3)\n",
    "\n",
    "train_circuits = [ansatz(diagram) for diagram in train_diagrams]\n",
    "dev_circuits =  [ansatz(diagram) for diagram in dev_diagrams]\n",
    "test_circuits = [ansatz(diagram) for diagram in test_diagrams]\n",
    "\n",
    "train_circuits[0].draw(figsize=(9, 12))"
   ]
  },
  {
   "cell_type": "markdown",
   "metadata": {
    "id": "2Kzavy-Gv9lM"
   },
   "source": [
    "**Sorting the symbols in quantum circuits to collect the parameters**"
   ]
  },
  {
   "cell_type": "code",
   "execution_count": null,
   "metadata": {
    "id": "AHbFpH4QYqNZ"
   },
   "outputs": [],
   "source": [
    "from sympy import default_sort_key\n",
    "\n",
    "all_circuits = train_circuits + dev_circuits + test_circuits\n",
    "\n",
    "# sort the symbols since they are returned as a set\n",
    "parameters = sorted(\n",
    "    {s for circ in all_circuits for s in circ.free_symbols},\n",
    "    key=default_sort_key)"
   ]
  },
  {
   "cell_type": "markdown",
   "metadata": {
    "id": "r3rtRH7rwJq3"
   },
   "source": [
    "**Defining the quantum simulator**"
   ]
  },
  {
   "cell_type": "code",
   "execution_count": null,
   "metadata": {
    "id": "bOkSNH4fYuzo"
   },
   "outputs": [],
   "source": [
    "## CONFIGURE BACKEND\n",
    "# This uses Qiskit, which requires installing `pytket-qiskit`.\n",
    "# For more information on how to use pytket with different backends, see:\n",
    "# https://cqcl.github.io/pytket/build/html/extensions/\n",
    "\n",
    "# Aer is a shots-based backend that is always available.\n",
    "\n",
    "from pytket.extensions.qiskit import AerBackend\n",
    "backend = AerBackend()\n",
    "\n",
    "## Having an IBMQ account gives access to the IBM emulator for noisy simulations:\n",
    "#\n",
    "# from pytket.extensions.qiskit import IBMQEmulatorBackend\n",
    "# backend = IBMQEmulatorBackend('PLACEHOLDER')\n",
    "#\n",
    "## To use a real device:\n",
    "#\n",
    "# from pytket.extensions.qiskit import IBMQBackend\n",
    "# backend = IBMQBackend('PLACEHOLDER')\n",
    "\n",
    "backend_config = {\n",
    "    'backend': backend,\n",
    "    'compilation': backend.default_compilation_pass(2),\n",
    "    'n_shots': 8192  # maximum recommended shots, reduces sampling error\n",
    "}"
   ]
  },
  {
   "cell_type": "markdown",
   "metadata": {
    "id": "lfyiDBJKwO42"
   },
   "source": [
    "**Making predictions from the quantum circuits**"
   ]
  },
  {
   "cell_type": "code",
   "execution_count": null,
   "metadata": {
    "id": "Zm8GkivxY1JT"
   },
   "outputs": [],
   "source": [
    "from discopy.quantum import Circuit, Id, Measure\n",
    "\n",
    "\n",
    "def randint(rng, low=-1 << 63, high=1 << 63-1):\n",
    "    return rng.integers(low, high)\n",
    "\n",
    "\n",
    "def normalise(predictions):\n",
    "    # apply smoothing to predictions\n",
    "    predictions = np.abs(predictions) + 1e-9\n",
    "    return predictions / predictions.sum()\n",
    "\n",
    "\n",
    "def make_pred_fn(circuits, rng):\n",
    "    measured_circuits = [c >> Id().tensor(*[Measure()] * len(c.cod)) for c in circuits]\n",
    "    circuit_fns = [c.lambdify(*parameters) for c in measured_circuits]\n",
    "\n",
    "    def predict(params):\n",
    "        outputs = Circuit.eval(*(c_fn(*params) for c_fn in circuit_fns),\n",
    "                               **backend_config, seed=randint(rng))\n",
    "        return np.array([normalise(output.array) for output in outputs])\n",
    "    return predict\n",
    "\n",
    "\n",
    "SEED = 0\n",
    "rng = np.random.default_rng(SEED)\n",
    "\n",
    "train_pred_fn = make_pred_fn(train_circuits, rng)\n",
    "dev_pred_fn = make_pred_fn(dev_circuits, rng)\n",
    "test_pred_fn = make_pred_fn(test_circuits, rng)"
   ]
  },
  {
   "cell_type": "markdown",
   "metadata": {
    "id": "YMzEttH7wYYh"
   },
   "source": [
    "**Calculating cost function, accuracy and optimizing the circuit parameters**"
   ]
  },
  {
   "cell_type": "code",
   "execution_count": null,
   "metadata": {
    "id": "WeVvpdSRY561"
   },
   "outputs": [],
   "source": [
    "from noisyopt import minimizeSPSA\n",
    "\n",
    "def make_cost_fn(pred_fn, labels):\n",
    "    def cost_fn(params, **kwargs):\n",
    "        predictions = pred_fn(params)\n",
    "\n",
    "        cost = -np.sum(labels * np.log(predictions)) / len(labels)  # binary cross-entropy loss\n",
    "        costs.append(cost)\n",
    "\n",
    "        acc = np.sum(np.round(predictions) == labels) / len(labels) / 2  # half due to double-counting\n",
    "        accuracies.append(acc)\n",
    "\n",
    "        return cost\n",
    "\n",
    "    costs, accuracies = [], []\n",
    "    return cost_fn, costs, accuracies\n",
    "\n",
    "\n",
    "train_cost_fn, train_costs, train_accs = make_cost_fn(train_pred_fn, train_labels)\n",
    "dev_cost_fn, dev_costs, dev_accs = make_cost_fn(dev_pred_fn, dev_labels)\n",
    "\n",
    "x0 = np.array(rng.random(len(parameters)))\n",
    "np.random.seed(SEED)\n",
    "result = minimizeSPSA(train_cost_fn, x0=x0, a=0.2, c=0.06, niter=80, callback=dev_cost_fn)"
   ]
  },
  {
   "cell_type": "markdown",
   "metadata": {
    "id": "Ar0jTfNGwv2y"
   },
   "source": [
    "**Plotting the training & development set results**"
   ]
  },
  {
   "cell_type": "code",
   "execution_count": null,
   "metadata": {
    "colab": {
     "base_uri": "https://localhost:8080/",
     "height": 421
    },
    "id": "gV1Ul7PcY9Cp",
    "outputId": "ca98d048-eda9-42fa-884a-c6e1b882536e"
   },
   "outputs": [
    {
     "name": "stdout",
     "output_type": "stream",
     "text": [
      "Test accuracy: 0.8666666666666667\n"
     ]
    },
    {
     "data": {
      "image/png": "[encoded data removed]",
      "text/plain": [
       "<Figure size 720x432 with 4 Axes>"
      ]
     },
     "metadata": {
      "needs_background": "light"
     },
     "output_type": "display_data"
    }
   ],
   "source": [
    "import matplotlib.pyplot as plt\n",
    "\n",
    "fig, ((ax_tl, ax_tr), (ax_bl, ax_br)) = plt.subplots(2, 2, sharex=True, sharey='row', figsize=(10, 6))\n",
    "ax_tl.set_title('Training set')\n",
    "ax_tr.set_title('Development set')\n",
    "ax_bl.set_xlabel('Iterations')\n",
    "ax_br.set_xlabel('Iterations')\n",
    "ax_bl.set_ylabel('Accuracy')\n",
    "ax_tl.set_ylabel('Loss')\n",
    "\n",
    "colours = iter(plt.rcParams['axes.prop_cycle'].by_key()['color'])\n",
    "ax_tl.plot(train_costs[1::2], color=next(colours))  # training evaluates twice per iteration\n",
    "ax_bl.plot(train_accs[1::2], color=next(colours))   # so take every other entry\n",
    "ax_tr.plot(dev_costs, color=next(colours))\n",
    "ax_br.plot(dev_accs, color=next(colours))\n",
    "\n",
    "# print test accuracy\n",
    "test_cost_fn, _, test_accs = make_cost_fn(test_pred_fn, test_labels)\n",
    "test_cost_fn(result.x)\n",
    "print('Test accuracy:', test_accs[0])"
   ]
  },
  {
   "cell_type": "code",
   "execution_count": null,
   "metadata": {
    "id": "Lb_j0wXQZTjX"
   },
   "outputs": [],
   "source": []
  }
 ],
 "metadata": {
  "colab": {
   "collapsed_sections": [],
   "name": "MM_MC_QNLP_Quantum_Piepline_tket.ipynb",
   "provenance": []
  },
  "kernelspec": {
   "display_name": "Python 3 (ipykernel)",
   "language": "python",
   "name": "python3"
  },
  "language_info": {
   "codemirror_mode": {
    "name": "ipython",
    "version": 3
   },
   "file_extension": ".py",
   "mimetype": "text/x-python",
   "name": "python",
   "nbconvert_exporter": "python",
   "pygments_lexer": "ipython3",
   "version": "3.8.10"
  }
 },
 "nbformat": 4,
 "nbformat_minor": 4
}
