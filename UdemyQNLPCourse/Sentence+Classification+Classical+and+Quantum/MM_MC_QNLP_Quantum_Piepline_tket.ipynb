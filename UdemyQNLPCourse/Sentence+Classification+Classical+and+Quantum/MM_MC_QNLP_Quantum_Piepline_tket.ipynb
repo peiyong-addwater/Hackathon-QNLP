{
 "cells": [
  {
   "cell_type": "markdown",
   "metadata": {
    "id": "ryviqQLrsze3"
   },
   "source": [
    "**Meaning Classification with lambeq QNLP Toolkit**\n",
    "\n",
    "Quantum Pipeline Simulation\n",
    "\n",
    "This tutorial is based on - https://github.com/CQCL/lambeq/blob/main/docs/examples/quantum_pipeline_tket.ipynb"
   ]
  },
  {
   "cell_type": "markdown",
   "metadata": {
    "id": "1Lxm_NHEtSgk"
   },
   "source": [
    "There are total 130 sentences in the data set where the training set has 70, development set has 30 and test set has 30. There are two kinds of sentences available which are related to either Maths or Music. This is a binary senence classification problem."
   ]
  },
  {
   "cell_type": "raw",
   "metadata": {
    "colab": {
     "base_uri": "https://localhost:8080/"
    },
    "id": "R8Ed0r8zfSwz",
    "outputId": "e2de3ea0-c329-4dd9-c5cc-2806eb0316be"
   },
   "source": [
    "from google.colab import drive\n",
    "drive.mount('/content/drive')"
   ]
  },
  {
   "cell_type": "markdown",
   "metadata": {
    "id": "MaGjHUWsxIEg"
   },
   "source": [
    "**Installing necessary libraries**"
   ]
  },
  {
   "cell_type": "raw",
   "metadata": {
    "colab": {
     "base_uri": "https://localhost:8080/"
    },
    "id": "4AcD7H1YUJDJ",
    "outputId": "46419ee5-accd-495f-babc-d897d59f4c84"
   },
   "source": [
    "! pip install lambeq"
   ]
  },
  {
   "cell_type": "raw",
   "metadata": {
    "colab": {
     "base_uri": "https://localhost:8080/",
     "height": 1000
    },
    "id": "wDVbfH2MR5lN",
    "outputId": "9def3e3e-7cf4-43aa-ba9f-823835694316"
   },
   "source": [
    "! pip install lambeq[depccg]"
   ]
  },
  {
   "cell_type": "raw",
   "metadata": {
    "colab": {
     "base_uri": "https://localhost:8080/"
    },
    "id": "vj6kcQ2jR8iR",
    "outputId": "55c225db-d862-4602-be27-5358012759a4"
   },
   "source": [
    "! depccg_en download"
   ]
  },
  {
   "cell_type": "raw",
   "metadata": {
    "colab": {
     "base_uri": "https://localhost:8080/",
     "height": 1000
    },
    "id": "IrA9UGEFNbxQ",
    "outputId": "4926e2b1-1068-4ffa-b585-b672c8438a01"
   },
   "source": [
    "!pip install pytket-qiskit"
   ]
  },
  {
   "cell_type": "raw",
   "metadata": {
    "colab": {
     "base_uri": "https://localhost:8080/"
    },
    "id": "3ciD8V2KON7B",
    "outputId": "1c80546b-45c4-458a-d983-d3c4c1263b4e"
   },
   "source": [
    "!pip install noisyopt"
   ]
  },
  {
   "cell_type": "markdown",
   "metadata": {
    "id": "c1e5vX3BvLPo"
   },
   "source": [
    "**Reading the dataset and storing it in separate variables**"
   ]
  },
  {
   "cell_type": "code",
   "execution_count": 1,
   "metadata": {
    "id": "7Z7kn_CAU4J4"
   },
   "outputs": [],
   "source": [
    "import numpy as np\n",
    "import warnings\n",
    "import os\n",
    "os.environ[\"TOKENIZERS_PARALLELISM\"] = \"false\"\n",
    "warnings.filterwarnings(\"ignore\")\n",
    "def read_data(filename):\n",
    "    labels, sentences = [], []\n",
    "    with open(filename) as f:\n",
    "        for line in f:\n",
    "            labels.append([1, 0] if line[0] == '1' else [0, 1])\n",
    "            sentences.append(line[1:].strip())\n",
    "    return np.array(labels), sentences\n",
    "\n",
    "\n",
    "train_labels, train_data = read_data('mm_mc_train_data.txt')\n",
    "dev_labels, dev_data = read_data('mm_mc_dev_data.txt')\n",
    "test_labels, test_data = read_data('mm_mc_test_data.txt')"
   ]
  },
  {
   "cell_type": "markdown",
   "metadata": {
    "id": "JHJF5OrPvUWS"
   },
   "source": [
    "**Parsing the sentences and converting them into string diagrams**"
   ]
  },
  {
   "cell_type": "code",
   "execution_count": 2,
   "metadata": {
    "id": "YJKl1OtvWudw"
   },
   "outputs": [
    {
     "name": "stderr",
     "output_type": "stream",
     "text": [
      "# 0 : 100%|████████████████████████████████████████████████████████████████████████████████████████████████████████████████████████████████████████████████████████████████████████████| 1/1 [00:00<00:00, 38.44it/s]\n"
     ]
    },
    {
     "data": {
      "application/vnd.jupyter.widget-view+json": {
       "model_id": "",
       "version_major": 2,
       "version_minor": 0
      },
      "text/plain": [
       "Parse trees to diagrams:   0%|          | 0/1 [00:00<?, ?it/s]"
      ]
     },
     "metadata": {},
     "output_type": "display_data"
    },
    {
     "data": {
      "image/png": "[encoded data removed]",
      "text/plain": [
       "<Figure size 432x288 with 1 Axes>"
      ]
     },
     "metadata": {},
     "output_type": "display_data"
    }
   ],
   "source": [
    "from lambeq import BobcatParser, DepCCGParser\n",
    "from lambeq import TreeReader, TreeReaderMode\n",
    "from discopy import grammar\n",
    "\n",
    "\n",
    "# reader = BobcatParser(verbose='suppress')\n",
    "sentence = 'John walks in the park.'\n",
    "reader = DepCCGParser(root_cats=['S[dcl]'])\n",
    "reader.sentence2diagram(sentence).draw()"
   ]
  },
  {
   "cell_type": "code",
   "execution_count": 3,
   "metadata": {
    "scrolled": true,
    "tags": []
   },
   "outputs": [
    {
     "name": "stderr",
     "output_type": "stream",
     "text": [
      "# 0 : 100%|█████████████████████████████████████████████████████████████████████████████████████████████████████████████████████████████████████████████████████████████████████████| 35/35 [00:00<00:00, 829.03it/s]\n",
      "\n",
      "# 1 : 100%|█████████████████████████████████████████████████████████████████████████████████████████████████████████████████████████████████████████████████████████████████████████| 35/35 [00:00<00:00, 918.74it/s]\u001b[A\n"
     ]
    },
    {
     "data": {
      "application/vnd.jupyter.widget-view+json": {
       "model_id": "",
       "version_major": 2,
       "version_minor": 0
      },
      "text/plain": [
       "Parse trees to diagrams:   0%|          | 0/70 [00:00<?, ?it/s]"
      ]
     },
     "metadata": {},
     "output_type": "display_data"
    },
    {
     "name": "stderr",
     "output_type": "stream",
     "text": [
      "# 0 : 100%|█████████████████████████████████████████████████████████████████████████████████████████████████████████████████████████████████████████████████████████████████████████| 15/15 [00:00<00:00, 469.32it/s]\n",
      "\n",
      "# 1 : 100%|█████████████████████████████████████████████████████████████████████████████████████████████████████████████████████████████████████████████████████████████████████████| 15/15 [00:00<00:00, 504.25it/s]\u001b[A\n"
     ]
    },
    {
     "data": {
      "application/vnd.jupyter.widget-view+json": {
       "model_id": "",
       "version_major": 2,
       "version_minor": 0
      },
      "text/plain": [
       "Parse trees to diagrams:   0%|          | 0/30 [00:00<?, ?it/s]"
      ]
     },
     "metadata": {},
     "output_type": "display_data"
    },
    {
     "name": "stderr",
     "output_type": "stream",
     "text": [
      "# 0 : 100%|█████████████████████████████████████████████████████████████████████████████████████████████████████████████████████████████████████████████████████████████████████████| 15/15 [00:00<00:00, 494.79it/s]\n",
      "\n",
      "# 1 : 100%|█████████████████████████████████████████████████████████████████████████████████████████████████████████████████████████████████████████████████████████████████████████| 15/15 [00:00<00:00, 507.64it/s]\u001b[A\n"
     ]
    },
    {
     "data": {
      "application/vnd.jupyter.widget-view+json": {
       "model_id": "",
       "version_major": 2,
       "version_minor": 0
      },
      "text/plain": [
       "Parse trees to diagrams:   0%|          | 0/30 [00:00<?, ?it/s]"
      ]
     },
     "metadata": {},
     "output_type": "display_data"
    },
    {
     "data": {
      "image/png": "[encoded data removed]",
      "text/plain": [
       "<Figure size 432x288 with 1 Axes>"
      ]
     },
     "metadata": {},
     "output_type": "display_data"
    }
   ],
   "source": [
    "raw_train_diagrams = reader.sentences2diagrams(train_data)\n",
    "raw_dev_diagrams = reader.sentences2diagrams(dev_data)\n",
    "raw_test_diagrams = reader.sentences2diagrams(test_data)\n",
    "raw_train_diagrams[1].draw()"
   ]
  },
  {
   "cell_type": "markdown",
   "metadata": {
    "id": "mtJe3zRZvi2s"
   },
   "source": [
    "**String diagram rewriting**"
   ]
  },
  {
   "cell_type": "code",
   "execution_count": 4,
   "metadata": {
    "colab": {
     "base_uri": "https://localhost:8080/",
     "height": 319
    },
    "id": "n9H5oA5BXWhG",
    "outputId": "fbf41616-8af9-44e2-ab83-75751c32a0c4"
   },
   "outputs": [
    {
     "data": {
      "image/png": "[encoded data removed]",
      "text/plain": [
       "<Figure size 432x288 with 1 Axes>"
      ]
     },
     "metadata": {},
     "output_type": "display_data"
    }
   ],
   "source": [
    "#from lambeq import remove_cups\n",
    "from discopy.rigid import Id\n",
    "\n",
    "\n",
    "def remove_cups(diagram):\n",
    "    # Remove cups to reduce post-selection in the circuit, for faster execution\n",
    "\n",
    "    diags = []\n",
    "    for box, offset in zip(diagram.boxes, diagram.offsets):\n",
    "        if not box.dom:  # word box\n",
    "            diags.insert(offset, box)\n",
    "        else:  # cup (the only other type of box in these diagrams)\n",
    "            i = 0\n",
    "            off = offset\n",
    "            while off != len(diags[i].cod) - 1:\n",
    "                assert off > 0\n",
    "                off -= len(diags[i].cod)\n",
    "                i += 1\n",
    "            left, right = diags[i:i+2]\n",
    "            \n",
    "            if len(left.cod) == 1:\n",
    "                new_diag = right >> (left.r.dagger() @ Id(right.cod[1:]))\n",
    "            else:\n",
    "                assert len(right.cod) == 1\n",
    "                new_diag = left >> (Id(left.cod[:-1]) @ right.l.dagger())\n",
    "\n",
    "            diags[i:i+2] = [new_diag]\n",
    "\n",
    "    assert len(diags) == 1\n",
    "    return diags[0]\n",
    "\n",
    "\n",
    "train_diagrams = [remove_cups(diagram) for diagram in raw_train_diagrams]\n",
    "dev_diagrams = [remove_cups(diagram) for diagram in raw_dev_diagrams]\n",
    "test_diagrams = [remove_cups(diagram) for diagram in raw_test_diagrams]\n",
    "\n",
    "train_diagrams[0].draw()"
   ]
  },
  {
   "cell_type": "markdown",
   "metadata": {
    "id": "OUNUGAf0vnvY"
   },
   "source": [
    "**Conversion of each diagram into a quantum circuit**"
   ]
  },
  {
   "cell_type": "code",
   "execution_count": 5,
   "metadata": {
    "colab": {
     "base_uri": "https://localhost:8080/",
     "height": 895
    },
    "id": "SHceVH8hYkdA",
    "outputId": "85c9596c-095d-4ba3-e60d-e4d0f7d5b1b0"
   },
   "outputs": [
    {
     "data": {
      "image/png": "[encoded data removed]",
      "text/plain": [
       "<Figure size 648x864 with 1 Axes>"
      ]
     },
     "metadata": {},
     "output_type": "display_data"
    }
   ],
   "source": [
    "from lambeq import AtomicType, IQPAnsatz\n",
    "\n",
    "ansatz = IQPAnsatz({AtomicType.NOUN: 1, AtomicType.SENTENCE: 1},\n",
    "                   n_layers=1, n_single_qubit_params=3)\n",
    "\n",
    "train_circuits = [ansatz(diagram) for diagram in train_diagrams]\n",
    "dev_circuits =  [ansatz(diagram) for diagram in dev_diagrams]\n",
    "test_circuits = [ansatz(diagram) for diagram in test_diagrams]\n",
    "\n",
    "train_circuits[0].draw(figsize=(9, 12))"
   ]
  },
  {
   "cell_type": "markdown",
   "metadata": {
    "id": "2Kzavy-Gv9lM"
   },
   "source": [
    "**Sorting the symbols in quantum circuits to collect the parameters**"
   ]
  },
  {
   "cell_type": "code",
   "execution_count": 9,
   "metadata": {
    "id": "AHbFpH4QYqNZ"
   },
   "outputs": [],
   "source": [
    "from sympy import default_sort_key\n",
    "\n",
    "all_circuits = train_circuits + dev_circuits + test_circuits\n",
    "\n",
    "# sort the symbols since they are returned as a set\n",
    "parameters = sorted(\n",
    "    {s for circ in all_circuits for s in circ.free_symbols},\n",
    "    key=default_sort_key)"
   ]
  },
  {
   "cell_type": "markdown",
   "metadata": {
    "id": "r3rtRH7rwJq3"
   },
   "source": [
    "**Defining the quantum simulator**"
   ]
  },
  {
   "cell_type": "code",
   "execution_count": 10,
   "metadata": {
    "id": "bOkSNH4fYuzo"
   },
   "outputs": [
    {
     "name": "stderr",
     "output_type": "stream",
     "text": [
      "2022-07-03 16:26:55,546 - INFO - qiskit.compiler.assembler - Total Assembly Time - 0.10443 (ms)\n",
      "2022-07-03 16:26:55,548 - INFO - qiskit.compiler.assembler - Total Assembly Time - 0.08297 (ms)\n",
      "2022-07-03 16:26:55,549 - INFO - qiskit.compiler.assembler - Total Assembly Time - 0.06962 (ms)\n",
      "2022-07-03 16:26:55,549 - INFO - qiskit.compiler.assembler - Total Assembly Time - 0.08750 (ms)\n",
      "2022-07-03 16:26:55,550 - INFO - qiskit.compiler.assembler - Total Assembly Time - 0.07176 (ms)\n",
      "2022-07-03 16:26:55,551 - INFO - qiskit.compiler.assembler - Total Assembly Time - 0.06771 (ms)\n",
      "2022-07-03 16:26:55,552 - INFO - qiskit.compiler.assembler - Total Assembly Time - 0.08464 (ms)\n",
      "2022-07-03 16:26:55,553 - INFO - qiskit.compiler.assembler - Total Assembly Time - 0.06723 (ms)\n",
      "2022-07-03 16:26:55,554 - INFO - qiskit.compiler.assembler - Total Assembly Time - 0.07796 (ms)\n",
      "2022-07-03 16:26:55,555 - INFO - qiskit.compiler.assembler - Total Assembly Time - 0.06819 (ms)\n",
      "2022-07-03 16:26:55,556 - INFO - qiskit.compiler.assembler - Total Assembly Time - 0.06795 (ms)\n"
     ]
    }
   ],
   "source": [
    "## CONFIGURE BACKEND\n",
    "# This uses Qiskit, which requires installing `pytket-qiskit`.\n",
    "# For more information on how to use pytket with different backends, see:\n",
    "# https://cqcl.github.io/pytket/build/html/extensions/\n",
    "\n",
    "# Aer is a shots-based backend that is always available.\n",
    "\n",
    "from pytket.extensions.qiskit import AerBackend\n",
    "backend = AerBackend()\n",
    "\n",
    "## Having an IBMQ account gives access to the IBM emulator for noisy simulations:\n",
    "#\n",
    "# from pytket.extensions.qiskit import IBMQEmulatorBackend\n",
    "# backend = IBMQEmulatorBackend('PLACEHOLDER')\n",
    "#\n",
    "## To use a real device:\n",
    "#\n",
    "# from pytket.extensions.qiskit import IBMQBackend\n",
    "# backend = IBMQBackend('PLACEHOLDER')\n",
    "\n",
    "backend_config = {\n",
    "    'backend': backend,\n",
    "    'compilation': backend.default_compilation_pass(1),\n",
    "    'n_shots': 1024  # maximum recommended shots, reduces sampling error\n",
    "}"
   ]
  },
  {
   "cell_type": "markdown",
   "metadata": {
    "id": "lfyiDBJKwO42"
   },
   "source": [
    "**Making predictions from the quantum circuits**"
   ]
  },
  {
   "cell_type": "code",
   "execution_count": 11,
   "metadata": {
    "id": "Zm8GkivxY1JT"
   },
   "outputs": [],
   "source": [
    "from discopy.quantum import Circuit, Id, Measure\n",
    "\n",
    "\n",
    "def randint(rng, low=-1 << 63, high=1 << 63-1):\n",
    "    return rng.integers(low, high)\n",
    "\n",
    "\n",
    "def normalise(predictions):\n",
    "    # apply smoothing to predictions\n",
    "    predictions = np.abs(predictions) + 1e-9\n",
    "    return predictions / predictions.sum()\n",
    "\n",
    "\n",
    "def make_pred_fn(circuits, rng):\n",
    "    measured_circuits = [c >> Id().tensor(*[Measure()] * len(c.cod)) for c in circuits]\n",
    "    circuit_fns = [c.lambdify(*parameters) for c in measured_circuits]\n",
    "\n",
    "    def predict(params):\n",
    "        outputs = Circuit.eval(*(c_fn(*params) for c_fn in circuit_fns),\n",
    "                               **backend_config, seed=randint(rng))\n",
    "        return np.array([normalise(output.array) for output in outputs])\n",
    "    return predict\n",
    "\n",
    "\n",
    "SEED = 0\n",
    "rng = np.random.default_rng(SEED)\n",
    "\n",
    "train_pred_fn = make_pred_fn(train_circuits, rng)\n",
    "dev_pred_fn = make_pred_fn(dev_circuits, rng)\n",
    "test_pred_fn = make_pred_fn(test_circuits, rng)"
   ]
  },
  {
   "cell_type": "markdown",
   "metadata": {
    "id": "YMzEttH7wYYh"
   },
   "source": [
    "**Calculating cost function, accuracy and optimizing the circuit parameters**"
   ]
  },
  {
   "cell_type": "code",
   "execution_count": 12,
   "metadata": {
    "id": "WeVvpdSRY561",
    "scrolled": true,
    "tags": []
   },
   "outputs": [
    {
     "name": "stderr",
     "output_type": "stream",
     "text": [
      "2022-07-03 16:27:09,587 - INFO - qiskit.compiler.assembler - Total Assembly Time - 0.18644 (ms)\n",
      "2022-07-03 16:27:13,503 - INFO - qiskit.compiler.assembler - Total Assembly Time - 0.24223 (ms)\n",
      "2022-07-03 16:27:15,644 - INFO - qiskit.compiler.assembler - Total Assembly Time - 0.13280 (ms)\n",
      "2022-07-03 16:27:19,328 - INFO - qiskit.compiler.assembler - Total Assembly Time - 0.22459 (ms)\n",
      "2022-07-03 16:27:23,234 - INFO - qiskit.compiler.assembler - Total Assembly Time - 0.27990 (ms)\n",
      "2022-07-03 16:27:25,406 - INFO - qiskit.compiler.assembler - Total Assembly Time - 0.13542 (ms)\n",
      "2022-07-03 16:27:29,832 - INFO - qiskit.compiler.assembler - Total Assembly Time - 0.19240 (ms)\n",
      "2022-07-03 16:27:33,808 - INFO - qiskit.compiler.assembler - Total Assembly Time - 0.20027 (ms)\n",
      "2022-07-03 16:27:35,930 - INFO - qiskit.compiler.assembler - Total Assembly Time - 0.13709 (ms)\n",
      "2022-07-03 16:27:39,561 - INFO - qiskit.compiler.assembler - Total Assembly Time - 0.19097 (ms)\n",
      "2022-07-03 16:27:43,469 - INFO - qiskit.compiler.assembler - Total Assembly Time - 0.19097 (ms)\n",
      "2022-07-03 16:27:45,570 - INFO - qiskit.compiler.assembler - Total Assembly Time - 0.13971 (ms)\n",
      "2022-07-03 16:27:49,129 - INFO - qiskit.compiler.assembler - Total Assembly Time - 0.19169 (ms)\n",
      "2022-07-03 16:27:54,008 - INFO - qiskit.compiler.assembler - Total Assembly Time - 0.23198 (ms)\n",
      "2022-07-03 16:27:56,163 - INFO - qiskit.compiler.assembler - Total Assembly Time - 0.13137 (ms)\n",
      "2022-07-03 16:27:59,837 - INFO - qiskit.compiler.assembler - Total Assembly Time - 0.20766 (ms)\n",
      "2022-07-03 16:28:03,872 - INFO - qiskit.compiler.assembler - Total Assembly Time - 0.19693 (ms)\n",
      "2022-07-03 16:28:06,094 - INFO - qiskit.compiler.assembler - Total Assembly Time - 0.13518 (ms)\n",
      "2022-07-03 16:28:09,913 - INFO - qiskit.compiler.assembler - Total Assembly Time - 0.19550 (ms)\n",
      "2022-07-03 16:28:13,936 - INFO - qiskit.compiler.assembler - Total Assembly Time - 0.21648 (ms)\n",
      "2022-07-03 16:28:16,169 - INFO - qiskit.compiler.assembler - Total Assembly Time - 0.15855 (ms)\n",
      "2022-07-03 16:28:21,047 - INFO - qiskit.compiler.assembler - Total Assembly Time - 0.18644 (ms)\n",
      "2022-07-03 16:28:25,196 - INFO - qiskit.compiler.assembler - Total Assembly Time - 0.19312 (ms)\n",
      "2022-07-03 16:28:27,451 - INFO - qiskit.compiler.assembler - Total Assembly Time - 0.17810 (ms)\n",
      "2022-07-03 16:28:31,237 - INFO - qiskit.compiler.assembler - Total Assembly Time - 0.18406 (ms)\n",
      "2022-07-03 16:28:35,299 - INFO - qiskit.compiler.assembler - Total Assembly Time - 0.21410 (ms)\n",
      "2022-07-03 16:28:37,441 - INFO - qiskit.compiler.assembler - Total Assembly Time - 0.13041 (ms)\n",
      "2022-07-03 16:28:41,078 - INFO - qiskit.compiler.assembler - Total Assembly Time - 0.18740 (ms)\n",
      "2022-07-03 16:28:46,059 - INFO - qiskit.compiler.assembler - Total Assembly Time - 0.18382 (ms)\n",
      "2022-07-03 16:28:48,220 - INFO - qiskit.compiler.assembler - Total Assembly Time - 0.16069 (ms)\n",
      "2022-07-03 16:28:51,820 - INFO - qiskit.compiler.assembler - Total Assembly Time - 0.19264 (ms)\n",
      "2022-07-03 16:28:55,805 - INFO - qiskit.compiler.assembler - Total Assembly Time - 0.19002 (ms)\n",
      "2022-07-03 16:28:57,960 - INFO - qiskit.compiler.assembler - Total Assembly Time - 0.13113 (ms)\n",
      "2022-07-03 16:29:01,588 - INFO - qiskit.compiler.assembler - Total Assembly Time - 0.22054 (ms)\n",
      "2022-07-03 16:29:05,505 - INFO - qiskit.compiler.assembler - Total Assembly Time - 0.18382 (ms)\n",
      "2022-07-03 16:29:07,647 - INFO - qiskit.compiler.assembler - Total Assembly Time - 0.14138 (ms)\n",
      "2022-07-03 16:29:12,237 - INFO - qiskit.compiler.assembler - Total Assembly Time - 0.17691 (ms)\n",
      "2022-07-03 16:29:16,182 - INFO - qiskit.compiler.assembler - Total Assembly Time - 0.19503 (ms)\n",
      "2022-07-03 16:29:18,343 - INFO - qiskit.compiler.assembler - Total Assembly Time - 0.14067 (ms)\n",
      "2022-07-03 16:29:21,988 - INFO - qiskit.compiler.assembler - Total Assembly Time - 0.20266 (ms)\n",
      "2022-07-03 16:29:25,955 - INFO - qiskit.compiler.assembler - Total Assembly Time - 0.18406 (ms)\n",
      "2022-07-03 16:29:28,099 - INFO - qiskit.compiler.assembler - Total Assembly Time - 0.13232 (ms)\n",
      "2022-07-03 16:29:31,723 - INFO - qiskit.compiler.assembler - Total Assembly Time - 0.18120 (ms)\n",
      "2022-07-03 16:29:35,636 - INFO - qiskit.compiler.assembler - Total Assembly Time - 0.20099 (ms)\n",
      "2022-07-03 16:29:38,809 - INFO - qiskit.compiler.assembler - Total Assembly Time - 0.12350 (ms)\n",
      "2022-07-03 16:29:42,413 - INFO - qiskit.compiler.assembler - Total Assembly Time - 0.25368 (ms)\n",
      "2022-07-03 16:29:46,397 - INFO - qiskit.compiler.assembler - Total Assembly Time - 0.19479 (ms)\n",
      "2022-07-03 16:29:48,584 - INFO - qiskit.compiler.assembler - Total Assembly Time - 0.13423 (ms)\n",
      "2022-07-03 16:29:52,196 - INFO - qiskit.compiler.assembler - Total Assembly Time - 0.22459 (ms)\n",
      "2022-07-03 16:29:56,124 - INFO - qiskit.compiler.assembler - Total Assembly Time - 0.19741 (ms)\n",
      "2022-07-03 16:29:58,251 - INFO - qiskit.compiler.assembler - Total Assembly Time - 0.15211 (ms)\n",
      "2022-07-03 16:30:01,869 - INFO - qiskit.compiler.assembler - Total Assembly Time - 0.21648 (ms)\n",
      "2022-07-03 16:30:06,805 - INFO - qiskit.compiler.assembler - Total Assembly Time - 0.18501 (ms)\n",
      "2022-07-03 16:30:08,980 - INFO - qiskit.compiler.assembler - Total Assembly Time - 0.13328 (ms)\n",
      "2022-07-03 16:30:12,593 - INFO - qiskit.compiler.assembler - Total Assembly Time - 0.20003 (ms)\n",
      "2022-07-03 16:30:16,550 - INFO - qiskit.compiler.assembler - Total Assembly Time - 0.17858 (ms)\n",
      "2022-07-03 16:30:18,715 - INFO - qiskit.compiler.assembler - Total Assembly Time - 0.13161 (ms)\n",
      "2022-07-03 16:30:22,326 - INFO - qiskit.compiler.assembler - Total Assembly Time - 0.17977 (ms)\n",
      "2022-07-03 16:30:26,298 - INFO - qiskit.compiler.assembler - Total Assembly Time - 0.18191 (ms)\n",
      "2022-07-03 16:30:28,469 - INFO - qiskit.compiler.assembler - Total Assembly Time - 0.15306 (ms)\n",
      "2022-07-03 16:30:32,102 - INFO - qiskit.compiler.assembler - Total Assembly Time - 0.18024 (ms)\n",
      "2022-07-03 16:30:37,204 - INFO - qiskit.compiler.assembler - Total Assembly Time - 0.22149 (ms)\n",
      "2022-07-03 16:30:39,360 - INFO - qiskit.compiler.assembler - Total Assembly Time - 0.14138 (ms)\n",
      "2022-07-03 16:30:42,970 - INFO - qiskit.compiler.assembler - Total Assembly Time - 0.18573 (ms)\n",
      "2022-07-03 16:30:46,965 - INFO - qiskit.compiler.assembler - Total Assembly Time - 0.20432 (ms)\n",
      "2022-07-03 16:30:49,144 - INFO - qiskit.compiler.assembler - Total Assembly Time - 0.13208 (ms)\n",
      "2022-07-03 16:30:52,777 - INFO - qiskit.compiler.assembler - Total Assembly Time - 0.17762 (ms)\n",
      "2022-07-03 16:30:56,776 - INFO - qiskit.compiler.assembler - Total Assembly Time - 0.19884 (ms)\n",
      "2022-07-03 16:30:58,946 - INFO - qiskit.compiler.assembler - Total Assembly Time - 0.12898 (ms)\n",
      "2022-07-03 16:31:03,661 - INFO - qiskit.compiler.assembler - Total Assembly Time - 0.17571 (ms)\n",
      "2022-07-03 16:31:07,591 - INFO - qiskit.compiler.assembler - Total Assembly Time - 0.18048 (ms)\n",
      "2022-07-03 16:31:09,776 - INFO - qiskit.compiler.assembler - Total Assembly Time - 0.13113 (ms)\n",
      "2022-07-03 16:31:13,426 - INFO - qiskit.compiler.assembler - Total Assembly Time - 0.18501 (ms)\n",
      "2022-07-03 16:31:17,416 - INFO - qiskit.compiler.assembler - Total Assembly Time - 0.19121 (ms)\n",
      "2022-07-03 16:31:19,635 - INFO - qiskit.compiler.assembler - Total Assembly Time - 0.15736 (ms)\n",
      "2022-07-03 16:31:23,254 - INFO - qiskit.compiler.assembler - Total Assembly Time - 0.18907 (ms)\n",
      "2022-07-03 16:31:27,194 - INFO - qiskit.compiler.assembler - Total Assembly Time - 0.18144 (ms)\n",
      "2022-07-03 16:31:29,371 - INFO - qiskit.compiler.assembler - Total Assembly Time - 0.16522 (ms)\n",
      "2022-07-03 16:31:34,180 - INFO - qiskit.compiler.assembler - Total Assembly Time - 0.17929 (ms)\n",
      "2022-07-03 16:31:38,134 - INFO - qiskit.compiler.assembler - Total Assembly Time - 0.18620 (ms)\n",
      "2022-07-03 16:31:40,362 - INFO - qiskit.compiler.assembler - Total Assembly Time - 0.12732 (ms)\n",
      "2022-07-03 16:31:43,986 - INFO - qiskit.compiler.assembler - Total Assembly Time - 0.21648 (ms)\n",
      "2022-07-03 16:31:47,953 - INFO - qiskit.compiler.assembler - Total Assembly Time - 0.73814 (ms)\n",
      "2022-07-03 16:31:50,155 - INFO - qiskit.compiler.assembler - Total Assembly Time - 0.13161 (ms)\n",
      "2022-07-03 16:31:53,856 - INFO - qiskit.compiler.assembler - Total Assembly Time - 0.19217 (ms)\n",
      "2022-07-03 16:31:57,817 - INFO - qiskit.compiler.assembler - Total Assembly Time - 0.19360 (ms)\n",
      "2022-07-03 16:31:59,984 - INFO - qiskit.compiler.assembler - Total Assembly Time - 0.13304 (ms)\n",
      "2022-07-03 16:32:04,850 - INFO - qiskit.compiler.assembler - Total Assembly Time - 0.17929 (ms)\n",
      "2022-07-03 16:32:08,829 - INFO - qiskit.compiler.assembler - Total Assembly Time - 0.18454 (ms)\n",
      "2022-07-03 16:32:11,021 - INFO - qiskit.compiler.assembler - Total Assembly Time - 0.13638 (ms)\n",
      "2022-07-03 16:32:14,705 - INFO - qiskit.compiler.assembler - Total Assembly Time - 0.20456 (ms)\n",
      "2022-07-03 16:32:18,702 - INFO - qiskit.compiler.assembler - Total Assembly Time - 0.23937 (ms)\n",
      "2022-07-03 16:32:20,915 - INFO - qiskit.compiler.assembler - Total Assembly Time - 0.13185 (ms)\n",
      "2022-07-03 16:32:24,521 - INFO - qiskit.compiler.assembler - Total Assembly Time - 0.21672 (ms)\n",
      "2022-07-03 16:32:28,464 - INFO - qiskit.compiler.assembler - Total Assembly Time - 0.18787 (ms)\n",
      "2022-07-03 16:32:30,647 - INFO - qiskit.compiler.assembler - Total Assembly Time - 0.14710 (ms)\n",
      "2022-07-03 16:32:34,265 - INFO - qiskit.compiler.assembler - Total Assembly Time - 0.20862 (ms)\n",
      "2022-07-03 16:32:39,619 - INFO - qiskit.compiler.assembler - Total Assembly Time - 0.18859 (ms)\n",
      "2022-07-03 16:32:41,834 - INFO - qiskit.compiler.assembler - Total Assembly Time - 0.13375 (ms)\n",
      "2022-07-03 16:32:45,498 - INFO - qiskit.compiler.assembler - Total Assembly Time - 0.19908 (ms)\n",
      "2022-07-03 16:32:49,481 - INFO - qiskit.compiler.assembler - Total Assembly Time - 0.18978 (ms)\n",
      "2022-07-03 16:32:51,690 - INFO - qiskit.compiler.assembler - Total Assembly Time - 0.13185 (ms)\n",
      "2022-07-03 16:32:55,398 - INFO - qiskit.compiler.assembler - Total Assembly Time - 0.23246 (ms)\n",
      "2022-07-03 16:32:59,514 - INFO - qiskit.compiler.assembler - Total Assembly Time - 0.19240 (ms)\n",
      "2022-07-03 16:33:01,804 - INFO - qiskit.compiler.assembler - Total Assembly Time - 0.13375 (ms)\n",
      "2022-07-03 16:33:05,563 - INFO - qiskit.compiler.assembler - Total Assembly Time - 0.25797 (ms)\n",
      "2022-07-03 16:33:11,072 - INFO - qiskit.compiler.assembler - Total Assembly Time - 0.19264 (ms)\n",
      "2022-07-03 16:33:13,360 - INFO - qiskit.compiler.assembler - Total Assembly Time - 0.13447 (ms)\n",
      "2022-07-03 16:33:17,242 - INFO - qiskit.compiler.assembler - Total Assembly Time - 0.20647 (ms)\n",
      "2022-07-03 16:33:21,470 - INFO - qiskit.compiler.assembler - Total Assembly Time - 0.23413 (ms)\n",
      "2022-07-03 16:33:23,754 - INFO - qiskit.compiler.assembler - Total Assembly Time - 0.13566 (ms)\n",
      "2022-07-03 16:33:27,719 - INFO - qiskit.compiler.assembler - Total Assembly Time - 0.20099 (ms)\n",
      "2022-07-03 16:33:32,184 - INFO - qiskit.compiler.assembler - Total Assembly Time - 0.73099 (ms)\n",
      "2022-07-03 16:33:34,414 - INFO - qiskit.compiler.assembler - Total Assembly Time - 0.13804 (ms)\n",
      "2022-07-03 16:33:38,085 - INFO - qiskit.compiler.assembler - Total Assembly Time - 0.17905 (ms)\n",
      "2022-07-03 16:33:42,173 - INFO - qiskit.compiler.assembler - Total Assembly Time - 0.18072 (ms)\n",
      "2022-07-03 16:33:46,069 - INFO - qiskit.compiler.assembler - Total Assembly Time - 0.12350 (ms)\n",
      "2022-07-03 16:33:49,925 - INFO - qiskit.compiler.assembler - Total Assembly Time - 0.20266 (ms)\n",
      "2022-07-03 16:33:53,984 - INFO - qiskit.compiler.assembler - Total Assembly Time - 0.19097 (ms)\n",
      "2022-07-03 16:33:56,385 - INFO - qiskit.compiler.assembler - Total Assembly Time - 0.13804 (ms)\n",
      "2022-07-03 16:34:00,166 - INFO - qiskit.compiler.assembler - Total Assembly Time - 0.19431 (ms)\n",
      "2022-07-03 16:34:04,238 - INFO - qiskit.compiler.assembler - Total Assembly Time - 0.22459 (ms)\n",
      "2022-07-03 16:34:06,509 - INFO - qiskit.compiler.assembler - Total Assembly Time - 0.15759 (ms)\n",
      "2022-07-03 16:34:10,216 - INFO - qiskit.compiler.assembler - Total Assembly Time - 0.19240 (ms)\n",
      "2022-07-03 16:34:14,318 - INFO - qiskit.compiler.assembler - Total Assembly Time - 0.23460 (ms)\n",
      "2022-07-03 16:34:16,593 - INFO - qiskit.compiler.assembler - Total Assembly Time - 0.13256 (ms)\n",
      "2022-07-03 16:34:21,918 - INFO - qiskit.compiler.assembler - Total Assembly Time - 0.19455 (ms)\n",
      "2022-07-03 16:34:26,105 - INFO - qiskit.compiler.assembler - Total Assembly Time - 0.91386 (ms)\n",
      "2022-07-03 16:34:28,404 - INFO - qiskit.compiler.assembler - Total Assembly Time - 0.13041 (ms)\n",
      "2022-07-03 16:34:32,112 - INFO - qiskit.compiler.assembler - Total Assembly Time - 0.19193 (ms)\n",
      "2022-07-03 16:34:36,100 - INFO - qiskit.compiler.assembler - Total Assembly Time - 0.18859 (ms)\n",
      "2022-07-03 16:34:38,315 - INFO - qiskit.compiler.assembler - Total Assembly Time - 0.13614 (ms)\n",
      "2022-07-03 16:34:42,003 - INFO - qiskit.compiler.assembler - Total Assembly Time - 0.17691 (ms)\n",
      "2022-07-03 16:34:46,033 - INFO - qiskit.compiler.assembler - Total Assembly Time - 0.23794 (ms)\n",
      "2022-07-03 16:34:48,271 - INFO - qiskit.compiler.assembler - Total Assembly Time - 0.15974 (ms)\n",
      "2022-07-03 16:34:51,934 - INFO - qiskit.compiler.assembler - Total Assembly Time - 0.17428 (ms)\n",
      "2022-07-03 16:34:57,377 - INFO - qiskit.compiler.assembler - Total Assembly Time - 0.89765 (ms)\n",
      "2022-07-03 16:34:59,642 - INFO - qiskit.compiler.assembler - Total Assembly Time - 0.12851 (ms)\n",
      "2022-07-03 16:35:03,306 - INFO - qiskit.compiler.assembler - Total Assembly Time - 0.19336 (ms)\n",
      "2022-07-03 16:35:07,344 - INFO - qiskit.compiler.assembler - Total Assembly Time - 0.20766 (ms)\n",
      "2022-07-03 16:35:09,574 - INFO - qiskit.compiler.assembler - Total Assembly Time - 0.14877 (ms)\n",
      "2022-07-03 16:35:13,280 - INFO - qiskit.compiler.assembler - Total Assembly Time - 0.20623 (ms)\n",
      "2022-07-03 16:35:17,369 - INFO - qiskit.compiler.assembler - Total Assembly Time - 0.24414 (ms)\n",
      "2022-07-03 16:35:19,633 - INFO - qiskit.compiler.assembler - Total Assembly Time - 0.13185 (ms)\n",
      "2022-07-03 16:35:23,410 - INFO - qiskit.compiler.assembler - Total Assembly Time - 0.18144 (ms)\n",
      "2022-07-03 16:35:27,510 - INFO - qiskit.compiler.assembler - Total Assembly Time - 0.21625 (ms)\n",
      "2022-07-03 16:35:29,840 - INFO - qiskit.compiler.assembler - Total Assembly Time - 0.14496 (ms)\n",
      "2022-07-03 16:35:35,099 - INFO - qiskit.compiler.assembler - Total Assembly Time - 0.18334 (ms)\n",
      "2022-07-03 16:35:39,143 - INFO - qiskit.compiler.assembler - Total Assembly Time - 0.19145 (ms)\n",
      "2022-07-03 16:35:41,381 - INFO - qiskit.compiler.assembler - Total Assembly Time - 0.12922 (ms)\n",
      "2022-07-03 16:35:45,064 - INFO - qiskit.compiler.assembler - Total Assembly Time - 0.18191 (ms)\n",
      "2022-07-03 16:35:49,096 - INFO - qiskit.compiler.assembler - Total Assembly Time - 0.17929 (ms)\n",
      "2022-07-03 16:35:51,327 - INFO - qiskit.compiler.assembler - Total Assembly Time - 0.13304 (ms)\n",
      "2022-07-03 16:35:54,978 - INFO - qiskit.compiler.assembler - Total Assembly Time - 0.18501 (ms)\n",
      "2022-07-03 16:35:58,930 - INFO - qiskit.compiler.assembler - Total Assembly Time - 0.19741 (ms)\n",
      "2022-07-03 16:36:01,120 - INFO - qiskit.compiler.assembler - Total Assembly Time - 0.13256 (ms)\n",
      "2022-07-03 16:36:04,798 - INFO - qiskit.compiler.assembler - Total Assembly Time - 0.19360 (ms)\n",
      "2022-07-03 16:36:08,790 - INFO - qiskit.compiler.assembler - Total Assembly Time - 0.18525 (ms)\n",
      "2022-07-03 16:36:12,592 - INFO - qiskit.compiler.assembler - Total Assembly Time - 0.13685 (ms)\n",
      "2022-07-03 16:36:16,303 - INFO - qiskit.compiler.assembler - Total Assembly Time - 0.22173 (ms)\n",
      "2022-07-03 16:36:20,348 - INFO - qiskit.compiler.assembler - Total Assembly Time - 0.19360 (ms)\n",
      "2022-07-03 16:36:22,596 - INFO - qiskit.compiler.assembler - Total Assembly Time - 0.16546 (ms)\n",
      "2022-07-03 16:36:26,295 - INFO - qiskit.compiler.assembler - Total Assembly Time - 0.18859 (ms)\n",
      "2022-07-03 16:36:30,319 - INFO - qiskit.compiler.assembler - Total Assembly Time - 0.18120 (ms)\n",
      "2022-07-03 16:36:32,566 - INFO - qiskit.compiler.assembler - Total Assembly Time - 0.13733 (ms)\n",
      "2022-07-03 16:36:36,417 - INFO - qiskit.compiler.assembler - Total Assembly Time - 0.20838 (ms)\n",
      "2022-07-03 16:36:40,512 - INFO - qiskit.compiler.assembler - Total Assembly Time - 0.19455 (ms)\n",
      "2022-07-03 16:36:42,729 - INFO - qiskit.compiler.assembler - Total Assembly Time - 0.13590 (ms)\n",
      "2022-07-03 16:36:46,440 - INFO - qiskit.compiler.assembler - Total Assembly Time - 0.19288 (ms)\n",
      "2022-07-03 16:36:52,262 - INFO - qiskit.compiler.assembler - Total Assembly Time - 0.18024 (ms)\n",
      "2022-07-03 16:36:54,525 - INFO - qiskit.compiler.assembler - Total Assembly Time - 0.15593 (ms)\n",
      "2022-07-03 16:36:58,258 - INFO - qiskit.compiler.assembler - Total Assembly Time - 0.22674 (ms)\n",
      "2022-07-03 16:37:02,354 - INFO - qiskit.compiler.assembler - Total Assembly Time - 0.19217 (ms)\n",
      "2022-07-03 16:37:04,650 - INFO - qiskit.compiler.assembler - Total Assembly Time - 0.13161 (ms)\n",
      "2022-07-03 16:37:08,364 - INFO - qiskit.compiler.assembler - Total Assembly Time - 0.23866 (ms)\n",
      "2022-07-03 16:37:12,492 - INFO - qiskit.compiler.assembler - Total Assembly Time - 0.18167 (ms)\n",
      "2022-07-03 16:37:15,015 - INFO - qiskit.compiler.assembler - Total Assembly Time - 0.13709 (ms)\n",
      "2022-07-03 16:37:19,227 - INFO - qiskit.compiler.assembler - Total Assembly Time - 0.19479 (ms)\n",
      "2022-07-03 16:37:23,442 - INFO - qiskit.compiler.assembler - Total Assembly Time - 0.18835 (ms)\n",
      "2022-07-03 16:37:25,793 - INFO - qiskit.compiler.assembler - Total Assembly Time - 0.15211 (ms)\n",
      "2022-07-03 16:37:31,545 - INFO - qiskit.compiler.assembler - Total Assembly Time - 0.20170 (ms)\n",
      "2022-07-03 16:37:35,710 - INFO - qiskit.compiler.assembler - Total Assembly Time - 0.19884 (ms)\n",
      "2022-07-03 16:37:37,998 - INFO - qiskit.compiler.assembler - Total Assembly Time - 0.13781 (ms)\n",
      "2022-07-03 16:37:41,908 - INFO - qiskit.compiler.assembler - Total Assembly Time - 0.19979 (ms)\n",
      "2022-07-03 16:37:46,133 - INFO - qiskit.compiler.assembler - Total Assembly Time - 0.19336 (ms)\n",
      "2022-07-03 16:37:48,465 - INFO - qiskit.compiler.assembler - Total Assembly Time - 0.22173 (ms)\n",
      "2022-07-03 16:37:52,337 - INFO - qiskit.compiler.assembler - Total Assembly Time - 0.19717 (ms)\n",
      "2022-07-03 16:37:56,552 - INFO - qiskit.compiler.assembler - Total Assembly Time - 0.19526 (ms)\n",
      "2022-07-03 16:37:58,838 - INFO - qiskit.compiler.assembler - Total Assembly Time - 0.14806 (ms)\n",
      "2022-07-03 16:38:02,544 - INFO - qiskit.compiler.assembler - Total Assembly Time - 0.20838 (ms)\n",
      "2022-07-03 16:38:06,616 - INFO - qiskit.compiler.assembler - Total Assembly Time - 0.19121 (ms)\n",
      "2022-07-03 16:38:08,911 - INFO - qiskit.compiler.assembler - Total Assembly Time - 0.16689 (ms)\n",
      "2022-07-03 16:38:14,482 - INFO - qiskit.compiler.assembler - Total Assembly Time - 0.18263 (ms)\n",
      "2022-07-03 16:38:18,631 - INFO - qiskit.compiler.assembler - Total Assembly Time - 0.19002 (ms)\n",
      "2022-07-03 16:38:21,026 - INFO - qiskit.compiler.assembler - Total Assembly Time - 0.13256 (ms)\n",
      "2022-07-03 16:38:24,904 - INFO - qiskit.compiler.assembler - Total Assembly Time - 0.20242 (ms)\n",
      "2022-07-03 16:38:29,043 - INFO - qiskit.compiler.assembler - Total Assembly Time - 0.18573 (ms)\n",
      "2022-07-03 16:38:31,357 - INFO - qiskit.compiler.assembler - Total Assembly Time - 0.15497 (ms)\n",
      "2022-07-03 16:38:35,180 - INFO - qiskit.compiler.assembler - Total Assembly Time - 0.19908 (ms)\n",
      "2022-07-03 16:38:39,285 - INFO - qiskit.compiler.assembler - Total Assembly Time - 0.74601 (ms)\n",
      "2022-07-03 16:38:41,613 - INFO - qiskit.compiler.assembler - Total Assembly Time - 0.13590 (ms)\n",
      "2022-07-03 16:38:45,415 - INFO - qiskit.compiler.assembler - Total Assembly Time - 0.20552 (ms)\n",
      "2022-07-03 16:38:49,650 - INFO - qiskit.compiler.assembler - Total Assembly Time - 0.21791 (ms)\n",
      "2022-07-03 16:38:52,047 - INFO - qiskit.compiler.assembler - Total Assembly Time - 0.13185 (ms)\n",
      "2022-07-03 16:38:57,717 - INFO - qiskit.compiler.assembler - Total Assembly Time - 0.17905 (ms)\n",
      "2022-07-03 16:39:01,860 - INFO - qiskit.compiler.assembler - Total Assembly Time - 0.19050 (ms)\n",
      "2022-07-03 16:39:04,223 - INFO - qiskit.compiler.assembler - Total Assembly Time - 0.15831 (ms)\n",
      "2022-07-03 16:39:08,105 - INFO - qiskit.compiler.assembler - Total Assembly Time - 0.22292 (ms)\n",
      "2022-07-03 16:39:12,329 - INFO - qiskit.compiler.assembler - Total Assembly Time - 0.21601 (ms)\n",
      "2022-07-03 16:39:14,715 - INFO - qiskit.compiler.assembler - Total Assembly Time - 0.14210 (ms)\n",
      "2022-07-03 16:39:18,612 - INFO - qiskit.compiler.assembler - Total Assembly Time - 0.18930 (ms)\n",
      "2022-07-03 16:39:22,643 - INFO - qiskit.compiler.assembler - Total Assembly Time - 0.19836 (ms)\n",
      "2022-07-03 16:39:25,110 - INFO - qiskit.compiler.assembler - Total Assembly Time - 0.13828 (ms)\n",
      "2022-07-03 16:39:28,970 - INFO - qiskit.compiler.assembler - Total Assembly Time - 0.19455 (ms)\n",
      "2022-07-03 16:39:33,241 - INFO - qiskit.compiler.assembler - Total Assembly Time - 0.74100 (ms)\n",
      "2022-07-03 16:39:35,665 - INFO - qiskit.compiler.assembler - Total Assembly Time - 0.14806 (ms)\n",
      "2022-07-03 16:39:39,503 - INFO - qiskit.compiler.assembler - Total Assembly Time - 0.25988 (ms)\n",
      "2022-07-03 16:39:45,400 - INFO - qiskit.compiler.assembler - Total Assembly Time - 0.20576 (ms)\n",
      "2022-07-03 16:39:47,704 - INFO - qiskit.compiler.assembler - Total Assembly Time - 0.13089 (ms)\n",
      "2022-07-03 16:39:51,448 - INFO - qiskit.compiler.assembler - Total Assembly Time - 0.21267 (ms)\n",
      "2022-07-03 16:39:55,611 - INFO - qiskit.compiler.assembler - Total Assembly Time - 0.19312 (ms)\n",
      "2022-07-03 16:39:57,921 - INFO - qiskit.compiler.assembler - Total Assembly Time - 0.17190 (ms)\n",
      "2022-07-03 16:40:01,698 - INFO - qiskit.compiler.assembler - Total Assembly Time - 0.18072 (ms)\n",
      "2022-07-03 16:40:05,803 - INFO - qiskit.compiler.assembler - Total Assembly Time - 0.18430 (ms)\n",
      "2022-07-03 16:40:08,050 - INFO - qiskit.compiler.assembler - Total Assembly Time - 0.13709 (ms)\n",
      "2022-07-03 16:40:11,758 - INFO - qiskit.compiler.assembler - Total Assembly Time - 0.23556 (ms)\n",
      "2022-07-03 16:40:15,790 - INFO - qiskit.compiler.assembler - Total Assembly Time - 0.18334 (ms)\n",
      "2022-07-03 16:40:18,070 - INFO - qiskit.compiler.assembler - Total Assembly Time - 0.13018 (ms)\n",
      "2022-07-03 16:40:21,836 - INFO - qiskit.compiler.assembler - Total Assembly Time - 0.22221 (ms)\n",
      "2022-07-03 16:40:27,988 - INFO - qiskit.compiler.assembler - Total Assembly Time - 0.21410 (ms)\n",
      "2022-07-03 16:40:30,314 - INFO - qiskit.compiler.assembler - Total Assembly Time - 0.13757 (ms)\n",
      "2022-07-03 16:40:34,039 - INFO - qiskit.compiler.assembler - Total Assembly Time - 0.19169 (ms)\n",
      "2022-07-03 16:40:38,148 - INFO - qiskit.compiler.assembler - Total Assembly Time - 0.18382 (ms)\n",
      "2022-07-03 16:40:40,503 - INFO - qiskit.compiler.assembler - Total Assembly Time - 0.14520 (ms)\n",
      "2022-07-03 16:40:44,335 - INFO - qiskit.compiler.assembler - Total Assembly Time - 0.18597 (ms)\n",
      "2022-07-03 16:40:48,534 - INFO - qiskit.compiler.assembler - Total Assembly Time - 0.18525 (ms)\n",
      "2022-07-03 16:40:50,808 - INFO - qiskit.compiler.assembler - Total Assembly Time - 0.13304 (ms)\n",
      "2022-07-03 16:40:54,600 - INFO - qiskit.compiler.assembler - Total Assembly Time - 0.19550 (ms)\n",
      "2022-07-03 16:40:58,686 - INFO - qiskit.compiler.assembler - Total Assembly Time - 0.18811 (ms)\n",
      "2022-07-03 16:41:01,039 - INFO - qiskit.compiler.assembler - Total Assembly Time - 0.13185 (ms)\n",
      "2022-07-03 16:41:04,865 - INFO - qiskit.compiler.assembler - Total Assembly Time - 0.19050 (ms)\n"
     ]
    }
   ],
   "source": [
    "from noisyopt import minimizeSPSA\n",
    "\n",
    "def make_cost_fn(pred_fn, labels):\n",
    "    def cost_fn(params, **kwargs):\n",
    "        predictions = pred_fn(params)\n",
    "\n",
    "        cost = -np.sum(labels * np.log(predictions)) / len(labels)  # binary cross-entropy loss\n",
    "        costs.append(cost)\n",
    "\n",
    "        acc = np.sum(np.round(predictions) == labels) / len(labels) / 2  # half due to double-counting\n",
    "        accuracies.append(acc)\n",
    "\n",
    "        return cost\n",
    "\n",
    "    costs, accuracies = [], []\n",
    "    return cost_fn, costs, accuracies\n",
    "\n",
    "\n",
    "train_cost_fn, train_costs, train_accs = make_cost_fn(train_pred_fn, train_labels)\n",
    "dev_cost_fn, dev_costs, dev_accs = make_cost_fn(dev_pred_fn, dev_labels)\n",
    "\n",
    "x0 = np.array(rng.random(len(parameters)))\n",
    "np.random.seed(SEED)\n",
    "result = minimizeSPSA(train_cost_fn, x0=x0, a=0.2, c=0.06, niter=80, callback=dev_cost_fn)"
   ]
  },
  {
   "cell_type": "markdown",
   "metadata": {
    "id": "Ar0jTfNGwv2y"
   },
   "source": [
    "**Plotting the training & development set results**"
   ]
  },
  {
   "cell_type": "code",
   "execution_count": 13,
   "metadata": {
    "colab": {
     "base_uri": "https://localhost:8080/",
     "height": 421
    },
    "id": "gV1Ul7PcY9Cp",
    "outputId": "ca98d048-eda9-42fa-884a-c6e1b882536e"
   },
   "outputs": [
    {
     "name": "stderr",
     "output_type": "stream",
     "text": [
      "2022-07-03 16:41:07,223 - INFO - qiskit.compiler.assembler - Total Assembly Time - 0.13351 (ms)\n"
     ]
    },
    {
     "name": "stdout",
     "output_type": "stream",
     "text": [
      "Test accuracy: 0.7166666666666667\n"
     ]
    },
    {
     "data": {
      "image/png": "[encoded data removed]",
      "text/plain": [
       "<Figure size 720x432 with 4 Axes>"
      ]
     },
     "metadata": {
      "needs_background": "light"
     },
     "output_type": "display_data"
    }
   ],
   "source": [
    "import matplotlib.pyplot as plt\n",
    "\n",
    "fig, ((ax_tl, ax_tr), (ax_bl, ax_br)) = plt.subplots(2, 2, sharex=True, sharey='row', figsize=(10, 6))\n",
    "ax_tl.set_title('Training set')\n",
    "ax_tr.set_title('Development set')\n",
    "ax_bl.set_xlabel('Iterations')\n",
    "ax_br.set_xlabel('Iterations')\n",
    "ax_bl.set_ylabel('Accuracy')\n",
    "ax_tl.set_ylabel('Loss')\n",
    "\n",
    "colours = iter(plt.rcParams['axes.prop_cycle'].by_key()['color'])\n",
    "ax_tl.plot(train_costs[1::2], color=next(colours))  # training evaluates twice per iteration\n",
    "ax_bl.plot(train_accs[1::2], color=next(colours))   # so take every other entry\n",
    "ax_tr.plot(dev_costs, color=next(colours))\n",
    "ax_br.plot(dev_accs, color=next(colours))\n",
    "\n",
    "# print test accuracy\n",
    "test_cost_fn, _, test_accs = make_cost_fn(test_pred_fn, test_labels)\n",
    "test_cost_fn(result.x)\n",
    "print('Test accuracy:', test_accs[0])"
   ]
  },
  {
   "cell_type": "code",
   "execution_count": null,
   "metadata": {
    "id": "Lb_j0wXQZTjX"
   },
   "outputs": [],
   "source": []
  }
 ],
 "metadata": {
  "colab": {
   "collapsed_sections": [],
   "name": "MM_MC_QNLP_Quantum_Piepline_tket.ipynb",
   "provenance": []
  },
  "kernelspec": {
   "display_name": "Python 3 (ipykernel)",
   "language": "python",
   "name": "python3"
  },
  "language_info": {
   "codemirror_mode": {
    "name": "ipython",
    "version": 3
   },
   "file_extension": ".py",
   "mimetype": "text/x-python",
   "name": "python",
   "nbconvert_exporter": "python",
   "pygments_lexer": "ipython3",
   "version": "3.9.12"
  }
 },
 "nbformat": 4,
 "nbformat_minor": 4
}
